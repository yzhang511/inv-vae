{
 "cells": [
  {
   "cell_type": "code",
   "execution_count": 1,
   "id": "977d3ca1-005c-42b0-ac9f-40d14c5876d5",
   "metadata": {
    "tags": []
   },
   "outputs": [],
   "source": [
    "import numpy as np\n",
    "from pathlib import Path\n",
    "import pandas as pd\n",
    "import matplotlib\n",
    "import matplotlib.pyplot as plt \n",
    "from mpl_toolkits.axes_grid1.inset_locator import inset_axes\n",
    "%matplotlib inline\n",
    "\n",
    "import random\n",
    "seed = 666\n",
    "random.seed(seed)\n",
    "\n",
    "from sklearn.preprocessing import StandardScaler\n",
    "from sklearn.decomposition import PCA\n",
    "from sklearn.linear_model import LinearRegression\n",
    "from sklearn.metrics import mean_squared_error, explained_variance_score\n",
    "from sklearn.feature_selection import mutual_info_regression\n",
    "from sklearn.model_selection import KFold\n",
    "\n",
    "from neuroCombat import neuroCombat\n",
    "from scipy.stats import pearsonr\n",
    "\n",
    "import torch\n",
    "from torch import optim\n",
    "import torch.utils.data as utils\n",
    "from torchvision import datasets\n",
    "torch.manual_seed(seed)\n",
    "\n",
    "from inv_vae.utils.helpers import Namespace, reset_weights, min_max_standardize, preprocess_neural_data\n",
    "from inv_vae.models.vae import VAE\n",
    "from inv_vae.models.inv_vae import INV_VAE\n",
    "\n",
    "DEVICE = torch.device('cuda:0' if torch.cuda.is_available() else 'cpu')"
   ]
  },
  {
   "cell_type": "code",
   "execution_count": 2,
   "id": "cd574cbc-7d5c-4799-88a8-18f9e0641778",
   "metadata": {
    "tags": []
   },
   "outputs": [],
   "source": [
    "SMALL_SIZE = 15\n",
    "MEDIUM_SIZE = 25\n",
    "BIGGER_SIZE = 25\n",
    "\n",
    "plt.rc('font', size=MEDIUM_SIZE)         \n",
    "plt.rc('axes', titlesize=MEDIUM_SIZE)     \n",
    "plt.rc('axes', labelsize=MEDIUM_SIZE)    \n",
    "plt.rc('xtick', labelsize=MEDIUM_SIZE)   \n",
    "plt.rc('ytick', labelsize=MEDIUM_SIZE)   \n",
    "plt.rc('legend', fontsize=MEDIUM_SIZE)   \n",
    "plt.rc('figure', titlesize=MEDIUM_SIZE)\n",
    "plt.rc('axes', linewidth = 4.)"
   ]
  },
  {
   "cell_type": "markdown",
   "id": "b9dc1f9f-fa52-485c-baa2-9099e26c6541",
   "metadata": {},
   "source": [
    "load data"
   ]
  },
  {
   "cell_type": "code",
   "execution_count": 3,
   "id": "2d85c3ab-e57f-4d60-bfbd-5a8233e4068b",
   "metadata": {
    "tags": []
   },
   "outputs": [],
   "source": [
    "n_rois = 68\n",
    "count_offset = 100\n",
    "data_dir = Path(\"/home/yizi/inv-vae/data/hcp/\")\n",
    "hcp_data_dict = np.load(data_dir/\"hcp_data_dict.npy\", allow_pickle=True).item()\n",
    "brain_networks = hcp_data_dict[\"network\"] / count_offset\n",
    "traits = hcp_data_dict[\"cog\"]\n",
    "avg_trans = np.nanmean(hcp_data_dict[\"trans\"], -1)\n",
    "avg_rotat = np.nanmean(hcp_data_dict[\"rotat\"], -1)"
   ]
  },
  {
   "cell_type": "code",
   "execution_count": 4,
   "id": "9d188bd1-dc44-4252-b9fa-3d8a02ffe276",
   "metadata": {
    "tags": []
   },
   "outputs": [],
   "source": [
    "motion = np.c_[avg_trans, avg_rotat]"
   ]
  },
  {
   "cell_type": "code",
   "execution_count": 5,
   "id": "74659f38-9502-4fa1-8c30-3cb2e9472e79",
   "metadata": {
    "tags": []
   },
   "outputs": [],
   "source": [
    "pic_vocab = traits[:,6]\n",
    "pattern_complete = traits[:,10]\n",
    "pic_seq = traits[:,37]\n",
    "list_sort = traits[:,35]\n",
    "fluid_intel = traits[:,2]"
   ]
  },
  {
   "cell_type": "code",
   "execution_count": 6,
   "id": "1f8d8ad7-55ac-41a1-a4ef-39460c863edf",
   "metadata": {
    "tags": []
   },
   "outputs": [],
   "source": [
    "drop_ids = (np.isnan(pic_seq) | np.isnan(fluid_intel))\n",
    "pic_vocab = pic_vocab[~drop_ids]\n",
    "pattern_complete = pattern_complete[~drop_ids]\n",
    "list_sort = list_sort[~drop_ids]\n",
    "pic_seq = pic_seq[~drop_ids]\n",
    "fluid_intel = fluid_intel[~drop_ids]\n",
    "\n",
    "brain_networks = brain_networks[~drop_ids].reshape(-1, n_rois*n_rois)\n",
    "motion = motion[~drop_ids]\n",
    "n_subs = brain_networks.shape[0]"
   ]
  },
  {
   "cell_type": "code",
   "execution_count": 7,
   "id": "9e28e036-e4bb-461b-9db0-328d8fcbffc6",
   "metadata": {
    "tags": []
   },
   "outputs": [],
   "source": [
    "sub_ids = np.arange(n_subs).reshape(-1,1)\n",
    "big_motion_ids = sub_ids[motion[:,1] > np.quantile(motion[:,1], .9)]\n",
    "motion_group = np.zeros(n_subs)\n",
    "motion_group[big_motion_ids] = 1"
   ]
  },
  {
   "cell_type": "code",
   "execution_count": 9,
   "id": "60d2a141-3fcc-40e0-a0ae-278b079a44b9",
   "metadata": {
    "tags": []
   },
   "outputs": [],
   "source": [
    "fluid_intel /= 100.\n",
    "lr = LinearRegression().fit(motion, fluid_intel)\n",
    "yhat = lr.predict(motion)\n",
    "y_obs = fluid_intel - yhat"
   ]
  },
  {
   "cell_type": "markdown",
   "id": "a3c1d815-185d-44a1-95d3-1f99d51a38ab",
   "metadata": {},
   "source": [
    "lr + pca"
   ]
  },
  {
   "cell_type": "code",
   "execution_count": 11,
   "id": "b7ad0cd1-5ff2-4cf2-a74c-f190698c729c",
   "metadata": {
    "tags": []
   },
   "outputs": [
    {
     "name": "stdout",
     "output_type": "stream",
     "text": [
      "avg cv corr 0.09 (0.05) \n",
      "avg cv rmse 94.37 (5.91) \n",
      "[0.04268450483324371, 0.1266485403127811, 0.16457736731566244, 0.046724869524048904, 0.06836792457552988]\n",
      "[104.55053032794238, 86.83476836445278, 91.77168499376589, 96.24474279136457, 92.44950991298107]\n"
     ]
    }
   ],
   "source": [
    "kf = KFold(n_splits=5, shuffle=True, random_state=seed)\n",
    "cv_corr = np.zeros([5])\n",
    "cv_rmse = np.zeros([5])\n",
    "for i, (train_index, test_index) in enumerate(kf.split(brain_networks)):\n",
    "    pca = PCA(n_components=68)\n",
    "    scaler = StandardScaler()\n",
    "    std_data = scaler.fit_transform(brain_networks)\n",
    "    reduced_data = pca.fit_transform(brain_networks)\n",
    "    reg = LinearRegression().fit(reduced_data[train_index], y_obs[train_index])\n",
    "    y_pred = reg.predict(reduced_data[test_index])\n",
    "    cv_corr[i] = pearsonr(y_obs[test_index], y_pred)[0]\n",
    "    cv_rmse[i] = np.sqrt(mean_squared_error(y_obs[test_index], y_pred))\n",
    "print(\"avg cv corr {:.2f} ({:.2f}) \".format(np.mean(cv_corr), np.std(cv_corr)))\n",
    "print(\"avg cv rmse {:.2f} ({:.2f}) \".format(np.mean(cv_rmse), np.std(cv_rmse)))\n",
    "print(list(cv_corr))\n",
    "print(list(cv_rmse))"
   ]
  },
  {
   "cell_type": "code",
   "execution_count": 3,
   "id": "1189a789-d146-426e-9ffe-141ddca89e7b",
   "metadata": {},
   "outputs": [],
   "source": [
    "lr_pic_vocab_corr = [0.25481381497167, 0.12019977039168063, 0.24651325132474808, 0.2469645282354097, 0.018491822715932183]\n",
    "lr_pattern_complete_corr = [-0.013978220732508196, 0.16502584438646253, 0.007881021478767613, 0.07824412531929857, 0.1012349075277168]\n",
    "lr_pic_seq_corr = [0.05639675312854049, 0.2130981782677407, 0.0459507567130929, -0.008997356203558703, 0.07873467924729748]\n",
    "lr_list_sort_corr = [0.23419713855066632, 0.10600941067248315, 0.09047550549078223, -0.0800084833063702, -0.009476973231381788]\n",
    "lr_fluid_intel_corr = [0.04268450483324371, 0.1266485403127811, 0.16457736731566244, 0.046724869524048904, 0.06836792457552988]"
   ]
  },
  {
   "cell_type": "code",
   "execution_count": null,
   "id": "1ebd446c-af83-4ecd-a252-8cc83a5abc62",
   "metadata": {},
   "outputs": [],
   "source": [
    "lr_pic_vocab_rmse = [14.159727407840846, 14.848676390138529, 16.350063463429823, 14.733316895655589, 15.212331478984416]\n",
    "lr_pattern_complete_rmse = [21.37543378235459, 19.38493513053713, 20.899222092651254, 20.312619250815864, 20.869656005115772]\n",
    "lr_pic_seq_rmse = [17.846624659957243, 15.837339168030756, 16.96963049342037, 17.39528769853265, 16.722324164980492]\n",
    "lr_list_sort_rmse = [12.240411207351931, 14.091553264380353, 13.48202480488903, 13.608586840759301, 14.415043259039452]\n",
    "lr_fluid_intel_rmse = [104.55053032794238, 86.83476836445278, 91.77168499376589, 96.24474279136457, 92.44950991298107]"
   ]
  },
  {
   "cell_type": "markdown",
   "id": "edccd31d-93dd-4c24-a8d1-3088931c8307",
   "metadata": {},
   "source": [
    "sog"
   ]
  },
  {
   "cell_type": "code",
   "execution_count": 158,
   "id": "923e468f-ad98-40d7-93a1-5c6d348925bb",
   "metadata": {},
   "outputs": [],
   "source": [
    "# save data for running SOG in R\n",
    "# np.save('./saved_results/hcp_brain_networks.npy', brain_networks)\n",
    "# np.save('./saved_results/hcp_motion.npy', motion_group)\n",
    "# np.save('./saved_results/hcp_traits.npy', \n",
    "#         np.c_[pic_vocab, pattern_complete, pic_seq, list_sort, fluid_intel])"
   ]
  },
  {
   "cell_type": "code",
   "execution_count": 4,
   "id": "fad47141-553e-4349-94c4-b3671804c834",
   "metadata": {},
   "outputs": [],
   "source": [
    "# load results from SOG with K = 68\n",
    "sog_pic_vocab_corr = []\n",
    "sog_pattern_complete_corr = []\n",
    "sog_pic_seq_corr = []\n",
    "sog_list_sort_corr = []\n",
    "sog_fluid_intel_corr = []"
   ]
  },
  {
   "cell_type": "markdown",
   "id": "9c205011-c815-4e5f-ad9d-27c784210a8b",
   "metadata": {},
   "source": [
    "combat"
   ]
  },
  {
   "cell_type": "code",
   "execution_count": 12,
   "id": "e54c4cd4-1e43-4e12-b5c1-fab2c83a29cc",
   "metadata": {
    "tags": []
   },
   "outputs": [
    {
     "name": "stdout",
     "output_type": "stream",
     "text": [
      "[neuroCombat] Creating design matrix\n",
      "[neuroCombat] Standardizing data across features\n",
      "[neuroCombat] Fitting L/S model and finding priors\n",
      "[neuroCombat] Finding parametric adjustments\n"
     ]
    },
    {
     "name": "stderr",
     "output_type": "stream",
     "text": [
      "/home/yizi/anaconda3/envs/inv_vae/lib/python3.8/site-packages/neuroCombat/neuroCombat.py:324: RuntimeWarning: divide by zero encountered in divide\n",
      "  change = max((abs(g_new - g_old) / g_old).max(), (abs(d_new - d_old) / d_old).max())\n"
     ]
    },
    {
     "name": "stdout",
     "output_type": "stream",
     "text": [
      "[neuroCombat] Final adjustment of data\n",
      "(1056, 4624)\n"
     ]
    }
   ],
   "source": [
    "covars = {'motion': motion_group} \n",
    "covars = pd.DataFrame(covars)  \n",
    "adjusted_data = neuroCombat(\n",
    "    dat=np.vstack(brain_networks).transpose(),\n",
    "    covars=covars,\n",
    "    batch_col='motion')[\"data\"].transpose()\n",
    "print(adjusted_data.shape)"
   ]
  },
  {
   "cell_type": "code",
   "execution_count": 13,
   "id": "41d31a1b-e41b-4bef-ab37-f06455a15659",
   "metadata": {
    "tags": []
   },
   "outputs": [
    {
     "name": "stdout",
     "output_type": "stream",
     "text": [
      "avg cv corr 0.09 (0.05) \n",
      "avg cv rmse 94.32 (5.82) \n",
      "[0.05130439781837345, 0.11728578743359118, 0.1690315349752616, 0.049902466009428784, 0.07588619171656794]\n",
      "[104.45838750824197, 87.0726117890033, 91.66035702679648, 96.06685523607202, 92.34264669671363]\n"
     ]
    }
   ],
   "source": [
    "kf = KFold(n_splits=5, shuffle=True, random_state=seed)\n",
    "cv_corr = np.zeros([5])\n",
    "cv_rmse = np.zeros([5])\n",
    "for i, (train_index, test_index) in enumerate(kf.split(adjusted_data)):\n",
    "    pca = PCA(n_components=68)\n",
    "    scaler = StandardScaler()\n",
    "    std_data = scaler.fit_transform(adjusted_data)\n",
    "    reduced_data = pca.fit_transform(adjusted_data)\n",
    "    reg = LinearRegression().fit(reduced_data[train_index], y_obs[train_index])\n",
    "    y_pred = reg.predict(reduced_data[test_index])\n",
    "    cv_corr[i] = pearsonr(y_obs[test_index], y_pred)[0]\n",
    "    cv_rmse[i] = np.sqrt(mean_squared_error(y_obs[test_index], y_pred))\n",
    "print(\"avg cv corr {:.2f} ({:.2f}) \".format(np.mean(cv_corr), np.std(cv_corr)))\n",
    "print(\"avg cv rmse {:.2f} ({:.2f}) \".format(np.mean(cv_rmse), np.std(cv_rmse)))\n",
    "print(list(cv_corr))\n",
    "print(list(cv_rmse))"
   ]
  },
  {
   "cell_type": "code",
   "execution_count": 5,
   "id": "6d5f275f-eb57-46a9-a22d-2baed3d5b747",
   "metadata": {},
   "outputs": [],
   "source": [
    "combat_pic_vocab_corr = [0.24595687120386808, 0.10780339456281134, 0.24897799280326666, 0.23063450875657915, 0.005395307575297999]\n",
    "combat_pattern_complete_corr = [-0.006403000845518001, 0.15483705041360354, 0.0025084401589403373, 0.08751489085620645, 0.09500421042560898]\n",
    "combat_pic_seq_corr = [0.050950154592762954, 0.2113180239891573, 0.04976883510450947, 0.0055693411671734055, 0.09515017165359912]\n",
    "combat_list_sort_corr = [0.23921628706984296, 0.10718324803862977, 0.07042426273041016, -0.07313438014519219, -0.005803533953346037]\n",
    "combat_fluid_intel_corr = [0.05130439781837345, 0.11728578743359118, 0.1690315349752616, 0.049902466009428784, 0.07588619171656794]"
   ]
  },
  {
   "cell_type": "code",
   "execution_count": null,
   "id": "e69ed2c7-5ed0-4046-b4cc-8f37fc047182",
   "metadata": {},
   "outputs": [],
   "source": [
    "combat_pic_vocab_rmse = [14.181316473076933, 14.927101156672483, 16.31068674317899, 14.841758915562998, 15.394179038764676]\n",
    "combat_pattern_complete_rmse = [21.3347086613261, 19.4493558129741, 20.95071351092425, 20.266326452598015, 20.894788629499658]\n",
    "combat_pic_seq_rmse = [17.875268899044393, 15.829086346295727, 16.926918696756697, 17.293399493671313, 16.62963080050113]\n",
    "combat_list_sort_rmse = [12.212578116031828, 14.08468348436289, 13.559316303315235, 13.615294401117087, 14.405022162179764]\n",
    "combat_fluid_intel_rmse = [104.45838750824197, 87.0726117890033, 91.66035702679648, 96.06685523607202, 92.34264669671363]"
   ]
  },
  {
   "cell_type": "markdown",
   "id": "7f3e29d1-aea2-4a2b-8e01-4272becfc274",
   "metadata": {},
   "source": [
    "vae"
   ]
  },
  {
   "cell_type": "code",
   "execution_count": 14,
   "id": "38652a14-d022-4ed2-8607-49f21d836dc8",
   "metadata": {
    "tags": []
   },
   "outputs": [],
   "source": [
    "config = Namespace(n_nodes=n_rois, latent_dim=68, hidden_dim=256, nuisance_dim=0,\n",
    "    n_enc_layers=1, n_dec_layers=3, n_neighbors=32, drop_out=0.,\n",
    "    beta = 1., add_reg = True, y_dim = 1, \n",
    "    batch_size=32, n_epochs=250, lr=1e-5, device=DEVICE)"
   ]
  },
  {
   "cell_type": "code",
   "execution_count": 15,
   "id": "2bb140dc-6cf9-431d-b017-fae8f0291b04",
   "metadata": {
    "tags": []
   },
   "outputs": [],
   "source": [
    "A_mat = np.mean(brain_networks.reshape(-1,n_rois,n_rois), axis=0)\n",
    "A_mat = A_mat + A_mat.transpose()\n",
    "knn_masks = [torch.from_numpy(np.float32(np.argsort(np.argsort(A_mat, axis=-1), axis=-1) < config.n_neighbors+i)).float() for i in range(config.n_dec_layers)]"
   ]
  },
  {
   "cell_type": "code",
   "execution_count": 16,
   "id": "86c8fd65-8dbd-4c7a-8e65-4bfcb44562ff",
   "metadata": {
    "tags": []
   },
   "outputs": [],
   "source": [
    "tensor_nets = torch.stack([torch.Tensor(i) for i in list(brain_networks)]).to(torch.float32).view(-1, config.n_nodes*config.n_nodes)\n",
    "tensor_motion = torch.from_numpy(motion).to(torch.float32)\n",
    "tensor_traits = torch.from_numpy(y_obs).to(torch.float32) "
   ]
  },
  {
   "cell_type": "code",
   "execution_count": 17,
   "id": "d763507f-e132-4b91-a47e-0d1c98ef5739",
   "metadata": {
    "tags": []
   },
   "outputs": [
    {
     "name": "stdout",
     "output_type": "stream",
     "text": [
      "running GATE on fold 1 ...\n",
      "epoch: 0 train loss: 7466.801 nll: -668.374 kl: 96.449 rmse: 15.796\n",
      "epoch: 20 train loss: -8988.647 nll: -16979.439 kl: 12.804 rmse: 15.737\n",
      "epoch: 40 train loss: -9115.625 nll: -16989.758 kl: 20.167 rmse: 15.613\n",
      "epoch: 60 train loss: -9356.523 nll: -17007.009 kl: 44.073 rmse: 15.363\n",
      "epoch: 80 train loss: -9688.145 nll: -17032.157 kl: 88.887 rmse: 15.001\n",
      "epoch: 100 train loss: -10075.781 nll: -17056.977 kl: 148.135 rmse: 14.557\n",
      "epoch: 120 train loss: -10487.983 nll: -17069.314 kl: 216.594 rmse: 14.048\n",
      "epoch: 140 train loss: -10915.883 nll: -17076.099 kl: 291.333 rmse: 13.489\n",
      "epoch: 160 train loss: -11346.494 nll: -17081.361 kl: 368.777 rmse: 12.898\n",
      "epoch: 180 train loss: -11778.048 nll: -17089.387 kl: 446.170 rmse: 12.281\n",
      "epoch: 200 train loss: -12198.122 nll: -17097.052 kl: 521.181 rmse: 11.649\n",
      "epoch: 220 train loss: -12609.535 nll: -17109.711 kl: 592.655 rmse: 11.004\n",
      "epoch: 240 train loss: -13003.741 nll: -17120.576 kl: 658.701 rmse: 10.351\n",
      "test corr: 0.02\n",
      "test rmse: 104.39\n",
      "running GATE on fold 2 ...\n",
      "epoch: 0 train loss: 8150.613 nll: -691.593 kl: 112.936 rmse: 16.468\n",
      "epoch: 20 train loss: -8324.355 nll: -17019.339 kl: 12.930 rmse: 16.423\n",
      "epoch: 40 train loss: -8437.375 nll: -17030.875 kl: 18.545 rmse: 16.320\n",
      "epoch: 60 train loss: -8676.696 nll: -17050.866 kl: 39.434 rmse: 16.088\n",
      "epoch: 80 train loss: -9030.611 nll: -17075.811 kl: 84.804 rmse: 15.720\n",
      "epoch: 100 train loss: -9446.615 nll: -17095.882 kl: 151.766 rmse: 15.254\n",
      "epoch: 120 train loss: -9892.394 nll: -17106.789 kl: 230.648 rmse: 14.720\n",
      "epoch: 140 train loss: -10348.019 nll: -17110.458 kl: 314.757 rmse: 14.141\n",
      "epoch: 160 train loss: -10809.466 nll: -17113.823 kl: 399.286 rmse: 13.530\n",
      "epoch: 180 train loss: -11268.635 nll: -17116.898 kl: 483.092 rmse: 12.892\n",
      "epoch: 200 train loss: -11722.931 nll: -17123.437 kl: 564.094 rmse: 12.236\n",
      "epoch: 220 train loss: -12165.379 nll: -17129.674 kl: 641.014 rmse: 11.564\n",
      "epoch: 240 train loss: -12592.308 nll: -17138.869 kl: 715.081 rmse: 10.881\n",
      "test corr: 0.19\n",
      "test rmse: 86.32\n",
      "running GATE on fold 3 ...\n",
      "epoch: 0 train loss: 8938.089 nll: 372.801 kl: 118.004 rmse: 16.192\n",
      "epoch: 20 train loss: -8556.016 nll: -16964.031 kl: 9.238 rmse: 16.146\n",
      "epoch: 40 train loss: -8676.656 nll: -16972.989 kl: 14.283 rmse: 16.032\n",
      "epoch: 60 train loss: -8926.461 nll: -16975.822 kl: 32.894 rmse: 15.771\n",
      "epoch: 80 train loss: -9319.143 nll: -16983.054 kl: 77.001 rmse: 15.339\n",
      "epoch: 100 train loss: -9790.881 nll: -16987.618 kl: 146.677 rmse: 14.781\n",
      "epoch: 120 train loss: -10292.939 nll: -16986.598 kl: 232.623 rmse: 14.145\n",
      "epoch: 140 train loss: -10805.728 nll: -16985.980 kl: 327.337 rmse: 13.458\n",
      "epoch: 160 train loss: -11312.631 nll: -16986.989 kl: 425.185 rmse: 12.740\n",
      "epoch: 180 train loss: -11803.077 nll: -16989.280 kl: 522.256 rmse: 12.004\n",
      "epoch: 200 train loss: -12272.834 nll: -16994.676 kl: 615.354 rmse: 11.258\n",
      "epoch: 220 train loss: -12720.986 nll: -17004.057 kl: 702.932 rmse: 10.505\n",
      "epoch: 240 train loss: -13145.207 nll: -17019.544 kl: 784.498 rmse: 9.754\n",
      "test corr: 0.16\n",
      "test rmse: 93.28\n",
      "running GATE on fold 4 ...\n",
      "epoch: 0 train loss: 9011.144 nll: 371.005 kl: 159.601 rmse: 16.236\n",
      "epoch: 20 train loss: -8523.705 nll: -16959.019 kl: 12.062 rmse: 16.180\n",
      "epoch: 40 train loss: -8637.154 nll: -16968.000 kl: 17.172 rmse: 16.074\n",
      "epoch: 60 train loss: -8849.633 nll: -16971.877 kl: 35.943 rmse: 15.852\n",
      "epoch: 80 train loss: -9172.325 nll: -16981.763 kl: 77.740 rmse: 15.501\n",
      "epoch: 100 train loss: -9556.628 nll: -16986.315 kl: 141.845 rmse: 15.049\n",
      "epoch: 120 train loss: -9971.360 nll: -16987.150 kl: 219.457 rmse: 14.533\n",
      "epoch: 140 train loss: -10408.646 nll: -16989.907 kl: 304.546 rmse: 13.968\n",
      "epoch: 160 train loss: -10854.982 nll: -16997.648 kl: 391.261 rmse: 13.371\n",
      "epoch: 180 train loss: -11305.853 nll: -17013.794 kl: 477.105 rmse: 12.753\n",
      "epoch: 200 train loss: -11750.424 nll: -17030.988 kl: 560.254 rmse: 12.115\n",
      "epoch: 220 train loss: -12177.716 nll: -17040.308 kl: 640.006 rmse: 11.458\n",
      "epoch: 240 train loss: -12585.331 nll: -17044.815 kl: 714.224 rmse: 10.789\n",
      "test corr: 0.07\n",
      "test rmse: 95.13\n",
      "running GATE on fold 5 ...\n",
      "epoch: 0 train loss: 9210.937 nll: 507.956 kl: 115.587 rmse: 16.276\n",
      "epoch: 20 train loss: -8440.602 nll: -16974.829 kl: 12.850 rmse: 16.211\n",
      "epoch: 40 train loss: -8579.563 nll: -16985.303 kl: 18.986 rmse: 16.081\n",
      "epoch: 60 train loss: -8842.721 nll: -16996.783 kl: 40.718 rmse: 15.813\n",
      "epoch: 80 train loss: -9224.632 nll: -17012.138 kl: 88.440 rmse: 15.400\n",
      "epoch: 100 train loss: -9672.828 nll: -17025.703 kl: 159.750 rmse: 14.880\n",
      "epoch: 120 train loss: -10162.839 nll: -17050.300 kl: 245.269 rmse: 14.294\n",
      "epoch: 140 train loss: -10652.407 nll: -17063.335 kl: 335.266 rmse: 13.667\n",
      "epoch: 160 train loss: -11138.314 nll: -17072.998 kl: 425.760 rmse: 13.009\n",
      "epoch: 180 train loss: -11606.280 nll: -17077.888 kl: 513.543 rmse: 12.337\n",
      "epoch: 200 train loss: -12061.481 nll: -17085.207 kl: 598.137 rmse: 11.652\n",
      "epoch: 220 train loss: -12501.165 nll: -17096.382 kl: 676.895 rmse: 10.959\n",
      "epoch: 240 train loss: -12921.155 nll: -17110.194 kl: 751.973 rmse: 10.259\n",
      "test corr: 0.03\n",
      "test rmse: 94.79\n",
      "avg cv corr 0.09 (0.07) \n",
      "avg cv rmse 94.78 (5.77) \n",
      "[0.016335833481099005, 0.18702842333000153, 0.16393074760063875, 0.07313471229907363, 0.027677586579628696]\n",
      "[104.39091432624383, 86.32464429419905, 93.27909918719274, 95.13017661522039, 94.79403931769427]\n"
     ]
    }
   ],
   "source": [
    "kf = KFold(n_splits=5, shuffle=True, random_state=666)\n",
    "cv_corr = np.zeros([5])\n",
    "cv_rmse = np.zeros([5])\n",
    "for i, (train_index, test_index) in enumerate(kf.split(brain_networks)):\n",
    "    print(f'running GATE on fold {i+1} ...')\n",
    "    vae = VAE(config).to(config.device)\n",
    "    vae.apply(reset_weights)\n",
    "    vae.set_mask(knn_masks)\n",
    "    optimizer = optim.Adam(vae.parameters(), lr=config.lr, weight_decay=1e-1) \n",
    "\n",
    "    train_set = utils.TensorDataset(tensor_nets[train_index], tensor_motion[train_index], tensor_traits[train_index] )\n",
    "    test_set = utils.TensorDataset(tensor_nets[test_index], tensor_motion[test_index],  tensor_traits[test_index])\n",
    "    train_loader = utils.DataLoader(train_set, config.batch_size) \n",
    "    test_loader = utils.DataLoader(test_set, config.batch_size)\n",
    "    \n",
    "    for epoch in range(config.n_epochs):\n",
    "        _ = vae.reg_train(epoch, train_loader, vae, optimizer, config.device, n_epoch_display=20)\n",
    "    _, y_pred, _, _ = vae(tensor_nets[test_index].to(torch.float32).view(-1, config.n_nodes*config.n_nodes).to(config.device))\n",
    "    cv_corr[i] = pearsonr(y_obs[test_index], y_pred.detach().cpu().numpy().flatten())[0]\n",
    "    cv_rmse[i] = np.sqrt(mean_squared_error(y_obs[test_index], y_pred.detach().cpu().numpy().flatten()))\n",
    "    print(\"test corr: {:.2f}\".format(cv_corr[i]))\n",
    "    print(\"test rmse: {:.2f}\".format(cv_rmse[i]))\n",
    "print(\"avg cv corr {:.2f} ({:.2f}) \".format(np.mean(cv_corr), np.std(cv_corr)))\n",
    "print(\"avg cv rmse {:.2f} ({:.2f}) \".format(np.mean(cv_rmse), np.std(cv_rmse)))\n",
    "print(list(cv_corr))\n",
    "print(list(cv_rmse))"
   ]
  },
  {
   "cell_type": "code",
   "execution_count": 6,
   "id": "5c1eb2c4-0d6b-4a54-b1b5-4b06c5e407a9",
   "metadata": {},
   "outputs": [],
   "source": [
    "vae_pic_vocab_corr = [0.32116461145396763, 0.16483408801342342, 0.1763688710095428, 0.18803798961358537, 0.16367292974841804]\n",
    "vae_pattern_complete_corr = [0.018297848030065237, 0.0741663884757398, 0.11199813942992269, 0.007917562461809555, 0.1121932828688083]\n",
    "vae_pic_seq_corr = [0.06962548304500292, 0.20492371705040643, 0.17578534299318455, 0.050004425596698585, 0.16215441096208266]\n",
    "vae_list_sort_corr = [0.2770363136513487, 0.1800080629216704, 0.13740136268905997, -0.09099795189035413, 0.11541601896593334]\n",
    "vae_fluid_intel_corr = [0.020789487655943246, 0.16665080466613125, 0.16928935275852477, 0.054260383343835046, 0.04063967014550966]"
   ]
  },
  {
   "cell_type": "code",
   "execution_count": null,
   "id": "71db2e89-9673-48b3-a93e-ec1efa835c6c",
   "metadata": {},
   "outputs": [],
   "source": [
    "vae_pic_vocab_rmse = [14.087150464386973, 15.197460332843615, 17.282476747435787, 15.539362207410335, 14.782041752837397]\n",
    "vae_pattern_complete_rmse = [21.360229117666425, 20.29926642553152, 20.505063197187166, 20.756366450712587, 21.06882045138279]\n",
    "vae_pic_seq_rmse = [17.786751867356084, 15.987566305087261, 16.216404123909147, 16.9450942223509, 16.347368088976758]\n",
    "vae_list_sort_rmse = [12.229843729120152, 14.099380201410812, 13.77902538075834, 14.915036309586151, 14.336955255809952]\n",
    "vae_fluid_intel_rmse = [106.71181025089788, 87.60594140608912, 94.91845642639717, 97.63659052935947, 95.11825863449339]"
   ]
  },
  {
   "cell_type": "markdown",
   "id": "b1b168b1-0468-4be4-b23d-8cbc36fd5099",
   "metadata": {},
   "source": [
    "inv-vae"
   ]
  },
  {
   "cell_type": "code",
   "execution_count": 21,
   "id": "153a504c-5716-4a4a-a851-d2a463137ef0",
   "metadata": {
    "tags": []
   },
   "outputs": [],
   "source": [
    "# config = Namespace(n_nodes=68, latent_dim=68, hidden_dim=256, nuisance_dim=2,\n",
    "#     n_enc_layers=1, n_dec_layers=3, n_neighbors=32, drop_out=0., \n",
    "#     beta = .01, gamma = 0., add_reg = True, y_dim = 1,\n",
    "#     batch_size=32, n_epochs=150, lr=1e-5, device=DEVICE)\n",
    "\n",
    "config = Namespace(n_nodes=68, latent_dim=68, hidden_dim=256, nuisance_dim=2,\n",
    "    n_enc_layers=1, n_dec_layers=3, n_neighbors=32, drop_out=0., \n",
    "    beta = 100, gamma = .1, add_reg = True, y_dim = 1,\n",
    "    batch_size=32, n_epochs=250, lr=1e-5, device=DEVICE)"
   ]
  },
  {
   "cell_type": "code",
   "execution_count": 22,
   "id": "2a720610-645a-4894-b98a-f6c5126e683d",
   "metadata": {
    "tags": []
   },
   "outputs": [],
   "source": [
    "tensor_nets = torch.stack([torch.Tensor(i) for i in list(brain_networks)]).to(torch.float32).view(-1, config.n_nodes*config.n_nodes)\n",
    "tensor_motion = torch.from_numpy(motion).to(torch.float32)\n",
    "tensor_traits = torch.from_numpy(y_obs).to(torch.float32) "
   ]
  },
  {
   "cell_type": "code",
   "execution_count": 23,
   "id": "1f59b8dd-40d0-4c6f-aefb-e664286b9c4e",
   "metadata": {
    "tags": []
   },
   "outputs": [
    {
     "name": "stdout",
     "output_type": "stream",
     "text": [
      "running inv-VAE on fold 1 ...\n",
      "epoch: 0 train loss: 8226.506 nll: 461.718 kl: 182.376 inv_loss: 1.385 rmse: 15.801\n",
      "epoch: 20 train loss: 6326.836 nll: -16976.472 kl: 194.496 inv_loss: 0.262 rmse: 15.759\n",
      "epoch: 40 train loss: 6237.677 nll: -16983.315 kl: 291.797 inv_loss: 0.264 rmse: 15.670\n",
      "epoch: 60 train loss: 6036.357 nll: -16983.352 kl: 724.020 inv_loss: 0.311 rmse: 15.462\n",
      "epoch: 80 train loss: 5696.382 nll: -16983.023 kl: 1954.575 inv_loss: 0.358 rmse: 15.109\n",
      "epoch: 100 train loss: 5250.140 nll: -16984.485 kl: 4277.335 inv_loss: 0.386 rmse: 14.637\n",
      "epoch: 120 train loss: 4744.765 nll: -16986.428 kl: 7587.506 inv_loss: 0.396 rmse: 14.090\n",
      "epoch: 140 train loss: 4215.844 nll: -16987.922 kl: 11717.547 inv_loss: 0.394 rmse: 13.496\n",
      "epoch: 160 train loss: 3683.467 nll: -16987.548 kl: 16442.814 inv_loss: 0.389 rmse: 12.872\n",
      "epoch: 180 train loss: 3161.800 nll: -16987.927 kl: 21574.291 inv_loss: 0.380 rmse: 12.229\n",
      "epoch: 200 train loss: 2655.869 nll: -16987.822 kl: 27101.749 inv_loss: 0.370 rmse: 11.570\n",
      "epoch: 220 train loss: 2175.866 nll: -16985.512 kl: 32755.746 inv_loss: 0.357 rmse: 10.906\n",
      "epoch: 240 train loss: 1718.758 nll: -16985.636 kl: 38322.685 inv_loss: 0.345 rmse: 10.233\n",
      "test corr: 0.02\n",
      "test rmse: 106.71\n",
      "running inv-VAE on fold 2 ...\n",
      "epoch: 0 train loss: 8991.290 nll: -0.239 kl: 140.802 inv_loss: 2.510 rmse: 16.477\n",
      "epoch: 20 train loss: 7035.230 nll: -17015.145 kl: 85.985 inv_loss: 0.238 rmse: 16.453\n",
      "epoch: 40 train loss: 7001.762 nll: -17023.877 kl: 107.186 inv_loss: 0.183 rmse: 16.428\n",
      "epoch: 60 train loss: 6937.206 nll: -17024.546 kl: 178.472 inv_loss: 0.200 rmse: 16.364\n",
      "epoch: 80 train loss: 6799.399 nll: -17024.006 kl: 448.611 inv_loss: 0.240 rmse: 16.228\n",
      "epoch: 100 train loss: 6546.758 nll: -17025.180 kl: 1237.290 inv_loss: 0.297 rmse: 15.977\n",
      "epoch: 120 train loss: 6158.518 nll: -17027.974 kl: 2973.464 inv_loss: 0.348 rmse: 15.589\n",
      "epoch: 140 train loss: 5656.648 nll: -17030.684 kl: 5928.095 inv_loss: 0.380 rmse: 15.076\n",
      "epoch: 160 train loss: 5088.916 nll: -17031.326 kl: 10056.121 inv_loss: 0.394 rmse: 14.478\n",
      "epoch: 180 train loss: 4499.217 nll: -17031.231 kl: 15231.092 inv_loss: 0.394 rmse: 13.830\n",
      "epoch: 200 train loss: 3907.199 nll: -17030.267 kl: 21156.736 inv_loss: 0.388 rmse: 13.149\n",
      "epoch: 220 train loss: 3326.808 nll: -17028.909 kl: 27392.314 inv_loss: 0.377 rmse: 12.442\n",
      "epoch: 240 train loss: 2759.826 nll: -17027.935 kl: 34075.893 inv_loss: 0.365 rmse: 11.710\n",
      "test corr: 0.17\n",
      "test rmse: 87.61\n",
      "running inv-VAE on fold 3 ...\n",
      "epoch: 0 train loss: 8631.838 nll: 341.125 kl: 152.761 inv_loss: 1.473 rmse: 16.193\n",
      "epoch: 20 train loss: 6740.970 nll: -16963.940 kl: 92.158 inv_loss: 0.192 rmse: 16.165\n",
      "epoch: 40 train loss: 6675.468 nll: -16971.995 kl: 147.740 inv_loss: 0.193 rmse: 16.102\n",
      "epoch: 60 train loss: 6521.353 nll: -16972.184 kl: 394.012 inv_loss: 0.249 rmse: 15.946\n",
      "epoch: 80 train loss: 6217.422 nll: -16971.423 kl: 1224.549 inv_loss: 0.311 rmse: 15.639\n",
      "epoch: 100 train loss: 5756.771 nll: -16972.180 kl: 3189.995 inv_loss: 0.364 rmse: 15.166\n",
      "epoch: 120 train loss: 5188.770 nll: -16974.074 kl: 6442.776 inv_loss: 0.391 rmse: 14.568\n",
      "epoch: 140 train loss: 4568.276 nll: -16975.690 kl: 10857.069 inv_loss: 0.401 rmse: 13.887\n",
      "epoch: 160 train loss: 3941.227 nll: -16975.146 kl: 16112.974 inv_loss: 0.400 rmse: 13.165\n",
      "epoch: 180 train loss: 3330.597 nll: -16977.073 kl: 22150.481 inv_loss: 0.391 rmse: 12.423\n",
      "epoch: 200 train loss: 2750.830 nll: -16974.850 kl: 28707.765 inv_loss: 0.381 rmse: 11.675\n",
      "epoch: 220 train loss: 2206.773 nll: -16975.167 kl: 35461.450 inv_loss: 0.368 rmse: 10.925\n",
      "epoch: 240 train loss: 1701.345 nll: -16974.225 kl: 42588.029 inv_loss: 0.356 rmse: 10.179\n",
      "test corr: 0.17\n",
      "test rmse: 94.92\n",
      "running inv-VAE on fold 4 ...\n",
      "epoch: 0 train loss: 8627.051 nll: -221.998 kl: 205.860 inv_loss: 1.732 rmse: 16.231\n",
      "epoch: 20 train loss: 6773.956 nll: -16958.180 kl: 144.157 inv_loss: 0.248 rmse: 16.201\n",
      "epoch: 40 train loss: 6708.801 nll: -16963.194 kl: 221.545 inv_loss: 0.227 rmse: 16.141\n",
      "epoch: 60 train loss: 6572.576 nll: -16962.317 kl: 473.867 inv_loss: 0.250 rmse: 16.006\n",
      "epoch: 80 train loss: 6321.252 nll: -16962.202 kl: 1231.111 inv_loss: 0.293 rmse: 15.755\n",
      "epoch: 100 train loss: 5948.374 nll: -16963.314 kl: 2918.617 inv_loss: 0.335 rmse: 15.377\n",
      "epoch: 120 train loss: 5480.747 nll: -16965.185 kl: 5751.628 inv_loss: 0.364 rmse: 14.894\n",
      "epoch: 140 train loss: 4959.219 nll: -16968.581 kl: 9655.601 inv_loss: 0.376 rmse: 14.338\n",
      "epoch: 160 train loss: 4421.920 nll: -16968.532 kl: 14394.798 inv_loss: 0.379 rmse: 13.744\n",
      "epoch: 180 train loss: 3888.478 nll: -16968.025 kl: 19709.878 inv_loss: 0.373 rmse: 13.129\n",
      "epoch: 200 train loss: 3365.698 nll: -16967.874 kl: 25389.071 inv_loss: 0.363 rmse: 12.497\n",
      "epoch: 220 train loss: 2865.474 nll: -16966.359 kl: 31356.467 inv_loss: 0.351 rmse: 11.859\n",
      "epoch: 240 train loss: 2385.887 nll: -16967.902 kl: 37443.420 inv_loss: 0.338 rmse: 11.214\n",
      "test corr: 0.05\n",
      "test rmse: 97.64\n",
      "running inv-VAE on fold 5 ...\n",
      "epoch: 0 train loss: 8814.161 nll: 27.980 kl: 202.977 inv_loss: 2.222 rmse: 16.276\n",
      "epoch: 20 train loss: 6894.993 nll: -16972.491 kl: 101.758 inv_loss: 0.233 rmse: 16.258\n",
      "epoch: 40 train loss: 6849.437 nll: -16980.003 kl: 124.949 inv_loss: 0.203 rmse: 16.217\n",
      "epoch: 60 train loss: 6754.458 nll: -16981.356 kl: 231.529 inv_loss: 0.231 rmse: 16.123\n",
      "epoch: 80 train loss: 6563.048 nll: -16981.281 kl: 606.467 inv_loss: 0.277 rmse: 15.931\n",
      "epoch: 100 train loss: 6245.727 nll: -16983.352 kl: 1605.591 inv_loss: 0.336 rmse: 15.611\n",
      "epoch: 120 train loss: 5817.342 nll: -16988.698 kl: 3571.010 inv_loss: 0.369 rmse: 15.174\n",
      "epoch: 140 train loss: 5323.932 nll: -16989.017 kl: 6535.454 inv_loss: 0.388 rmse: 14.657\n",
      "epoch: 160 train loss: 4800.997 nll: -16987.245 kl: 10368.975 inv_loss: 0.395 rmse: 14.091\n",
      "epoch: 180 train loss: 4272.696 nll: -16988.801 kl: 14780.056 inv_loss: 0.394 rmse: 13.496\n",
      "epoch: 200 train loss: 3750.774 nll: -16986.478 kl: 19778.976 inv_loss: 0.385 rmse: 12.883\n",
      "epoch: 220 train loss: 3237.309 nll: -16987.909 kl: 25320.870 inv_loss: 0.372 rmse: 12.252\n",
      "epoch: 240 train loss: 2739.428 nll: -16985.531 kl: 31188.044 inv_loss: 0.359 rmse: 11.607\n",
      "test corr: 0.04\n",
      "test rmse: 95.12\n",
      "avg cv corr 0.09 (0.06) \n",
      "avg cv rmse 96.40 (6.15) \n",
      "[0.020789487655943246, 0.16665080466613125, 0.16928935275852477, 0.054260383343835046, 0.04063967014550966]\n",
      "[106.71181025089788, 87.60594140608912, 94.91845642639717, 97.63659052935947, 95.11825863449339]\n"
     ]
    }
   ],
   "source": [
    "kf = KFold(n_splits=5, shuffle=True, random_state=666)\n",
    "cv_corr = np.zeros([5])\n",
    "cv_rmse = np.zeros([5])\n",
    "for i, (train_index, test_index) in enumerate(kf.split(brain_networks)):\n",
    "    print(f'running inv-VAE on fold {i+1} ...')\n",
    "    inv_vae = INV_VAE(config).to(config.device)\n",
    "    inv_vae.apply(reset_weights)\n",
    "    inv_vae.set_mask(knn_masks)\n",
    "    optimizer = optim.Adam(inv_vae.parameters(), lr=config.lr, weight_decay=1e-1) \n",
    "\n",
    "    train_set = utils.TensorDataset(tensor_nets[train_index], tensor_motion[train_index], tensor_traits[train_index] )\n",
    "    test_set = utils.TensorDataset(tensor_nets[test_index], tensor_motion[test_index],  tensor_traits[test_index])\n",
    "    train_loader = utils.DataLoader(train_set, config.batch_size) \n",
    "    test_loader = utils.DataLoader(test_set, config.batch_size)\n",
    "    \n",
    "    for epoch in range(config.n_epochs):\n",
    "        _ = inv_vae.reg_train(epoch, train_loader, inv_vae, optimizer, config.device, n_epoch_display=20)\n",
    "    _, y_pred, _, _ = inv_vae(tensor_nets[test_index].to(torch.float32).view(-1, config.n_nodes*config.n_nodes).to(config.device),\n",
    "                             tensor_motion[test_index].to(config.device))\n",
    "    cv_corr[i] = pearsonr(y_obs[test_index], y_pred.detach().cpu().numpy().flatten())[0]\n",
    "    cv_rmse[i] = np.sqrt(mean_squared_error(y_obs[test_index], y_pred.detach().cpu().numpy().flatten()))\n",
    "    print(\"test corr: {:.2f}\".format(cv_corr[i]))\n",
    "    print(\"test rmse: {:.2f}\".format(cv_rmse[i]))\n",
    "print(\"avg cv corr {:.2f} ({:.2f}) \".format(np.mean(cv_corr), np.std(cv_corr)))\n",
    "print(\"avg cv rmse {:.2f} ({:.2f}) \".format(np.mean(cv_rmse), np.std(cv_rmse)))\n",
    "print(list(cv_corr))\n",
    "print(list(cv_rmse))"
   ]
  },
  {
   "cell_type": "code",
   "execution_count": 20,
   "id": "17b96c88-9f7b-478d-944b-c24114a9883e",
   "metadata": {
    "tags": []
   },
   "outputs": [],
   "source": [
    "inv_pic_vocab_corr = [0.3408235166349346, 0.18377479760444285, 0.23135428142944814, 0.2078194629330899, 0.2296442551744491]\n",
    "inv_pattern_complete_corr  = [0.00435675836646222, 0.103061928506115, 0.052408276456918076, 0.06653505341288381, 0.16293230323673755]\n",
    "inv_pic_seq_corr = [0.08114182384575469, 0.21789202010295675, 0.12819005658012736, 0.06887621825097817, 0.2323625762711067]\n",
    "inv_list_sort_corr = [0.2779611267610784, 0.15771397047336144, 0.2328881199311603, -0.011666067360179633, 0.13614389206790578]\n",
    "inv_fluid_intel_corr = [0.016335833481099005, 0.18702842333000153, 0.16393074760063875, 0.07313471229907363, 0.027677586579628696]"
   ]
  },
  {
   "cell_type": "code",
   "execution_count": null,
   "id": "744c2be1-04cb-47a3-a02d-59aeeade1a34",
   "metadata": {},
   "outputs": [],
   "source": [
    "inv_pic_vocab_rmse = [13.936918262351721, 14.605893272820797, 16.746287605250778, 15.282727438862377, 14.082709128418646]\n",
    "inv_pattern_complete_rmse = [21.94071675890447, 20.6302618533686, 21.218487628492902, 20.815951453685077, 20.640844160968243]\n",
    "inv_pic_seq_rmse = [17.996430898916213, 16.245800986211258, 16.84228340772536, 17.32503289949473, 16.196700327400624]\n",
    "inv_list_sort_rmse = [12.06111886442831, 13.87153958402313, 12.90996635153562, 13.372555393664552, 13.749986895725984]\n",
    "inv_fluid_intel_rmse = [104.39091432624383, 86.32464429419905, 93.27909918719274, 95.13017661522039, 94.79403931769427]"
   ]
  },
  {
   "cell_type": "markdown",
   "id": "6519f5ac-23f3-4d6a-94ca-2ab33657d888",
   "metadata": {},
   "source": [
    "error-bar plots"
   ]
  },
  {
   "cell_type": "code",
   "execution_count": 8,
   "id": "74b5f740-db91-4c67-9176-9e693b96f027",
   "metadata": {},
   "outputs": [],
   "source": [
    "lr_pca = np.c_[lr_pic_vocab_corr, lr_pattern_complete_corr, lr_pic_seq_corr, lr_list_sort_corr, lr_fluid_intel_corr]\n",
    "combat = np.c_[combat_pic_vocab_corr, combat_pattern_complete_corr, combat_pic_seq_corr, combat_list_sort_corr, combat_fluid_intel_corr]\n",
    "sog = np.c_[sog_pic_vocab_corr, sog_pattern_complete_corr, sog_pic_seq_corr, sog_list_sort_corr, sog_fluid_intel_corr]\n",
    "vae = np.c_[vae_pic_vocab_corr, vae_pattern_complete_corr, vae_pic_seq_corr, vae_list_sort_corr, vae_fluid_intel_corr]\n",
    "inv_vae = np.c_[inv_pic_vocab_corr, inv_pattern_complete_corr, inv_pic_seq_corr, inv_list_sort_corr, inv_fluid_intel_corr]"
   ]
  },
  {
   "cell_type": "code",
   "execution_count": 44,
   "id": "1b8defcc-7529-42ac-bffc-8fd718c15374",
   "metadata": {},
   "outputs": [
    {
     "data": {
      "image/png": "[encoded data removed]",
      "text/plain": [
       "<Figure size 1440x288 with 1 Axes>"
      ]
     },
     "metadata": {
      "needs_background": "light"
     },
     "output_type": "display_data"
    }
   ],
   "source": [
    "ticks = ['picture vocab', 'pattern complete', 'picture sequence', 'list sorting', 'fluid intelligence']\n",
    "\n",
    "fig = plt.figure(figsize=(20, 4))\n",
    "ax = fig.add_subplot(111)\n",
    "\n",
    "mins, maxs, means, stds = lr_pca.min(0), lr_pca.max(0), lr_pca.mean(0), lr_pca.std(0)\n",
    "plt.errorbar(np.arange(len(ticks))*2-.4, means, stds, \n",
    "                 fmt='.k', ecolor='gold', lw=9, label='LR-PCA')\n",
    "plt.errorbar(np.arange(len(ticks))*2-.4, means, [means - mins, maxs - means],\n",
    "                 fmt='.k', ecolor='gray', lw=3)\n",
    "\n",
    "mins, maxs, means, stds = combat.min(0), combat.max(0), combat.mean(0), combat.std(0)\n",
    "plt.errorbar(np.arange(len(ticks))*2-.2, means, stds, \n",
    "                 fmt='.k', ecolor='lime', lw=9, label='ComBat')\n",
    "plt.errorbar(np.arange(len(ticks))*2-.2, means, [means - mins, maxs - means],\n",
    "                 fmt='.k', ecolor='gray', lw=3)\n",
    "\n",
    "mins, maxs, means, stds = sog.min(0), sog.max(0), sog.mean(0), sog.std(0)\n",
    "plt.errorbar(np.arange(len(ticks))*2, means, stds, \n",
    "                 fmt='.k', ecolor='cyan', lw=9, label='SOG')\n",
    "plt.errorbar(np.arange(len(ticks))*2, means, [means - mins, maxs - means],\n",
    "                 fmt='.k', ecolor='gray', lw=3)\n",
    "\n",
    "mins, maxs, means, stds = vae.min(0), vae.max(0), vae.mean(0), vae.std(0)\n",
    "plt.errorbar(np.arange(len(ticks))*2+.2, means, stds, \n",
    "             fmt='.k', ecolor='blue', lw=9, label='GATE')\n",
    "plt.errorbar(np.arange(len(ticks))*2+.2, means, [means - mins, maxs - means],\n",
    "                 fmt='.k', ecolor='gray', lw=3)\n",
    "\n",
    "mins, maxs, means, stds = inv_vae.min(0), inv_vae.max(0), inv_vae.mean(0), inv_vae.std(0)\n",
    "plt.errorbar(np.arange(len(ticks))*2+.4, means, stds, \n",
    "             fmt='.k', ecolor='red', lw=9, label='inv-VAE')\n",
    "plt.errorbar(np.arange(len(ticks))*2+.4, means, [means - mins, maxs - means],\n",
    "                 fmt='.k', ecolor='gray', lw=3)\n",
    "\n",
    "\n",
    "ax.legend(loc='upper center', bbox_to_anchor=(0.5, 1.45), ncol=5, fancybox=False, shadow=False, frameon=False)\n",
    "\n",
    "ax.set_xticks(np.arange(0, len(ticks) * 2, 2), ticks)\n",
    "ax.set_xlim(-0.75, len(ticks)*2-1.25)\n",
    "ax.set_ylabel('corr');\n",
    "\n",
    "ax.tick_params(axis='both', length=10, width=3)\n",
    "for axis in ['top','bottom','left','right']:\n",
    "    ax.spines[axis].set_linewidth(4)\n",
    "    \n",
    "plt.tight_layout()\n",
    "# plt.savefig('saved_figs/inv_vae_fig7_hcp.png', facecolor='white', dpi=400)"
   ]
  },
  {
   "cell_type": "code",
   "execution_count": null,
   "id": "fc5c25d7-5ea0-4b3f-b254-db0537e7a683",
   "metadata": {},
   "outputs": [],
   "source": []
  }
 ],
 "metadata": {
  "kernelspec": {
   "display_name": "Python 3 (ipykernel)",
   "language": "python",
   "name": "python3"
  },
  "language_info": {
   "codemirror_mode": {
    "name": "ipython",
    "version": 3
   },
   "file_extension": ".py",
   "mimetype": "text/x-python",
   "name": "python",
   "nbconvert_exporter": "python",
   "pygments_lexer": "ipython3",
   "version": "3.8.18"
  }
 },
 "nbformat": 4,
 "nbformat_minor": 5
}
