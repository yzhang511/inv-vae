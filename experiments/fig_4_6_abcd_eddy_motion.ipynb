{
 "cells": [
  {
   "cell_type": "code",
   "execution_count": 1,
   "id": "977d3ca1-005c-42b0-ac9f-40d14c5876d5",
   "metadata": {
    "tags": []
   },
   "outputs": [],
   "source": [
    "import numpy as np\n",
    "from pathlib import Path\n",
    "import pandas as pd\n",
    "import matplotlib\n",
    "import matplotlib.pyplot as plt \n",
    "import matplotlib.ticker as tkr\n",
    "%matplotlib inline\n",
    "\n",
    "import random\n",
    "seed = 666\n",
    "random.seed(seed)\n",
    "\n",
    "from mne.viz import circular_layout\n",
    "from mne_connectivity.viz import plot_connectivity_circle\n",
    "\n",
    "from sklearn.decomposition import PCA\n",
    "from sklearn.linear_model import LinearRegression\n",
    "from sklearn.metrics import mean_squared_error\n",
    "from sklearn.model_selection import KFold\n",
    "\n",
    "import torch\n",
    "from torch import optim\n",
    "import torch.utils.data as utils\n",
    "from torchvision import datasets\n",
    "torch.manual_seed(seed)\n",
    "\n",
    "from inv_vae.utils.helpers import Namespace, reset_weights, min_max_standardize, preprocess_neural_data\n",
    "from inv_vae.models.vae import VAE\n",
    "from inv_vae.models.inv_vae import INV_VAE\n",
    "\n",
    "DEVICE = torch.device('cuda:0' if torch.cuda.is_available() else 'cpu')"
   ]
  },
  {
   "cell_type": "code",
   "execution_count": 2,
   "id": "1ef4ecb6-86e3-40a2-afa9-0b4ba94369af",
   "metadata": {
    "tags": []
   },
   "outputs": [],
   "source": [
    "SMALL_SIZE = 15\n",
    "MEDIUM_SIZE = 25\n",
    "BIGGER_SIZE = 25\n",
    "\n",
    "plt.rc('font', size=MEDIUM_SIZE)         \n",
    "plt.rc('axes', titlesize=MEDIUM_SIZE)     \n",
    "plt.rc('axes', labelsize=MEDIUM_SIZE) \n",
    "plt.rc('axes', linewidth = 3.)\n",
    "plt.rc('xtick', labelsize=MEDIUM_SIZE)   \n",
    "plt.rc('ytick', labelsize=MEDIUM_SIZE)   \n",
    "plt.rc('legend', fontsize=MEDIUM_SIZE)   \n",
    "plt.rc('figure', titlesize=MEDIUM_SIZE)"
   ]
  },
  {
   "cell_type": "code",
   "execution_count": 3,
   "id": "1a9a75cb-ba5b-4e30-b367-bb0875a949e2",
   "metadata": {
    "tags": []
   },
   "outputs": [
    {
     "name": "stdout",
     "output_type": "stream",
     "text": [
      "(5133, 1, 68, 68)\n",
      "(5133, 1)\n",
      "(5133, 1)\n"
     ]
    }
   ],
   "source": [
    "n_rois = 68\n",
    "count_offset = 100\n",
    "data_dir = Path(\"/home/yizi/inv-vae/data/abcd/\")\n",
    "abcd_data_dict = np.load(data_dir/\"abcd_data_dict.npy\", allow_pickle=True).item()\n",
    "brain_networks = abcd_data_dict[\"network\"] / count_offset\n",
    "traits = abcd_data_dict[\"cog\"][:,2] \n",
    "# motion = abcd_data_dict[\"eddy_motion\"]\n",
    "motion = np.nanmean(abcd_data_dict[\"rotat\"], -1)\n",
    "motion = (motion - motion.mean()) / motion.std()\n",
    "\n",
    "nan_mask = np.argwhere(~np.isnan(traits))\n",
    "brain_networks = brain_networks[nan_mask]\n",
    "traits = traits[nan_mask]\n",
    "motion = motion[nan_mask]\n",
    "n_subs = brain_networks.shape[0]\n",
    "\n",
    "print(brain_networks.shape)\n",
    "print(traits.shape)\n",
    "print(motion.shape)"
   ]
  },
  {
   "cell_type": "code",
   "execution_count": 4,
   "id": "82b48b37-2bd6-44f7-80e9-a7ef8dfb6a0d",
   "metadata": {
    "tags": []
   },
   "outputs": [],
   "source": [
    "sub_ids = np.arange(len(brain_networks)).reshape(-1,1)\n",
    "big_motion_ids = sub_ids[motion > np.quantile(motion, .98)]\n",
    "small_motion_ids = sub_ids[motion < np.quantile(motion, .02)]"
   ]
  },
  {
   "cell_type": "code",
   "execution_count": 5,
   "id": "191e9b83-961c-48b1-a3a2-9c2d8812bc73",
   "metadata": {
    "tags": []
   },
   "outputs": [],
   "source": [
    "big_motion = motion[big_motion_ids].reshape(-1,1)\n",
    "small_motion = motion[small_motion_ids].reshape(-1,1)"
   ]
  },
  {
   "cell_type": "code",
   "execution_count": 6,
   "id": "4dc41f14-4b16-43e3-bd97-9c770bc198e6",
   "metadata": {
    "tags": []
   },
   "outputs": [],
   "source": [
    "big_motion_nets = brain_networks[big_motion_ids].reshape(-1,n_rois*n_rois)\n",
    "small_motion_nets = brain_networks[small_motion_ids].reshape(-1,n_rois*n_rois)\n",
    "diff_motion_nets = big_motion_nets.mean(0) - small_motion_nets.mean(0)"
   ]
  },
  {
   "cell_type": "code",
   "execution_count": 7,
   "id": "019522f0-7d6b-43a1-af66-2fc9f861fa3d",
   "metadata": {
    "tags": []
   },
   "outputs": [],
   "source": [
    "pca = PCA(2)\n",
    "obs_motion_Xt = pca.fit_transform(np.vstack([big_motion_nets, small_motion_nets]))\n",
    "obs_motion_df = pd.DataFrame({\"pc1\": obs_motion_Xt[:,0], \n",
    "                       \"pc2\": obs_motion_Xt[:,1], \n",
    "                       \"motion\": np.vstack([big_motion, small_motion]).flatten()})"
   ]
  },
  {
   "cell_type": "code",
   "execution_count": 8,
   "id": "5af3533b-0dac-47d8-a724-c67d0f79b9b9",
   "metadata": {
    "tags": []
   },
   "outputs": [],
   "source": [
    "config = Namespace(n_nodes=n_rois, latent_dim=68, hidden_dim=1024, nuisance_dim=0,\n",
    "    n_enc_layers=1, n_dec_layers=3, n_neighbors=32, drop_out=0.1,\n",
    "    beta = 1., add_reg = True, y_dim = 1, \n",
    "    batch_size=64, n_epochs=250, lr=5e-6, device=DEVICE)"
   ]
  },
  {
   "cell_type": "code",
   "execution_count": 9,
   "id": "d197cdbc-7e5c-4360-adbb-755b0e0b6246",
   "metadata": {
    "tags": []
   },
   "outputs": [],
   "source": [
    "A_mat = np.mean(brain_networks.reshape(-1,n_rois,n_rois), axis=0)\n",
    "A_mat = A_mat + A_mat.transpose()\n",
    "knn_masks = [torch.from_numpy(np.float32(np.argsort(np.argsort(A_mat, axis=-1), axis=-1) < config.n_neighbors+i)).float() for i in range(config.n_dec_layers)]"
   ]
  },
  {
   "cell_type": "code",
   "execution_count": 10,
   "id": "9bfe2141-1c50-41c0-be1f-dc2aff9d7252",
   "metadata": {
    "tags": []
   },
   "outputs": [
    {
     "name": "stdout",
     "output_type": "stream",
     "text": [
      "4619 514\n"
     ]
    }
   ],
   "source": [
    "ids = list(range(n_subs))\n",
    "random.shuffle(ids)\n",
    "train_ids = ids[:int(.9*n_subs)]\n",
    "val_ids = ids[int(.9*n_subs):]\n",
    "print(len(train_ids), len(val_ids))\n",
    "\n",
    "tensor_nets = torch.stack([torch.Tensor(i) for i in list(brain_networks)]).to(torch.float32).view(-1, config.n_nodes*config.n_nodes)\n",
    "tensor_motion = torch.from_numpy(motion).to(torch.float32)\n",
    "tensor_traits = torch.from_numpy(traits).to(torch.float32) # oral reading recognition score\n",
    "\n",
    "train_set = utils.TensorDataset(tensor_nets[train_ids], tensor_motion[train_ids], tensor_traits[train_ids] )\n",
    "val_set = utils.TensorDataset(tensor_nets[val_ids], tensor_motion[val_ids],  tensor_traits[val_ids])\n",
    "\n",
    "train_loader = utils.DataLoader(train_set, config.batch_size) \n",
    "val_loader = utils.DataLoader(val_set, config.batch_size)"
   ]
  },
  {
   "cell_type": "markdown",
   "id": "b070c4d1-8645-48f2-a9db-5b9883e6fc45",
   "metadata": {},
   "source": [
    "vae"
   ]
  },
  {
   "cell_type": "code",
   "execution_count": 11,
   "id": "1874819f-d51c-4d17-8c73-b97ae5d037d9",
   "metadata": {
    "tags": []
   },
   "outputs": [],
   "source": [
    "model = VAE(config).to(config.device)\n",
    "model.apply(reset_weights)\n",
    "model.set_mask(knn_masks)\n",
    "optimizer = optim.Adam(model.parameters(), lr=config.lr) "
   ]
  },
  {
   "cell_type": "code",
   "execution_count": 12,
   "id": "bec99fd4-4d59-4c06-8b97-f06891d8dff4",
   "metadata": {
    "tags": []
   },
   "outputs": [
    {
     "name": "stdout",
     "output_type": "stream",
     "text": [
      "epoch: 0 train loss: 12537.033 nll: 1729.059 kl: 71.504 rmse: 12.984\n",
      "epoch: 0 test loss: 8868.756 nll: -1002.171 kl: 161.003 rmse: 12.521\n",
      "epoch: 5 train loss: 4093.541 nll: -2788.043 kl: 2716.945 rmse: 8.085\n",
      "epoch: 5 test loss: 4046.078 nll: -2761.461 kl: 2696.380 rmse: 8.124\n",
      "epoch: 10 train loss: 3889.301 nll: -2847.361 kl: 2800.857 rmse: 7.859\n",
      "epoch: 10 test loss: 3860.356 nll: -2810.886 kl: 2748.448 rmse: 7.934\n",
      "epoch: 15 train loss: 3746.304 nll: -2862.097 kl: 2812.414 rmse: 7.718\n",
      "epoch: 15 test loss: 3721.447 nll: -2824.207 kl: 2759.031 rmse: 7.793\n",
      "epoch: 20 train loss: 3613.593 nll: -2868.217 kl: 2823.402 rmse: 7.576\n",
      "epoch: 20 test loss: 3593.085 nll: -2830.078 kl: 2768.583 rmse: 7.654\n",
      "epoch: 25 train loss: 3486.161 nll: -2871.565 kl: 2831.234 rmse: 7.439\n",
      "epoch: 25 test loss: 3470.232 nll: -2833.562 kl: 2775.478 rmse: 7.519\n",
      "epoch: 30 train loss: 3363.433 nll: -2873.991 kl: 2836.171 rmse: 7.305\n",
      "epoch: 30 test loss: 3351.770 nll: -2835.772 kl: 2780.364 rmse: 7.388\n",
      "epoch: 35 train loss: 3244.862 nll: -2876.062 kl: 2840.138 rmse: 7.174\n",
      "epoch: 35 test loss: 3236.512 nll: -2838.012 kl: 2785.351 rmse: 7.257\n",
      "epoch: 40 train loss: 3128.800 nll: -2878.334 kl: 2841.732 rmse: 7.046\n",
      "epoch: 40 test loss: 3123.913 nll: -2840.578 kl: 2789.657 rmse: 7.128\n",
      "epoch: 45 train loss: 3014.526 nll: -2881.367 kl: 2840.813 rmse: 6.923\n",
      "epoch: 45 test loss: 3013.275 nll: -2844.055 kl: 2803.879 rmse: 6.989\n",
      "epoch: 50 train loss: 2901.483 nll: -2885.999 kl: 2839.059 rmse: 6.800\n",
      "epoch: 50 test loss: 2903.501 nll: -2849.681 kl: 2799.569 rmse: 6.873\n",
      "epoch: 55 train loss: 2790.664 nll: -2892.896 kl: 2838.006 rmse: 6.680\n",
      "epoch: 55 test loss: 2795.081 nll: -2856.663 kl: 2802.459 rmse: 6.749\n",
      "epoch: 60 train loss: 2680.404 nll: -2900.755 kl: 2832.797 rmse: 6.565\n",
      "epoch: 60 test loss: 2687.615 nll: -2865.226 kl: 2803.905 rmse: 6.628\n",
      "epoch: 65 train loss: 2571.286 nll: -2908.108 kl: 2827.232 rmse: 6.449\n",
      "epoch: 65 test loss: 2582.553 nll: -2872.762 kl: 2795.692 rmse: 6.519\n",
      "epoch: 70 train loss: 2467.378 nll: -2913.073 kl: 2819.205 rmse: 6.337\n",
      "epoch: 70 test loss: 2482.181 nll: -2877.292 kl: 2783.036 rmse: 6.415\n",
      "epoch: 75 train loss: 2367.724 nll: -2916.509 kl: 2807.545 rmse: 6.231\n",
      "epoch: 75 test loss: 2384.361 nll: -2881.206 kl: 2782.934 rmse: 6.296\n",
      "epoch: 80 train loss: 2270.031 nll: -2919.067 kl: 2795.506 rmse: 6.126\n",
      "epoch: 80 test loss: 2290.141 nll: -2883.211 kl: 2760.348 rmse: 6.207\n",
      "epoch: 85 train loss: 2173.673 nll: -2920.905 kl: 2783.026 rmse: 6.020\n",
      "epoch: 85 test loss: 2197.302 nll: -2885.687 kl: 2754.407 rmse: 6.096\n",
      "epoch: 90 train loss: 2083.034 nll: -2922.262 kl: 2767.742 rmse: 5.922\n",
      "epoch: 90 test loss: 2107.428 nll: -2887.390 kl: 2749.914 rmse: 5.985\n",
      "epoch: 95 train loss: 1990.692 nll: -2923.566 kl: 2753.896 rmse: 5.819\n",
      "epoch: 95 test loss: 2020.470 nll: -2887.838 kl: 2720.388 rmse: 5.908\n",
      "epoch: 100 train loss: 1902.428 nll: -2924.690 kl: 2736.160 rmse: 5.725\n",
      "epoch: 100 test loss: 1934.788 nll: -2888.919 kl: 2714.230 rmse: 5.801\n",
      "epoch: 105 train loss: 1815.987 nll: -2926.066 kl: 2719.070 rmse: 5.630\n",
      "epoch: 105 test loss: 1850.294 nll: -2890.586 kl: 2694.813 rmse: 5.712\n",
      "epoch: 110 train loss: 1731.040 nll: -2927.068 kl: 2701.494 rmse: 5.537\n",
      "epoch: 110 test loss: 1769.169 nll: -2891.110 kl: 2673.254 rmse: 5.629\n",
      "epoch: 115 train loss: 1647.818 nll: -2928.357 kl: 2682.369 rmse: 5.447\n",
      "epoch: 115 test loss: 1688.058 nll: -2892.943 kl: 2657.858 rmse: 5.537\n",
      "epoch: 120 train loss: 1566.284 nll: -2930.002 kl: 2662.597 rmse: 5.360\n",
      "epoch: 120 test loss: 1609.083 nll: -2894.819 kl: 2638.973 rmse: 5.452\n",
      "epoch: 125 train loss: 1486.120 nll: -2931.753 kl: 2641.987 rmse: 5.274\n",
      "epoch: 125 test loss: 1532.880 nll: -2895.343 kl: 2619.402 rmse: 5.369\n",
      "epoch: 130 train loss: 1406.712 nll: -2933.652 kl: 2621.833 rmse: 5.188\n",
      "epoch: 130 test loss: 1457.434 nll: -2896.996 kl: 2598.335 rmse: 5.290\n",
      "epoch: 135 train loss: 1329.852 nll: -2936.154 kl: 2601.371 rmse: 5.106\n",
      "epoch: 135 test loss: 1383.387 nll: -2898.932 kl: 2584.414 rmse: 5.201\n",
      "epoch: 140 train loss: 1252.667 nll: -2938.503 kl: 2579.343 rmse: 5.024\n",
      "epoch: 140 test loss: 1310.798 nll: -2901.119 kl: 2554.684 rmse: 5.139\n",
      "epoch: 145 train loss: 1178.697 nll: -2941.136 kl: 2557.622 rmse: 4.946\n",
      "epoch: 145 test loss: 1239.903 nll: -2902.908 kl: 2539.678 rmse: 5.054\n",
      "epoch: 150 train loss: 1105.450 nll: -2943.443 kl: 2536.025 rmse: 4.867\n",
      "epoch: 150 test loss: 1169.784 nll: -2905.497 kl: 2510.553 rmse: 4.993\n",
      "epoch: 155 train loss: 1033.536 nll: -2945.884 kl: 2512.686 rmse: 4.793\n",
      "epoch: 155 test loss: 1101.629 nll: -2907.436 kl: 2478.508 rmse: 4.938\n",
      "epoch: 160 train loss: 962.977 nll: -2948.077 kl: 2490.325 rmse: 4.716\n",
      "epoch: 160 test loss: 1035.715 nll: -2908.582 kl: 2460.709 rmse: 4.862\n",
      "epoch: 165 train loss: 894.830 nll: -2949.453 kl: 2466.737 rmse: 4.644\n",
      "epoch: 165 test loss: 970.963 nll: -2910.218 kl: 2434.522 rmse: 4.801\n",
      "epoch: 170 train loss: 828.675 nll: -2950.676 kl: 2442.677 rmse: 4.574\n",
      "epoch: 170 test loss: 908.202 nll: -2910.944 kl: 2427.069 rmse: 4.709\n",
      "epoch: 175 train loss: 762.650 nll: -2952.075 kl: 2420.130 rmse: 4.501\n",
      "epoch: 175 test loss: 845.704 nll: -2912.832 kl: 2404.736 rmse: 4.644\n",
      "epoch: 180 train loss: 697.551 nll: -2953.187 kl: 2395.778 rmse: 4.432\n",
      "epoch: 180 test loss: 785.598 nll: -2913.469 kl: 2384.040 rmse: 4.576\n",
      "epoch: 185 train loss: 635.126 nll: -2954.254 kl: 2371.952 rmse: 4.365\n",
      "epoch: 185 test loss: 727.149 nll: -2913.888 kl: 2353.959 rmse: 4.528\n",
      "epoch: 190 train loss: 573.192 nll: -2955.347 kl: 2348.191 rmse: 4.297\n",
      "epoch: 190 test loss: 669.782 nll: -2914.613 kl: 2341.906 rmse: 4.448\n",
      "epoch: 195 train loss: 512.580 nll: -2956.233 kl: 2324.162 rmse: 4.232\n",
      "epoch: 195 test loss: 612.966 nll: -2915.687 kl: 2302.372 rmse: 4.419\n",
      "epoch: 200 train loss: 453.681 nll: -2957.100 kl: 2299.716 rmse: 4.169\n",
      "epoch: 200 test loss: 558.085 nll: -2916.784 kl: 2298.675 rmse: 4.328\n",
      "epoch: 205 train loss: 394.883 nll: -2958.431 kl: 2275.928 rmse: 4.106\n",
      "epoch: 205 test loss: 504.339 nll: -2917.464 kl: 2274.561 rmse: 4.274\n",
      "epoch: 210 train loss: 337.779 nll: -2959.449 kl: 2253.165 rmse: 4.041\n",
      "epoch: 210 test loss: 452.253 nll: -2917.719 kl: 2243.429 rmse: 4.236\n",
      "epoch: 215 train loss: 281.993 nll: -2960.660 kl: 2229.218 rmse: 3.981\n",
      "epoch: 215 test loss: 399.949 nll: -2919.477 kl: 2226.471 rmse: 4.172\n",
      "epoch: 220 train loss: 225.172 nll: -2962.274 kl: 2205.223 rmse: 3.919\n",
      "epoch: 220 test loss: 348.535 nll: -2921.179 kl: 2194.185 rmse: 4.139\n",
      "epoch: 225 train loss: 171.524 nll: -2963.943 kl: 2181.463 rmse: 3.863\n",
      "epoch: 225 test loss: 299.502 nll: -2921.949 kl: 2182.370 rmse: 4.068\n",
      "epoch: 230 train loss: 118.053 nll: -2965.691 kl: 2157.516 rmse: 3.806\n",
      "epoch: 230 test loss: 250.332 nll: -2924.317 kl: 2165.667 rmse: 4.009\n",
      "epoch: 235 train loss: 64.659 nll: -2967.503 kl: 2135.359 rmse: 3.745\n",
      "epoch: 235 test loss: 202.661 nll: -2925.761 kl: 2132.988 rmse: 3.982\n",
      "epoch: 240 train loss: 12.549 nll: -2970.085 kl: 2112.430 rmse: 3.689\n",
      "epoch: 240 test loss: 155.438 nll: -2928.013 kl: 2112.857 rmse: 3.932\n",
      "epoch: 245 train loss: -38.454 nll: -2972.043 kl: 2089.273 rmse: 3.633\n",
      "epoch: 245 test loss: 109.219 nll: -2930.172 kl: 2096.450 rmse: 3.876\n"
     ]
    }
   ],
   "source": [
    "train_losses = []\n",
    "val_losses = []\n",
    "for epoch in range(config.n_epochs):\n",
    "    train_loss = model.reg_train(epoch, train_loader, model, optimizer, config.device, n_epoch_display=5)\n",
    "    val_loss = model.reg_test(epoch, val_loader, model, config.device, n_epoch_display=5)\n",
    "    train_losses.append(train_loss)\n",
    "    val_losses.append(val_loss)\n",
    "    \n",
    "train_losses = np.array(train_losses)\n",
    "val_losses = np.array(val_losses)"
   ]
  },
  {
   "cell_type": "code",
   "execution_count": 13,
   "id": "2d8376bd-c2e5-4df1-bbb0-9fb1b3f07074",
   "metadata": {
    "tags": []
   },
   "outputs": [
    {
     "data": {
      "image/png": "[encoded data removed]",
      "text/plain": [
       "<Figure size 1700x400 with 4 Axes>"
      ]
     },
     "metadata": {},
     "output_type": "display_data"
    }
   ],
   "source": [
    "# diagnostics\n",
    "fig, axes = plt.subplots(1, 4, figsize=(17, 4))\n",
    "axes[0].plot(train_losses[:,0], linewidth=2, label='train')\n",
    "axes[0].plot(val_losses[:,0], linewidth=2, label='val')\n",
    "axes[0].set_title('loss')\n",
    "axes[0].legend(loc=1, frameon=False)\n",
    "\n",
    "axes[1].plot(train_losses[:,1], linewidth=2, label='train')\n",
    "axes[1].plot(val_losses[:,1], linewidth=2, label='val')\n",
    "axes[1].set_title('nll')\n",
    "\n",
    "axes[2].plot(train_losses[:,2], linewidth=2, label='train')\n",
    "axes[2].plot(val_losses[:,2], linewidth=2, label='val')\n",
    "axes[2].set_title('kl')\n",
    "\n",
    "axes[3].plot(train_losses[:,3], linewidth=2, label='train')\n",
    "axes[3].plot(val_losses[:,3], linewidth=2, label='val')\n",
    "axes[3].set_title('rmse')\n",
    "plt.tight_layout()\n",
    "plt.show()"
   ]
  },
  {
   "cell_type": "code",
   "execution_count": 14,
   "id": "27473ac8-b065-41a5-bede-358193cb2ec0",
   "metadata": {
    "tags": []
   },
   "outputs": [],
   "source": [
    "z_mean, z_logvar = model.encode(tensor_nets.to(torch.float32).view(-1, config.n_nodes*config.n_nodes).to(config.device))\n",
    "z_sample = model.reparameterize(z_mean, z_logvar)\n",
    "vae_latents = z_sample.detach().cpu().numpy()\n",
    "x_recon = model.decode(z_sample).detach().cpu().numpy().reshape(-1, config.n_nodes, config.n_nodes)\n",
    "x_recon = x_recon*count_offset"
   ]
  },
  {
   "cell_type": "code",
   "execution_count": 15,
   "id": "abf0fc82-0f49-4f4f-83b2-add688241a44",
   "metadata": {
    "tags": []
   },
   "outputs": [],
   "source": [
    "big_motion_recon = x_recon[big_motion_ids]\n",
    "small_motion_recon = x_recon[small_motion_ids]\n",
    "diff_motion_recon = big_motion_recon.mean(0) - small_motion_recon.mean(0)"
   ]
  },
  {
   "cell_type": "code",
   "execution_count": 16,
   "id": "9985830b-7177-47b1-bc72-5a55ef797b83",
   "metadata": {
    "tags": []
   },
   "outputs": [],
   "source": [
    "big_motion_latents = vae_latents[big_motion_ids]\n",
    "small_motion_latents = vae_latents[small_motion_ids]"
   ]
  },
  {
   "cell_type": "code",
   "execution_count": 17,
   "id": "271ff8e1-7bf2-4311-8d41-1cf99fe7c9a1",
   "metadata": {
    "tags": []
   },
   "outputs": [],
   "source": [
    "pca = PCA(2)\n",
    "vae_motion_Xt = pca.fit_transform(np.vstack([big_motion_latents, small_motion_latents]))\n",
    "vae_motion_df = pd.DataFrame({\"pc1\": vae_motion_Xt[:,0], \n",
    "                       \"pc2\": vae_motion_Xt[:,1], \n",
    "                       \"motion\": np.vstack([big_motion, small_motion]).flatten()})"
   ]
  },
  {
   "cell_type": "markdown",
   "id": "e3d0f6d2-1f60-46e5-99cf-5b5d8ce4408c",
   "metadata": {},
   "source": [
    "inv-vae"
   ]
  },
  {
   "cell_type": "code",
   "execution_count": 18,
   "id": "6c23d6b6-cff1-4cef-ba2b-4dd4d4389acb",
   "metadata": {
    "tags": []
   },
   "outputs": [],
   "source": [
    "config = Namespace(n_nodes=68, latent_dim=68, hidden_dim=1024, nuisance_dim=1,\n",
    "    n_enc_layers=1, n_dec_layers=3, n_neighbors=32, drop_out=0.1, \n",
    "    beta = 100., gamma = .1, add_reg = True, y_dim = 1,\n",
    "    batch_size=64, n_epochs=250, lr=5e-6, device=DEVICE)"
   ]
  },
  {
   "cell_type": "code",
   "execution_count": 19,
   "id": "459e6e6d-5c4c-4781-91b6-5200177bac3c",
   "metadata": {
    "tags": []
   },
   "outputs": [],
   "source": [
    "inv_model = INV_VAE(config).to(config.device)\n",
    "inv_model.apply(reset_weights)\n",
    "inv_model.set_mask(knn_masks)\n",
    "optimizer = optim.Adam(inv_model.parameters(), lr=config.lr) "
   ]
  },
  {
   "cell_type": "code",
   "execution_count": null,
   "id": "1a992265-1274-46ad-bb14-72719af3b8d5",
   "metadata": {
    "tags": []
   },
   "outputs": [],
   "source": [
    "train_losses = []\n",
    "val_losses = []\n",
    "for epoch in range(config.n_epochs):\n",
    "    train_loss = inv_model.reg_train(epoch, train_loader, inv_model, optimizer, config.device, n_epoch_display=5)\n",
    "    val_loss = inv_model.reg_test(epoch, val_loader, inv_model, config.device, n_epoch_display=5)\n",
    "    train_losses.append(train_loss)\n",
    "    val_losses.append(val_loss)\n",
    "    \n",
    "train_losses = np.array(train_losses)\n",
    "val_losses = np.array(val_losses)"
   ]
  },
  {
   "cell_type": "code",
   "execution_count": null,
   "id": "481e7438-ad39-4ed6-b28e-73e535987fb6",
   "metadata": {
    "tags": []
   },
   "outputs": [],
   "source": [
    "# diagnostics\n",
    "fig, axes = plt.subplots(1, 5, figsize=(20, 4))\n",
    "axes[0].plot(train_losses[:,0], linewidth=2, label='train')\n",
    "axes[0].plot(val_losses[:,0], linewidth=2, label='val')\n",
    "axes[0].set_title('loss')\n",
    "axes[0].legend(loc=1, frameon=False)\n",
    "\n",
    "axes[1].plot(train_losses[:,1], linewidth=2, label='train')\n",
    "axes[1].plot(val_losses[:,1], linewidth=2, label='val')\n",
    "axes[1].set_title('nll')\n",
    "\n",
    "axes[2].plot(train_losses[:,2], linewidth=2, label='train')\n",
    "axes[2].plot(val_losses[:,2], linewidth=2, label='val')\n",
    "axes[2].set_title('kl')\n",
    "\n",
    "axes[3].plot(train_losses[:,3], linewidth=2, label='train')\n",
    "axes[3].plot(val_losses[:,3], linewidth=2, label='val')\n",
    "axes[3].set_title('inv_loss')\n",
    "\n",
    "axes[4].plot(train_losses[:,4], linewidth=2, label='train')\n",
    "axes[4].plot(val_losses[:,4], linewidth=2, label='val')\n",
    "axes[4].set_title('rmse')\n",
    "\n",
    "plt.tight_layout()\n",
    "plt.show()"
   ]
  },
  {
   "cell_type": "code",
   "execution_count": null,
   "id": "1b500f88-8b6c-44de-ac59-341ac87a248a",
   "metadata": {
    "tags": []
   },
   "outputs": [],
   "source": [
    "z_mean, z_logvar = inv_model.encode(tensor_nets.to(config.device))\n",
    "z_sample = inv_model.reparameterize(z_mean, z_logvar)\n",
    "inv_latents = z_sample.detach().cpu().numpy()\n",
    "\n",
    "x_denoised = inv_model.decode(z_sample, \n",
    "                      torch.zeros_like(tensor_motion).to(config.device) \n",
    "                      ).detach().cpu().numpy().reshape(-1, config.n_nodes, config.n_nodes)\n",
    "x_denoised = x_denoised*count_offset"
   ]
  },
  {
   "cell_type": "code",
   "execution_count": null,
   "id": "b93d7aac-633f-4021-9f8d-567464a1e508",
   "metadata": {
    "tags": []
   },
   "outputs": [],
   "source": [
    "big_motion_denoised = x_denoised[big_motion_ids]\n",
    "small_motion_denoised = x_denoised[small_motion_ids]\n",
    "diff_motion_denoised = big_motion_denoised.mean(0) - small_motion_denoised.mean(0)"
   ]
  },
  {
   "cell_type": "code",
   "execution_count": null,
   "id": "e953372a-6ce0-489a-a8dd-f3d0ca3a90d7",
   "metadata": {
    "tags": []
   },
   "outputs": [],
   "source": [
    "big_motion_inv_latents = inv_latents[big_motion_ids]\n",
    "small_motion_inv_latents = inv_latents[small_motion_ids]"
   ]
  },
  {
   "cell_type": "code",
   "execution_count": null,
   "id": "9ace0a6c-cb6f-4c86-b35b-c81fd83717a9",
   "metadata": {
    "tags": []
   },
   "outputs": [],
   "source": [
    "pca = PCA(2)\n",
    "inv_vae_motion_Xt = pca.fit_transform(np.vstack([big_motion_inv_latents, small_motion_inv_latents]))\n",
    "inv_vae_motion_df = pd.DataFrame({\"pc1\": inv_vae_motion_Xt[:,0], \n",
    "                       \"pc2\": inv_vae_motion_Xt[:,1], \n",
    "                       \"motion\": np.vstack([big_motion, small_motion]).flatten()})"
   ]
  },
  {
   "cell_type": "markdown",
   "id": "f2a58c35-73de-4291-8c41-e1c3071ced5d",
   "metadata": {},
   "source": [
    "plotting"
   ]
  },
  {
   "cell_type": "code",
   "execution_count": null,
   "id": "ed660e19-a1a0-4cbb-9039-3f765e62bd68",
   "metadata": {
    "tags": []
   },
   "outputs": [],
   "source": [
    "n=39\n",
    "x = 0.32\n",
    "cmap = plt.cm.coolwarm\n",
    "lower = cmap(np.linspace(0, x-.1, n))\n",
    "white = np.ones((80-2*n,4))\n",
    "upper = cmap(np.linspace(1-x+.1, 1, n))\n",
    "colors = np.vstack((lower, white, upper))\n",
    "div_cmap = matplotlib.colors.LinearSegmentedColormap.from_list('div_cmap', colors)"
   ]
  },
  {
   "cell_type": "code",
   "execution_count": null,
   "id": "a1a96a8f-f50d-43e6-b9c5-cafd07600e3c",
   "metadata": {
    "tags": []
   },
   "outputs": [],
   "source": [
    "from matplotlib import colors\n",
    "divnorm=colors.TwoSlopeNorm(vmin=np.mean(small_motion), vcenter=0., vmax=np.mean(big_motion))"
   ]
  },
  {
   "cell_type": "code",
   "execution_count": null,
   "id": "eaa21811-f79b-48f7-ae3c-eecc88e27194",
   "metadata": {
    "tags": []
   },
   "outputs": [],
   "source": [
    "fig, axes = plt.subplots(3, 3, figsize=(14, 12))\n",
    "\n",
    "p1 = axes[0,0].imshow(brain_networks.mean(0).reshape(n_rois,n_rois)*count_offset, \n",
    "                      aspect='auto', cmap='jet')\n",
    "axes[0,0].set_title('ABCD')\n",
    "axes[0,0].set_ylabel('brain region')\n",
    "axes[0,0].tick_params(axis='y', labelrotation=90, length=8, width=3)\n",
    "axes[0,0].tick_params(axis='x', length=8, width=3)\n",
    "cbar = plt.colorbar(p1, ax=axes[0,0])\n",
    "cbar.ax.tick_params(labelrotation=90, length=8, width=3, labelbottom=False)\n",
    "\n",
    "p2 = axes[1,0].imshow(diff_motion_nets.reshape(n_rois,n_rois)*count_offset, \n",
    "                      aspect='auto', cmap=div_cmap, vmin=-400, vmax=400)\n",
    "axes[1,0].set_title('ABCD')\n",
    "axes[1,0].set_ylabel('brain region')\n",
    "axes[1,0].tick_params(axis='y', labelrotation=90, length=8, width=3)\n",
    "axes[1,0].tick_params(axis='x', length=8, width=3)\n",
    "cbar = plt.colorbar(p2, ax=axes[1,0])\n",
    "cbar.ax.tick_params(labelrotation=90, length=8, width=3, labelbottom=False)\n",
    "cbar.set_ticks([-250, 0, 250])\n",
    "\n",
    "p3 = axes[2,0].scatter(x=\"pc1\", y=\"pc2\", c=\"motion\", cmap=\"coolwarm\", norm=divnorm,\n",
    "                       data=obs_motion_df, s=25, alpha=1.)\n",
    "axes[2,0].set_xlabel('pc1')\n",
    "axes[2,0].set_ylabel('pc2')\n",
    "axes[2,0].spines['top'].set_visible(False)\n",
    "axes[2,0].spines['right'].set_visible(False)\n",
    "axes[2,0].tick_params(axis='y', labelrotation=90, length=8, width=3)\n",
    "axes[2,0].tick_params(axis='x', length=8, width=3)\n",
    "cbar = plt.colorbar(p3, ax=axes[2,0])\n",
    "# cbar.ax.set_title('eddy motion')\n",
    "axes[2,0].set_title('ABCD')\n",
    "cbar.ax.tick_params(labelrotation=90, length=8, width=3, labelbottom=False)\n",
    "cbar.ax.yaxis.set_major_formatter(tkr.FormatStrFormatter('%.1f'))\n",
    "axes[2,0].set_xlim(-100, 100)\n",
    "axes[2,0].set_ylim(-100, 100)\n",
    "\n",
    "\n",
    "p4 = axes[0,1].imshow(x_recon.mean(0), aspect='auto', cmap='jet')\n",
    "axes[0,1].set_title('GATE')\n",
    "axes[0,1].tick_params(axis='y', labelrotation=90, length=8, width=3)\n",
    "axes[0,1].tick_params(axis='x', length=8, width=3)\n",
    "cbar = plt.colorbar(p4, ax=axes[0,1])\n",
    "cbar.ax.tick_params(labelrotation=90, length=8, width=3, labelbottom=False)\n",
    "cbar.ax.tick_params(labelrotation=90, length=8, width=3, labelbottom=False)\n",
    "\n",
    "\n",
    "p5 = axes[1,1].imshow(diff_motion_recon, aspect='auto', cmap=div_cmap, vmin=-400, vmax=400)\n",
    "axes[1,1].set_title('GATE')\n",
    "axes[1,1].tick_params(axis='y', labelrotation=90, length=8, width=3)\n",
    "axes[1,1].tick_params(axis='x', length=8, width=3)\n",
    "cbar = plt.colorbar(p5, ax=axes[1,1])\n",
    "cbar.ax.tick_params(labelrotation=90, length=8, width=3, labelbottom=False)\n",
    "cbar.set_ticks([-250, 0, 250])\n",
    "\n",
    "\n",
    "p6 = axes[2,1].scatter(x=\"pc1\", y=\"pc2\", c=\"motion\", cmap=\"coolwarm\", norm=divnorm, \n",
    "                       data=vae_motion_df, s=25, alpha=1.)\n",
    "axes[2,1].set_xlabel('pc1')\n",
    "axes[2,1].set_ylabel('pc2')\n",
    "axes[2,1].spines['top'].set_visible(False)\n",
    "axes[2,1].spines['right'].set_visible(False)\n",
    "axes[2,1].tick_params(axis='y', labelrotation=90, length=8, width=3)\n",
    "axes[2,1].tick_params(axis='x', length=8, width=3)\n",
    "cbar = plt.colorbar(p6, ax=axes[2,1])\n",
    "axes[2,1].set_title('GATE')\n",
    "cbar.ax.tick_params(labelrotation=90, length=8, width=3, labelbottom=False)\n",
    "cbar.ax.yaxis.set_major_formatter(tkr.FormatStrFormatter('%.1f'))\n",
    "axes[2,1].set_ylim(-10, 10)\n",
    "\n",
    "\n",
    "p7 = axes[0,2].imshow(x_denoised.mean(0), aspect='auto', cmap='jet')\n",
    "axes[0,2].set_title('inv-VAE')\n",
    "axes[0,2].tick_params(axis='y', labelrotation=90, length=8, width=3)\n",
    "axes[0,2].tick_params(axis='x', length=8, width=3)\n",
    "axes[0,2].tick_params(axis='y', labelrotation=90, length=8, width=3)\n",
    "axes[0,2].tick_params(axis='x', length=8, width=3)\n",
    "cbar = plt.colorbar(p7, ax=axes[0,2])\n",
    "cbar.ax.tick_params(labelrotation=90, length=8, width=3, labelbottom=False)\n",
    "\n",
    "p8 = axes[1,2].imshow(diff_motion_denoised, aspect='auto', cmap=div_cmap, vmin=-400, vmax=400)\n",
    "axes[1,2].set_title('inv-VAE')\n",
    "axes[1,2].tick_params(axis='y', labelrotation=90, length=8, width=3)\n",
    "axes[1,2].tick_params(axis='x', length=8, width=3)\n",
    "cbar = plt.colorbar(p8, ax=axes[1,2])\n",
    "cbar.ax.tick_params(labelrotation=90, length=8, width=3, labelbottom=False)\n",
    "cbar.set_ticks([-250, 0, 250])\n",
    "\n",
    "\n",
    "p9 = axes[2,2].scatter(x=\"pc1\", y=\"pc2\", c=\"motion\", cmap=\"coolwarm\", norm=divnorm, \n",
    "                       data=inv_vae_motion_df, s=25, alpha=1.)\n",
    "axes[2,2].set_xlabel('pc1')\n",
    "axes[2,2].set_ylabel('pc2')\n",
    "axes[2,2].spines['top'].set_visible(False)\n",
    "axes[2,2].spines['right'].set_visible(False)\n",
    "axes[2,2].tick_params(axis='y', labelrotation=90, length=8, width=3)\n",
    "axes[2,2].tick_params(axis='x', length=8, width=3)\n",
    "cbar = plt.colorbar(p9, ax=axes[2,2])\n",
    "axes[2,2].set_title('inv-VAE')\n",
    "cbar.ax.tick_params(labelrotation=90, length=8, width=3, labelbottom=False)\n",
    "cbar.ax.yaxis.set_major_formatter(tkr.FormatStrFormatter('%.1f'))\n",
    "axes[2,2].set_xlim(-100, 100)\n",
    "\n",
    "plt.tight_layout()\n",
    "# plt.savefig('../saved_figs/supp2_eddy_abcd.png', facecolor='white', dpi=800)"
   ]
  },
  {
   "cell_type": "markdown",
   "id": "7d5ebdcc-9cbe-4462-85fd-7964c656a0af",
   "metadata": {},
   "source": [
    "circular connectivity plots:"
   ]
  },
  {
   "cell_type": "markdown",
   "id": "4f8165a3-4fbb-45bb-8f83-3405a9ebf1bf",
   "metadata": {},
   "source": [
    "unfortunately, i am having trouble with plotting multiple circular connectivity plots using mne,\\\n",
    "so i have to plot each circ plot separately :("
   ]
  },
  {
   "cell_type": "code",
   "execution_count": null,
   "id": "d74beadd-4054-4412-8489-5bc205ea92dd",
   "metadata": {},
   "outputs": [],
   "source": [
    "cmap = plt.cm.tab20c\n",
    "\n",
    "labels = {\n",
    "    'bankssts': cmap(0),\n",
    "    'caudalanteriorcingulate': cmap(1),\n",
    "    'caudalmiddlefrontal': cmap(1),\n",
    "    'cuneus': cmap(2),\n",
    "    'entorhinal': cmap(3),\n",
    "    'fusiform': cmap(4),\n",
    "    'inferiorparietal': cmap(5),\n",
    "    'inferiortemporal': cmap(5),\n",
    "    'isthmuscingulate': cmap(6),\n",
    "    'lateraloccipital': cmap(7),\n",
    "    'lateralorbitofrontal': cmap(7),\n",
    "    'lingual': cmap(8),\n",
    "    'medialorbitofrontal': cmap(9),\n",
    "    'middletemporal': cmap(10),\n",
    "    'parahippocampal': cmap(11),\n",
    "    'paracentral': cmap(11),\n",
    "    'parsopercularis': cmap(11),\n",
    "    'parsorbitalis': cmap(11),\n",
    "    'parstriangularis': cmap(11),\n",
    "    'pericalcarine': cmap(12),\n",
    "    'postcentral': cmap(13),\n",
    "    'posteriorcingulate': cmap(13),\n",
    "    'precentral': cmap(14),\n",
    "    'precuneus': cmap(14),\n",
    "    'rostralanteriorcingulate': cmap(15),\n",
    "    'rostralmiddlefrontal': cmap(15),\n",
    "    'superiorfrontal': cmap(16),\n",
    "    'superiorparietal': cmap(16),\n",
    "    'superiortemporal': cmap(16),\n",
    "    'supramarginal': cmap(16),\n",
    "    'frontalpole': cmap(16),\n",
    "    'temporalpole': cmap(17),\n",
    "    'transversetemporal': cmap(18),\n",
    "    'insula': cmap(19)\n",
    "}\n",
    "\n",
    "label_colors = list()\n",
    "label_colors.extend(list(labels.values())[::-1])  \n",
    "label_colors.extend(list(labels.values()))\n",
    "\n",
    "lh_labels = ['lh-' + label for label in labels.keys()]\n",
    "rh_labels = ['rh-' + label for label in labels.keys()]\n",
    "\n",
    "node_order = list()\n",
    "node_order.extend(lh_labels[::-1])  \n",
    "node_order.extend(rh_labels)\n",
    "\n",
    "node_angles = circular_layout(node_order, node_order, start_pos=90,\n",
    "                              group_boundaries=[0, len(node_order) / 2])"
   ]
  },
  {
   "cell_type": "code",
   "execution_count": null,
   "id": "541bb843-96db-43c7-b3ac-73c96bc33ca8",
   "metadata": {},
   "outputs": [],
   "source": [
    "diff_motion_adjusted = x_denoised.mean(0).flatten() - brain_networks.mean(0).reshape(-1,n_rois*n_rois)"
   ]
  },
  {
   "cell_type": "code",
   "execution_count": null,
   "id": "8d25fc8b-44cc-4e56-904b-ebf9c3395a0c",
   "metadata": {},
   "outputs": [],
   "source": [
    "fig, ax = plt.subplots(figsize=(8, 8), facecolor='white',\n",
    "                       subplot_kw=dict(polar=True))\n",
    "fig, ax = plot_connectivity_circle(\n",
    "                         diff_motion_adjusted.reshape(n_rois,n_rois), \n",
    "                         node_angles=node_angles,\n",
    "                         node_colors=label_colors,\n",
    "                         facecolor='white',\n",
    "                         textcolor='black', \n",
    "                         node_edgecolor='white',\n",
    "                         colormap='hot_r',\n",
    "                         node_height=1.,\n",
    "                         node_linewidth=5.,\n",
    "                         vmin=0,\n",
    "                         vmax=6000,\n",
    "                         node_names=['' for i in range(n_rois)], \n",
    "                         colorbar=True,\n",
    "                         colorbar_size=.3,\n",
    "                         fontsize_colorbar=20,\n",
    "                         linewidth=5,\n",
    "                         n_lines=15, ax=ax)\n",
    "fig.tight_layout()\n",
    "# fig.savefig('../saved_figs/fig6_abcd_motion_adjusted.png', facecolor='white', dpi=400)"
   ]
  },
  {
   "cell_type": "code",
   "execution_count": null,
   "id": "6df15fa6-2a77-44ee-a1ed-0de6aede5504",
   "metadata": {},
   "outputs": [],
   "source": []
  }
 ],
 "metadata": {
  "kernelspec": {
   "display_name": "Python 3 (ipykernel)",
   "language": "python",
   "name": "python3"
  },
  "language_info": {
   "codemirror_mode": {
    "name": "ipython",
    "version": 3
   },
   "file_extension": ".py",
   "mimetype": "text/x-python",
   "name": "python",
   "nbconvert_exporter": "python",
   "pygments_lexer": "ipython3",
   "version": "3.8.18"
  }
 },
 "nbformat": 4,
 "nbformat_minor": 5
}
