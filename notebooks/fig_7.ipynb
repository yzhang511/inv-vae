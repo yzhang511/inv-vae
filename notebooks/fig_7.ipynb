{
 "cells": [
  {
   "cell_type": "code",
   "execution_count": 1,
   "id": "977d3ca1-005c-42b0-ac9f-40d14c5876d5",
   "metadata": {},
   "outputs": [],
   "source": [
    "import numpy as np\n",
    "import pandas as pd\n",
    "import matplotlib\n",
    "import matplotlib.pyplot as plt \n",
    "from mpl_toolkits.axes_grid1.inset_locator import inset_axes\n",
    "%matplotlib inline\n",
    "\n",
    "import random\n",
    "seed = 666\n",
    "random.seed(seed)\n",
    "\n",
    "from sklearn.preprocessing import StandardScaler\n",
    "from sklearn.decomposition import PCA\n",
    "from sklearn.linear_model import LinearRegression\n",
    "from sklearn.metrics import mean_squared_error\n",
    "from sklearn.model_selection import KFold\n",
    "\n",
    "from neuroCombat import neuroCombat\n",
    "from scipy.stats import pearsonr\n",
    "\n",
    "import torch\n",
    "from torch import optim\n",
    "import torch.utils.data as utils\n",
    "from torchvision import datasets\n",
    "torch.manual_seed(seed)\n",
    "\n",
    "from inv_vae.utils.helpers import Namespace, reset_weights, min_max_standardize, preprocess_neural_data\n",
    "from inv_vae.models.vae import VAE\n",
    "from inv_vae.models.inv_vae import INV_VAE\n",
    "\n",
    "DEVICE = torch.device('cuda:0' if torch.cuda.is_available() else 'cpu')"
   ]
  },
  {
   "cell_type": "code",
   "execution_count": 22,
   "id": "cd574cbc-7d5c-4799-88a8-18f9e0641778",
   "metadata": {},
   "outputs": [],
   "source": [
    "SMALL_SIZE = 15\n",
    "MEDIUM_SIZE = 25\n",
    "BIGGER_SIZE = 25\n",
    "\n",
    "plt.rc('font', size=MEDIUM_SIZE)         \n",
    "plt.rc('axes', titlesize=MEDIUM_SIZE)     \n",
    "plt.rc('axes', labelsize=MEDIUM_SIZE)    \n",
    "plt.rc('xtick', labelsize=MEDIUM_SIZE)   \n",
    "plt.rc('ytick', labelsize=MEDIUM_SIZE)   \n",
    "plt.rc('legend', fontsize=MEDIUM_SIZE)   \n",
    "plt.rc('figure', titlesize=MEDIUM_SIZE)\n",
    "plt.rc('axes', linewidth = 4.)"
   ]
  },
  {
   "cell_type": "markdown",
   "id": "b9dc1f9f-fa52-485c-baa2-9099e26c6541",
   "metadata": {},
   "source": [
    "load data"
   ]
  },
  {
   "cell_type": "code",
   "execution_count": 149,
   "id": "2d85c3ab-e57f-4d60-bfbd-5a8233e4068b",
   "metadata": {},
   "outputs": [],
   "source": [
    "n_rois = 68\n",
    "count_offset = 100\n",
    "data_path = '../sample_data/'\n",
    "brain_networks, traits, translations, rotations, avg_trans, avg_rotat = preprocess_neural_data(data_path+'hcp_data.npy')\n",
    "n_subs = brain_networks.shape[0]"
   ]
  },
  {
   "cell_type": "code",
   "execution_count": 150,
   "id": "9d188bd1-dc44-4252-b9fa-3d8a02ffe276",
   "metadata": {},
   "outputs": [],
   "source": [
    "std_trans = min_max_standardize(avg_trans)\n",
    "std_rotat = min_max_standardize(avg_rotat)\n",
    "motion = np.concatenate([std_trans, std_rotat], axis=-1)"
   ]
  },
  {
   "cell_type": "code",
   "execution_count": 151,
   "id": "c54a0ec5-4271-49d7-8a6a-da7373be659d",
   "metadata": {},
   "outputs": [],
   "source": [
    "with open(data_path+'hcp_traits_dict.txt') as f:\n",
    "    lines = f.readlines()\n",
    "f.close()"
   ]
  },
  {
   "cell_type": "code",
   "execution_count": 152,
   "id": "74659f38-9502-4fa1-8c30-3cb2e9472e79",
   "metadata": {},
   "outputs": [],
   "source": [
    "pic_vocab = traits[:,6]\n",
    "pattern_complete = traits[:,10]\n",
    "pic_seq = traits[:,37]\n",
    "list_sort = traits[:,35]\n",
    "fluid_intel = traits[:,2]"
   ]
  },
  {
   "cell_type": "code",
   "execution_count": 153,
   "id": "1f8d8ad7-55ac-41a1-a4ef-39460c863edf",
   "metadata": {},
   "outputs": [],
   "source": [
    "drop_ids = (np.isnan(pic_seq) | np.isnan(fluid_intel))\n",
    "pic_vocab = pic_vocab[~drop_ids]\n",
    "pattern_complete = pattern_complete[~drop_ids]\n",
    "list_sort = list_sort[~drop_ids]\n",
    "pic_seq = pic_seq[~drop_ids]\n",
    "fluid_intel = fluid_intel[~drop_ids]\n",
    "\n",
    "brain_networks = brain_networks[~drop_ids]\n",
    "motion = motion[~drop_ids]\n",
    "n_subs = brain_networks.shape[0]"
   ]
  },
  {
   "cell_type": "code",
   "execution_count": 154,
   "id": "9e28e036-e4bb-461b-9db0-328d8fcbffc6",
   "metadata": {},
   "outputs": [],
   "source": [
    "sub_ids = np.arange(n_subs).reshape(-1,1)\n",
    "big_motion_ids = sub_ids[motion[:,1] > np.quantile(motion[:,1], .9)]\n",
    "motion_group = np.zeros(n_subs)\n",
    "motion_group[big_motion_ids] = 1"
   ]
  },
  {
   "cell_type": "markdown",
   "id": "a3c1d815-185d-44a1-95d3-1f99d51a38ab",
   "metadata": {},
   "source": [
    "lr + pca"
   ]
  },
  {
   "cell_type": "code",
   "execution_count": null,
   "id": "b7ad0cd1-5ff2-4cf2-a74c-f190698c729c",
   "metadata": {},
   "outputs": [],
   "source": [
    "kf = KFold(n_splits=5, shuffle=True, random_state=seed)\n",
    "cv_corr = np.zeros([5])\n",
    "\n",
    "y_obs = fluid_intel\n",
    "for i, (train_index, test_index) in enumerate(kf.split(brain_networks)):\n",
    "    pca = PCA(n_components=68)\n",
    "    scaler = StandardScaler()\n",
    "    std_data = scaler.fit_transform(brain_networks)\n",
    "    reduced_data = pca.fit_transform(brain_networks)\n",
    "    reg = LinearRegression().fit(reduced_data[train_index], y_obs[train_index])\n",
    "    y_pred = reg.predict(reduced_data[test_index])\n",
    "    cv_corr[i] = pearsonr(y_pred, y_obs[test_index])[0]\n",
    "\n",
    "print(\"avg cv corr {:.2f} ({:.2f}) \".format(np.mean(cv_corr), np.std(cv_corr)))\n",
    "print(list(cv_corr))"
   ]
  },
  {
   "cell_type": "code",
   "execution_count": 3,
   "id": "1189a789-d146-426e-9ffe-141ddca89e7b",
   "metadata": {},
   "outputs": [],
   "source": [
    "lr_pic_vocab_corr = [0.20036643696274586, 0.24407839142986537, 0.3306855731943531, 0.24838339169290172, 0.18470133948498907]\n",
    "lr_pattern_complete_corr = [0.06147570627480804, 0.10920220512272061, 0.08594747565888534, 0.01051167135126507, 0.08799807276004133]\n",
    "lr_pic_seq_corr = [0.1325595457419895, 0.04501422114563117, 0.13455070264520402, 0.07436113557879709, 0.051445954645564576]\n",
    "lr_list_sort_corr = [0.08572396888471592, 0.052875292483543515, 0.012409051633726461, 0.10770830701793149, 0.06285116867540659]\n",
    "lr_fluid_intel_corr = [0.1450156659853011, 0.104728512890679, 0.07035683277408383, 0.11656204079992283, 0.09657994810243418]"
   ]
  },
  {
   "cell_type": "markdown",
   "id": "edccd31d-93dd-4c24-a8d1-3088931c8307",
   "metadata": {},
   "source": [
    "sog"
   ]
  },
  {
   "cell_type": "code",
   "execution_count": 158,
   "id": "923e468f-ad98-40d7-93a1-5c6d348925bb",
   "metadata": {},
   "outputs": [],
   "source": [
    "# save data for running SOG in R\n",
    "# np.save('./saved_results/hcp_brain_networks.npy', brain_networks)\n",
    "# np.save('./saved_results/hcp_motion.npy', motion_group)\n",
    "# np.save('./saved_results/hcp_traits.npy', \n",
    "#         np.c_[pic_vocab, pattern_complete, pic_seq, list_sort, fluid_intel])"
   ]
  },
  {
   "cell_type": "code",
   "execution_count": 4,
   "id": "fad47141-553e-4349-94c4-b3671804c834",
   "metadata": {},
   "outputs": [],
   "source": [
    "# load results from SOG with K = 68\n",
    "sog_pic_vocab_corr = [0.2287315, 0.2786808, 0.1385156, 0.2875420, 0.3323576]\n",
    "sog_pattern_complete_corr = [0.04114842, 0.12725077, 0.01537598, 0.08936695, 0.02324655]\n",
    "sog_pic_seq_corr = [0.006822813, 0.006712983, 0.062736538, 0.107035647, 0.108812276]\n",
    "sog_list_sort_corr = [0.13598796, 0.12739883, 0.04753566, 0.06709880, 0.09329560]\n",
    "sog_fluid_intel_corr = [0.11836461, 0.02705343, 0.24208862, 0.19518919, 0.09025316]"
   ]
  },
  {
   "cell_type": "markdown",
   "id": "9c205011-c815-4e5f-ad9d-27c784210a8b",
   "metadata": {},
   "source": [
    "combat"
   ]
  },
  {
   "cell_type": "code",
   "execution_count": null,
   "id": "e54c4cd4-1e43-4e12-b5c1-fab2c83a29cc",
   "metadata": {},
   "outputs": [],
   "source": [
    "covars = {'motion': motion_group} \n",
    "covars = pd.DataFrame(covars)  \n",
    "adjusted_data = neuroCombat(\n",
    "    dat=np.vstack(brain_networks).transpose(),\n",
    "    covars=covars,\n",
    "    batch_col='motion')[\"data\"].transpose()\n",
    "print(adjusted_data.shape)"
   ]
  },
  {
   "cell_type": "code",
   "execution_count": null,
   "id": "41d31a1b-e41b-4bef-ab37-f06455a15659",
   "metadata": {},
   "outputs": [],
   "source": [
    "kf = KFold(n_splits=5, shuffle=True, random_state=seed)\n",
    "cv_corr = np.zeros([5])\n",
    "\n",
    "y_obs = fluid_intel\n",
    "for i, (train_index, test_index) in enumerate(kf.split(adjusted_data)):\n",
    "    pca = PCA(n_components=68)\n",
    "    scaler = StandardScaler()\n",
    "    std_data = scaler.fit_transform(adjusted_data)\n",
    "    reduced_data = pca.fit_transform(adjusted_data)\n",
    "    reg = LinearRegression().fit(reduced_data[train_index], y_obs[train_index])\n",
    "    y_pred = reg.predict(reduced_data[test_index])\n",
    "    cv_corr[i] = pearsonr(y_pred, y_obs[test_index])[0]\n",
    "\n",
    "print(\"avg cv corr {:.2f} ({:.2f}) \".format(np.mean(cv_corr), np.std(cv_corr)))\n",
    "print(list(cv_corr))"
   ]
  },
  {
   "cell_type": "code",
   "execution_count": 5,
   "id": "6d5f275f-eb57-46a9-a22d-2baed3d5b747",
   "metadata": {},
   "outputs": [],
   "source": [
    "combat_pic_vocab_corr = [0.16721217526771295, 0.2169635380838445, 0.2975547894278274, 0.24930450238776417, 0.1613443535660457]\n",
    "combat_pattern_complete_corr = [0.06243471462822863, 0.11418300319983797, 0.09251996608372846, 0.003106884924198896, 0.08211540077266065]\n",
    "combat_pic_seq_corr = [0.14635962456193857, 0.04485304287383043, 0.13432596169052033, 0.09188920533745336, 0.035652228506550636]\n",
    "combat_list_sort_corr = [0.08572396888471592, 0.052875292483543515, 0.012409051633726461, 0.10770830701793149, 0.06285116867540659]\n",
    "combat_fluid_intel_corr = [0.14805190032222987, 0.10743982979282075, 0.054983316467828156, 0.11177441700814758, 0.07682480753479201]"
   ]
  },
  {
   "cell_type": "markdown",
   "id": "7f3e29d1-aea2-4a2b-8e01-4272becfc274",
   "metadata": {},
   "source": [
    "vae"
   ]
  },
  {
   "cell_type": "code",
   "execution_count": null,
   "id": "38652a14-d022-4ed2-8607-49f21d836dc8",
   "metadata": {},
   "outputs": [],
   "source": [
    "config = Namespace(n_nodes=n_rois, latent_dim=68, hidden_dim=256, nuisance_dim=0,\n",
    "    n_enc_layers=1, n_dec_layers=5, n_neighbors=32, drop_out=0.,\n",
    "    beta = .5, add_reg = True, y_dim = 1, \n",
    "    batch_size=32, n_epochs=100, lr=2e-5, device=DEVICE)"
   ]
  },
  {
   "cell_type": "code",
   "execution_count": null,
   "id": "2bb140dc-6cf9-431d-b017-fae8f0291b04",
   "metadata": {},
   "outputs": [],
   "source": [
    "A_mat = np.mean(brain_networks.reshape(-1,n_rois,n_rois), axis=0)\n",
    "A_mat = A_mat + A_mat.transpose()\n",
    "knn_masks = [torch.from_numpy(np.float32(np.argsort(np.argsort(A_mat, axis=-1), axis=-1) < config.n_neighbors+i)).float() for i in range(config.n_dec_layers)]"
   ]
  },
  {
   "cell_type": "code",
   "execution_count": null,
   "id": "86c8fd65-8dbd-4c7a-8e65-4bfcb44562ff",
   "metadata": {},
   "outputs": [],
   "source": [
    "y_obs = fluid_intel\n",
    "tensor_nets = torch.stack([torch.Tensor(i) for i in list(brain_networks)]).to(torch.float32).view(-1, config.n_nodes*config.n_nodes)\n",
    "tensor_motion = torch.from_numpy(motion).to(torch.float32)\n",
    "tensor_traits = torch.from_numpy(y_obs).to(torch.float32) "
   ]
  },
  {
   "cell_type": "code",
   "execution_count": null,
   "id": "d763507f-e132-4b91-a47e-0d1c98ef5739",
   "metadata": {},
   "outputs": [],
   "source": [
    "kf = KFold(n_splits=5, shuffle=True, random_state=666)\n",
    "cv_rmses = np.zeros([5])\n",
    "\n",
    "for i, (train_index, test_index) in enumerate(kf.split(brain_networks)):\n",
    "    print(f'running GATE on fold {i+1} ...')\n",
    "    vae = VAE(config).to(config.device)\n",
    "    vae.apply(reset_weights)\n",
    "    vae.set_mask(knn_masks)\n",
    "    optimizer = optim.Adam(vae.parameters(), lr=config.lr) \n",
    "\n",
    "    train_set = utils.TensorDataset(tensor_nets[train_index], tensor_motion[train_index], tensor_traits[train_index] )\n",
    "    test_set = utils.TensorDataset(tensor_nets[test_index], tensor_motion[test_index],  tensor_traits[test_index])\n",
    "    train_loader = utils.DataLoader(train_set, config.batch_size) \n",
    "    test_loader = utils.DataLoader(test_set, config.batch_size)\n",
    "    \n",
    "    for epoch in range(config.n_epochs):\n",
    "        _ = vae.reg_train(epoch, train_loader, vae, optimizer, config.device, n_epoch_display=20)\n",
    "    _, y_pred, _, _ = vae(tensor_nets[test_index].to(torch.float32).view(-1, config.n_nodes*config.n_nodes).to(config.device))\n",
    "    cv_corr[i] = pearsonr(y_obs[test_index], y_pred.detach().cpu().numpy())[0]\n",
    "    print(\"test corr: {:.2f}\".format(cv_corr[i]))\n",
    "\n",
    "print(\"avg 5-fold cv corr: {:.2f} ({:.2f}) \".format(np.mean(cv_corr), np.std(cv_corr)))\n",
    "print(list(cv_corr))"
   ]
  },
  {
   "cell_type": "code",
   "execution_count": 6,
   "id": "5c1eb2c4-0d6b-4a54-b1b5-4b06c5e407a9",
   "metadata": {},
   "outputs": [],
   "source": [
    "vae_pic_vocab_corr = [0.24044588693105443, 0.26728058115959297, 0.3662097255782459, 0.27125328313242025, 0.1502152014340511]\n",
    "vae_pattern_complete_corr = [0.10258092727424958, 0.15625621123102613, 0.07805712631817811, 0.016248930826707655, 0.09902255949137649]\n",
    "vae_pic_seq_corr = [0.09316911554229546, 0.186791347974489, 0.154196103119531, 0.0020197101101420913, 0.07784698000768397]\n",
    "vae_list_sort_corr = [0.06803019288000356, 0.19020604729948848, 0.0665557677171187, 0.21569127915101838, 0.1713696605522442]\n",
    "vae_fluid_intel_corr = [0.13292628162135767, 0.06206090053546001, 0.13715504578644902, 0.23732334211411285, 0.14288441913663705]"
   ]
  },
  {
   "cell_type": "markdown",
   "id": "b1b168b1-0468-4be4-b23d-8cbc36fd5099",
   "metadata": {},
   "source": [
    "inv-vae"
   ]
  },
  {
   "cell_type": "code",
   "execution_count": null,
   "id": "153a504c-5716-4a4a-a851-d2a463137ef0",
   "metadata": {},
   "outputs": [],
   "source": [
    "config = Namespace(n_nodes=68, latent_dim=68, hidden_dim=256, nuisance_dim=2,\n",
    "    n_enc_layers=1, n_dec_layers=5, n_neighbors=32, drop_out=0., \n",
    "    beta = 1.5, gamma = 1., add_reg = True, y_dim = 1,\n",
    "    batch_size=64, n_epochs=100, lr=2e-5, device=DEVICE)"
   ]
  },
  {
   "cell_type": "code",
   "execution_count": null,
   "id": "2a720610-645a-4894-b98a-f6c5126e683d",
   "metadata": {},
   "outputs": [],
   "source": [
    "y_obs = fluid_intel\n",
    "tensor_nets = torch.stack([torch.Tensor(i) for i in list(brain_networks)]).to(torch.float32).view(-1, config.n_nodes*config.n_nodes)\n",
    "tensor_motion = torch.from_numpy(motion).to(torch.float32)\n",
    "tensor_traits = torch.from_numpy(y_obs).to(torch.float32) "
   ]
  },
  {
   "cell_type": "code",
   "execution_count": null,
   "id": "c02cffa8-ea66-4e27-826d-8d486254d11e",
   "metadata": {},
   "outputs": [],
   "source": [
    "kf = KFold(n_splits=5, shuffle=True, random_state=666)\n",
    "cv_rmses = np.zeros([5])\n",
    "\n",
    "for i, (train_index, test_index) in enumerate(kf.split(brain_networks)):\n",
    "    print(f'running inv-VAE on fold {i+1} ...')\n",
    "    inv_vae = INV_VAE(config).to(config.device)\n",
    "    inv_vae.apply(reset_weights)\n",
    "    inv_vae.set_mask(knn_masks)\n",
    "    optimizer = optim.Adam(inv_vae.parameters(), lr=config.lr) \n",
    "\n",
    "    train_set = utils.TensorDataset(tensor_nets[train_index], tensor_motion[train_index], tensor_traits[train_index] )\n",
    "    test_set = utils.TensorDataset(tensor_nets[test_index], tensor_motion[test_index],  tensor_traits[test_index])\n",
    "    train_loader = utils.DataLoader(train_set, config.batch_size) \n",
    "    test_loader = utils.DataLoader(test_set, config.batch_size)\n",
    "    \n",
    "    for epoch in range(config.n_epochs):\n",
    "        _ = inv_vae.reg_train(epoch, train_loader, inv_vae, optimizer, config.device, n_epoch_display=20)\n",
    "    _, y_pred, _, _ = inv_vae(tensor_nets[test_index].to(torch.float32).view(-1, config.n_nodes*config.n_nodes).to(config.device),\n",
    "                             tensor_motion[test_index].to(config.device))\n",
    "    cv_corr[i] = pearsonr(y_obs[test_index], y_pred.detach().cpu().numpy())[0]\n",
    "    print(\"test corr: {:.2f}\".format(cv_corr[i]))\n",
    "\n",
    "print(\"avg 5-fold cv corr: {:.2f} ({:.2f}) \".format(np.mean(cv_corr), np.std(cv_corr)))\n",
    "print(list(cv_corr))"
   ]
  },
  {
   "cell_type": "code",
   "execution_count": 7,
   "id": "17b96c88-9f7b-478d-944b-c24114a9883e",
   "metadata": {},
   "outputs": [],
   "source": [
    "inv_pic_vocab_corr = [0.269038231377544, 0.2738397771966285, 0.39958738740262323, 0.2962545178962678, 0.17578252878475648]\n",
    "inv_pattern_complete_corr  = [0.09876664948482004, 0.15420591544270645, 0.08922044137885733, 0.05127235574157339, 0.06418885575942863]\n",
    "inv_pic_seq_corr = [0.09767432552410896, 0.1798446495327203, 0.16909076863453557, 0.045275230971702635, 0.08470921818752171]\n",
    "inv_list_sort_corr = [0.08335782709786495, 0.19110765896442264, 0.07249892907365094, 0.21384356009481809, 0.16868088522608932]\n",
    "inv_fluid_intel_corr = [0.1398709936682626, 0.06400047453045553, 0.14064959964028895, 0.23249349715368353, 0.14840453313715646]"
   ]
  },
  {
   "cell_type": "markdown",
   "id": "6519f5ac-23f3-4d6a-94ca-2ab33657d888",
   "metadata": {},
   "source": [
    "error-bar plots"
   ]
  },
  {
   "cell_type": "code",
   "execution_count": 8,
   "id": "74b5f740-db91-4c67-9176-9e693b96f027",
   "metadata": {},
   "outputs": [],
   "source": [
    "lr_pca = np.c_[lr_pic_vocab_corr, lr_pattern_complete_corr, lr_pic_seq_corr, lr_list_sort_corr, lr_fluid_intel_corr]\n",
    "combat = np.c_[combat_pic_vocab_corr, combat_pattern_complete_corr, combat_pic_seq_corr, combat_list_sort_corr, combat_fluid_intel_corr]\n",
    "sog = np.c_[sog_pic_vocab_corr, sog_pattern_complete_corr, sog_pic_seq_corr, sog_list_sort_corr, sog_fluid_intel_corr]\n",
    "vae = np.c_[vae_pic_vocab_corr, vae_pattern_complete_corr, vae_pic_seq_corr, vae_list_sort_corr, vae_fluid_intel_corr]\n",
    "inv_vae = np.c_[inv_pic_vocab_corr, inv_pattern_complete_corr, inv_pic_seq_corr, inv_list_sort_corr, inv_fluid_intel_corr]"
   ]
  },
  {
   "cell_type": "code",
   "execution_count": 44,
   "id": "1b8defcc-7529-42ac-bffc-8fd718c15374",
   "metadata": {},
   "outputs": [
    {
     "data": {
      "image/png": "[encoded data removed]",
      "text/plain": [
       "<Figure size 1440x288 with 1 Axes>"
      ]
     },
     "metadata": {
      "needs_background": "light"
     },
     "output_type": "display_data"
    }
   ],
   "source": [
    "ticks = ['picture vocab', 'pattern complete', 'picture sequence', 'list sorting', 'fluid intelligence']\n",
    "\n",
    "fig = plt.figure(figsize=(20, 4))\n",
    "ax = fig.add_subplot(111)\n",
    "\n",
    "mins, maxs, means, stds = lr_pca.min(0), lr_pca.max(0), lr_pca.mean(0), lr_pca.std(0)\n",
    "plt.errorbar(np.arange(len(ticks))*2-.4, means, stds, \n",
    "                 fmt='.k', ecolor='gold', lw=9, label='LR-PCA')\n",
    "plt.errorbar(np.arange(len(ticks))*2-.4, means, [means - mins, maxs - means],\n",
    "                 fmt='.k', ecolor='gray', lw=3)\n",
    "\n",
    "mins, maxs, means, stds = combat.min(0), combat.max(0), combat.mean(0), combat.std(0)\n",
    "plt.errorbar(np.arange(len(ticks))*2-.2, means, stds, \n",
    "                 fmt='.k', ecolor='lime', lw=9, label='ComBat')\n",
    "plt.errorbar(np.arange(len(ticks))*2-.2, means, [means - mins, maxs - means],\n",
    "                 fmt='.k', ecolor='gray', lw=3)\n",
    "\n",
    "mins, maxs, means, stds = sog.min(0), sog.max(0), sog.mean(0), sog.std(0)\n",
    "plt.errorbar(np.arange(len(ticks))*2, means, stds, \n",
    "                 fmt='.k', ecolor='cyan', lw=9, label='SOG')\n",
    "plt.errorbar(np.arange(len(ticks))*2, means, [means - mins, maxs - means],\n",
    "                 fmt='.k', ecolor='gray', lw=3)\n",
    "\n",
    "mins, maxs, means, stds = vae.min(0), vae.max(0), vae.mean(0), vae.std(0)\n",
    "plt.errorbar(np.arange(len(ticks))*2+.2, means, stds, \n",
    "             fmt='.k', ecolor='blue', lw=9, label='GATE')\n",
    "plt.errorbar(np.arange(len(ticks))*2+.2, means, [means - mins, maxs - means],\n",
    "                 fmt='.k', ecolor='gray', lw=3)\n",
    "\n",
    "mins, maxs, means, stds = inv_vae.min(0), inv_vae.max(0), inv_vae.mean(0), inv_vae.std(0)\n",
    "plt.errorbar(np.arange(len(ticks))*2+.4, means, stds, \n",
    "             fmt='.k', ecolor='red', lw=9, label='inv-VAE')\n",
    "plt.errorbar(np.arange(len(ticks))*2+.4, means, [means - mins, maxs - means],\n",
    "                 fmt='.k', ecolor='gray', lw=3)\n",
    "\n",
    "\n",
    "ax.legend(loc='upper center', bbox_to_anchor=(0.5, 1.45), ncol=5, fancybox=False, shadow=False, frameon=False)\n",
    "\n",
    "ax.set_xticks(np.arange(0, len(ticks) * 2, 2), ticks)\n",
    "ax.set_xlim(-0.75, len(ticks)*2-1.25)\n",
    "ax.set_ylabel('corr');\n",
    "\n",
    "ax.tick_params(axis='both', length=10, width=3)\n",
    "for axis in ['top','bottom','left','right']:\n",
    "    ax.spines[axis].set_linewidth(4)\n",
    "    \n",
    "plt.tight_layout()\n",
    "plt.savefig('saved_figs/inv_vae_fig7_hcp.png', facecolor='white', dpi=400)"
   ]
  },
  {
   "cell_type": "code",
   "execution_count": null,
   "id": "fc5c25d7-5ea0-4b3f-b254-db0537e7a683",
   "metadata": {},
   "outputs": [],
   "source": []
  }
 ],
 "metadata": {
  "kernelspec": {
   "display_name": "Python 3 (ipykernel)",
   "language": "python",
   "name": "python3"
  },
  "language_info": {
   "codemirror_mode": {
    "name": "ipython",
    "version": 3
   },
   "file_extension": ".py",
   "mimetype": "text/x-python",
   "name": "python",
   "nbconvert_exporter": "python",
   "pygments_lexer": "ipython3",
   "version": "3.7.13"
  }
 },
 "nbformat": 4,
 "nbformat_minor": 5
}
