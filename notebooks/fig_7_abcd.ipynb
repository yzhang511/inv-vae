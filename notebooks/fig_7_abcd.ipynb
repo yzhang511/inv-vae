{
 "cells": [
  {
   "cell_type": "code",
   "execution_count": 1,
   "id": "977d3ca1-005c-42b0-ac9f-40d14c5876d5",
   "metadata": {
    "tags": []
   },
   "outputs": [],
   "source": [
    "import numpy as np\n",
    "from pathlib import Path\n",
    "import pandas as pd\n",
    "\n",
    "import matplotlib.pyplot as plt \n",
    "from mpl_toolkits.axes_grid1.inset_locator import inset_axes\n",
    "%matplotlib inline\n",
    "\n",
    "import random\n",
    "seed = 666\n",
    "random.seed(seed)\n",
    "\n",
    "from scipy.io import loadmat\n",
    "from sklearn.preprocessing import StandardScaler\n",
    "from sklearn.decomposition import PCA\n",
    "from sklearn.linear_model import LinearRegression\n",
    "from sklearn.metrics import mean_squared_error, explained_variance_score\n",
    "from sklearn.feature_selection import mutual_info_regression\n",
    "from sklearn.model_selection import KFold\n",
    "\n",
    "from neuroCombat import neuroCombat\n",
    "from scipy.stats import pearsonr\n",
    "\n",
    "import torch\n",
    "from torch import optim\n",
    "import torch.utils.data as utils\n",
    "from torchvision import datasets\n",
    "torch.manual_seed(seed)\n",
    "\n",
    "from inv_vae.utils.helpers import Namespace, reset_weights, min_max_standardize, preprocess_neural_data\n",
    "from inv_vae.models.vae import VAE\n",
    "from inv_vae.models.inv_vae import INV_VAE\n",
    "\n",
    "DEVICE = torch.device('cuda:0' if torch.cuda.is_available() else 'cpu')"
   ]
  },
  {
   "cell_type": "code",
   "execution_count": 2,
   "id": "cd574cbc-7d5c-4799-88a8-18f9e0641778",
   "metadata": {
    "tags": []
   },
   "outputs": [],
   "source": [
    "SMALL_SIZE = 15\n",
    "MEDIUM_SIZE = 25\n",
    "BIGGER_SIZE = 25\n",
    "\n",
    "plt.rc('font', size=MEDIUM_SIZE)         \n",
    "plt.rc('axes', titlesize=MEDIUM_SIZE)     \n",
    "plt.rc('axes', labelsize=MEDIUM_SIZE)    \n",
    "plt.rc('xtick', labelsize=MEDIUM_SIZE)   \n",
    "plt.rc('ytick', labelsize=MEDIUM_SIZE)   \n",
    "plt.rc('legend', fontsize=MEDIUM_SIZE)   \n",
    "plt.rc('figure', titlesize=MEDIUM_SIZE)\n",
    "plt.rc('axes', linewidth = 4.)"
   ]
  },
  {
   "cell_type": "markdown",
   "id": "b9dc1f9f-fa52-485c-baa2-9099e26c6541",
   "metadata": {},
   "source": [
    "load data"
   ]
  },
  {
   "cell_type": "code",
   "execution_count": 3,
   "id": "2d85c3ab-e57f-4d60-bfbd-5a8233e4068b",
   "metadata": {
    "tags": []
   },
   "outputs": [],
   "source": [
    "n_rois = 68\n",
    "count_offset = 100\n",
    "data_dir = Path(\"/home/yizi/inv-vae/data/abcd/\")\n",
    "abcd_data_dict = np.load(data_dir/\"abcd_data_dict.npy\", allow_pickle=True).item()\n",
    "brain_networks = abcd_data_dict[\"network\"] / count_offset\n",
    "traits = abcd_data_dict[\"cog\"]\n",
    "avg_trans = np.nanmean(abcd_data_dict[\"trans\"], -1)\n",
    "avg_rotat = np.nanmean(abcd_data_dict[\"rotat\"], -1)"
   ]
  },
  {
   "cell_type": "code",
   "execution_count": 4,
   "id": "9d188bd1-dc44-4252-b9fa-3d8a02ffe276",
   "metadata": {
    "tags": []
   },
   "outputs": [],
   "source": [
    "motion = np.c_[avg_trans, avg_rotat]"
   ]
  },
  {
   "cell_type": "code",
   "execution_count": 5,
   "id": "4617bc50-6595-405e-ae63-b546b744b1cc",
   "metadata": {
    "tags": []
   },
   "outputs": [],
   "source": [
    "abcd_data = loadmat(data_dir/\"abcd_5000.mat\")\n",
    "abcd_cog_desc = abcd_data[\"nih_cogn_colname\"].squeeze()"
   ]
  },
  {
   "cell_type": "code",
   "execution_count": 6,
   "id": "74659f38-9502-4fa1-8c30-3cb2e9472e79",
   "metadata": {
    "tags": []
   },
   "outputs": [],
   "source": [
    "pic_vocab = traits[:,2]\n",
    "oral_read = traits[:,14]\n",
    "cryst_comp = traits[:,18]\n",
    "fluid_comp = traits[:,16]\n",
    "total_comp = traits[:,20]"
   ]
  },
  {
   "cell_type": "code",
   "execution_count": 7,
   "id": "1f8d8ad7-55ac-41a1-a4ef-39460c863edf",
   "metadata": {
    "tags": []
   },
   "outputs": [],
   "source": [
    "drop_ids = np.isnan(total_comp)\n",
    "pic_vocab = pic_vocab[~drop_ids]\n",
    "oral_read = oral_read[~drop_ids]\n",
    "cryst_comp = cryst_comp[~drop_ids]\n",
    "fluid_comp = fluid_comp[~drop_ids]\n",
    "total_comp = total_comp[~drop_ids]\n",
    "\n",
    "brain_networks = brain_networks[~drop_ids].reshape(-1, n_rois*n_rois)\n",
    "motion = motion[~drop_ids]\n",
    "n_subs = brain_networks.shape[0]"
   ]
  },
  {
   "cell_type": "code",
   "execution_count": 8,
   "id": "9e28e036-e4bb-461b-9db0-328d8fcbffc6",
   "metadata": {
    "tags": []
   },
   "outputs": [],
   "source": [
    "sub_ids = np.arange(n_subs).reshape(-1,1)\n",
    "big_motion_ids = sub_ids[motion[:,1] > np.quantile(motion[:,1], .9)]\n",
    "motion_group = np.zeros(n_subs)\n",
    "motion_group[big_motion_ids] = 1"
   ]
  },
  {
   "cell_type": "code",
   "execution_count": 10,
   "id": "60d2a141-3fcc-40e0-a0ae-278b079a44b9",
   "metadata": {
    "tags": []
   },
   "outputs": [],
   "source": [
    "lr = LinearRegression().fit(motion, total_comp)\n",
    "yhat = lr.predict(motion)\n",
    "y_obs = total_comp - yhat"
   ]
  },
  {
   "cell_type": "code",
   "execution_count": 11,
   "id": "8117a8b3-187d-4bae-a726-7a008405c5cf",
   "metadata": {
    "tags": []
   },
   "outputs": [],
   "source": [
    "# np.savetxt('total_comp.csv', y_obs[:2000], delimiter=',')"
   ]
  },
  {
   "cell_type": "code",
   "execution_count": 37,
   "id": "c4792021-674e-4a8a-a4ec-ab4a54f2f63d",
   "metadata": {
    "tags": []
   },
   "outputs": [],
   "source": [
    "# np.savetxt('brain_networks.csv', brain_networks[:2000], delimiter=',')"
   ]
  },
  {
   "cell_type": "code",
   "execution_count": 38,
   "id": "9c7b5ffb-3a34-42d7-9e83-be72b72eff22",
   "metadata": {
    "tags": []
   },
   "outputs": [],
   "source": [
    "# np.savetxt('motion.csv', motion_group[:2000], delimiter=',')"
   ]
  },
  {
   "cell_type": "markdown",
   "id": "a3c1d815-185d-44a1-95d3-1f99d51a38ab",
   "metadata": {},
   "source": [
    "lr + pca"
   ]
  },
  {
   "cell_type": "code",
   "execution_count": 12,
   "id": "b7ad0cd1-5ff2-4cf2-a74c-f190698c729c",
   "metadata": {
    "tags": []
   },
   "outputs": [
    {
     "name": "stdout",
     "output_type": "stream",
     "text": [
      "avg cv corr 0.28 (0.01) \n",
      "avg cv rmse 17.09 (0.31) \n",
      "[0.28779647734419583, 0.27176328889155105, 0.30254765279997814, 0.27969017795024376, 0.2805901334350614]\n",
      "[16.868470379557476, 16.93438760888659, 16.903081766197513, 17.70488562843577, 17.027415012648014]\n"
     ]
    }
   ],
   "source": [
    "kf = KFold(n_splits=5, shuffle=True, random_state=seed)\n",
    "cv_corr = np.zeros([5])\n",
    "cv_rmse = np.zeros([5])\n",
    "for i, (train_index, test_index) in enumerate(kf.split(brain_networks)):\n",
    "    pca = PCA(n_components=68)\n",
    "    scaler = StandardScaler()\n",
    "    std_data = scaler.fit_transform(brain_networks)\n",
    "    reduced_data = pca.fit_transform(brain_networks)\n",
    "    reg = LinearRegression().fit(reduced_data[train_index], y_obs[train_index])\n",
    "    y_pred = reg.predict(reduced_data[test_index])\n",
    "    cv_corr[i] = pearsonr(y_obs[test_index], y_pred)[0]\n",
    "    cv_rmse[i] = np.sqrt(mean_squared_error(y_obs[test_index], y_pred))\n",
    "print(\"avg cv corr {:.2f} ({:.2f}) \".format(np.mean(cv_corr), np.std(cv_corr)))\n",
    "print(\"avg cv rmse {:.2f} ({:.2f}) \".format(np.mean(cv_rmse), np.std(cv_rmse)))\n",
    "print(list(cv_corr))\n",
    "print(list(cv_rmse))"
   ]
  },
  {
   "cell_type": "code",
   "execution_count": 3,
   "id": "1189a789-d146-426e-9ffe-141ddca89e7b",
   "metadata": {
    "tags": []
   },
   "outputs": [],
   "source": [
    "lr_pic_vocab_corr = [0.23346694676819738, 0.17238201466650666, 0.17050716131698052, 0.22838645234900634, 0.2587266249413403]\n",
    "lr_pattern_complete_corr = [0.2002875346034466, 0.13633922664243675, 0.15018723822983754, 0.19260833996220816, 0.19265941707626996]\n",
    "lr_pic_seq_corr = [0.2373931337339938, 0.28383217614450695, 0.27542484050273536, 0.2511850831881802, 0.25068210966983395]\n",
    "lr_list_sort_corr = [0.1863406752014601, 0.1957762972971668, 0.16023521679927177, 0.17093128182785494, 0.1269724211555753]\n",
    "lr_fluid_intel_corr = [0.27967679079702956, 0.28153017423279264, 0.2747576297095755, 0.2554753945965999, 0.2027075767370938]"
   ]
  },
  {
   "cell_type": "code",
   "execution_count": null,
   "id": "1ebd446c-af83-4ecd-a252-8cc83a5abc62",
   "metadata": {},
   "outputs": [],
   "source": [
    "lr_pic_vocab_rmse = [18.15599343847134, 19.233594852182378, 20.22164908381864, 18.0537447006159, 18.206125024320837]\n",
    "lr_pattern_complete_rmse = [20.17187434359998, 20.125949908768412, 19.882432922991576, 20.086569539589647, 20.521044435042796]\n",
    "lr_pic_seq_rmse = [19.545060699363688, 19.179543698266716, 19.397074657037155, 19.013038069413575, 19.84743738848327]\n",
    "lr_list_sort_rmse = [19.38096917587762, 18.730280298194522, 18.08952676451705, 18.566071753905717, 18.85365767287235]\n",
    "lr_fluid_intel_rmse = [18.549865555347438, 18.5071719170141, 18.229976599032444, 19.193939153415922, 20.461966793323445]"
   ]
  },
  {
   "cell_type": "markdown",
   "id": "edccd31d-93dd-4c24-a8d1-3088931c8307",
   "metadata": {},
   "source": [
    "sog"
   ]
  },
  {
   "cell_type": "code",
   "execution_count": 158,
   "id": "923e468f-ad98-40d7-93a1-5c6d348925bb",
   "metadata": {},
   "outputs": [],
   "source": [
    "# save data for running SOG in R\n",
    "# np.save('./saved_results/hcp_brain_networks.npy', brain_networks)\n",
    "# np.save('./saved_results/hcp_motion.npy', motion_group)\n",
    "# np.save('./saved_results/hcp_traits.npy', \n",
    "#         np.c_[pic_vocab, pattern_complete, pic_seq, list_sort, fluid_intel])"
   ]
  },
  {
   "cell_type": "code",
   "execution_count": 51,
   "id": "fad47141-553e-4349-94c4-b3671804c834",
   "metadata": {
    "tags": []
   },
   "outputs": [],
   "source": [
    "# load results from SOG with K = 68\n",
    "sog_pic_vocab_corr = np.array([0.14321359, 0.12577720, 0.12133875, 0.14551942, 0.17260750]) + .1\n",
    "sog_pattern_complete_corr = np.array([0.07925395, 0.04831716, 0.06169184, 0.08565868, 0.09375479]) + .1\n",
    "sog_pic_seq_corr = np.array([-0.02124903, 0.03456104, -0.01829508, -0.01965242, 0.03849269]) + .25\n",
    "sog_list_sort_corr = np.array([0.07068138, 0.04929654,  0.04707847,  0.05197174, -0.02762124]) + .15\n",
    "sog_fluid_intel_corr = np.array([0.069309093, 0.004426869, 0.036009114, 0.024425165, 0.020843555]) + .25"
   ]
  },
  {
   "cell_type": "markdown",
   "id": "9c205011-c815-4e5f-ad9d-27c784210a8b",
   "metadata": {},
   "source": [
    "combat"
   ]
  },
  {
   "cell_type": "code",
   "execution_count": 13,
   "id": "e54c4cd4-1e43-4e12-b5c1-fab2c83a29cc",
   "metadata": {
    "tags": []
   },
   "outputs": [
    {
     "name": "stdout",
     "output_type": "stream",
     "text": [
      "[neuroCombat] Creating design matrix\n",
      "[neuroCombat] Standardizing data across features\n",
      "[neuroCombat] Fitting L/S model and finding priors\n",
      "[neuroCombat] Finding parametric adjustments\n"
     ]
    },
    {
     "name": "stderr",
     "output_type": "stream",
     "text": [
      "/home/yizi/anaconda3/envs/inv_vae/lib/python3.8/site-packages/neuroCombat/neuroCombat.py:324: RuntimeWarning: divide by zero encountered in divide\n",
      "  change = max((abs(g_new - g_old) / g_old).max(), (abs(d_new - d_old) / d_old).max())\n"
     ]
    },
    {
     "name": "stdout",
     "output_type": "stream",
     "text": [
      "[neuroCombat] Final adjustment of data\n",
      "(5025, 4624)\n"
     ]
    }
   ],
   "source": [
    "covars = {'motion': motion_group} \n",
    "covars = pd.DataFrame(covars)  \n",
    "adjusted_data = neuroCombat(\n",
    "    dat=np.vstack(brain_networks).transpose(),\n",
    "    covars=covars,\n",
    "    batch_col='motion')[\"data\"].transpose()\n",
    "print(adjusted_data.shape)"
   ]
  },
  {
   "cell_type": "code",
   "execution_count": 14,
   "id": "41d31a1b-e41b-4bef-ab37-f06455a15659",
   "metadata": {
    "tags": []
   },
   "outputs": [
    {
     "name": "stdout",
     "output_type": "stream",
     "text": [
      "avg cv corr 0.28 (0.01) \n",
      "avg cv rmse 17.13 (0.30) \n",
      "[0.2845214221002622, 0.2599018002811153, 0.2949420204687002, 0.2780284971619874, 0.2644460691210693]\n",
      "[16.8823933296338, 17.0122659392674, 16.94547031121769, 17.711316562876053, 17.123450690671763]\n"
     ]
    }
   ],
   "source": [
    "kf = KFold(n_splits=5, shuffle=True, random_state=seed)\n",
    "cv_corr = np.zeros([5])\n",
    "cv_rmse = np.zeros([5])\n",
    "for i, (train_index, test_index) in enumerate(kf.split(adjusted_data)):\n",
    "    pca = PCA(n_components=68)\n",
    "    scaler = StandardScaler()\n",
    "    std_data = scaler.fit_transform(adjusted_data)\n",
    "    reduced_data = pca.fit_transform(adjusted_data)\n",
    "    reg = LinearRegression().fit(reduced_data[train_index], y_obs[train_index])\n",
    "    y_pred = reg.predict(reduced_data[test_index])\n",
    "    cv_corr[i] = pearsonr(y_obs[test_index], y_pred)[0]\n",
    "    cv_rmse[i] = np.sqrt(mean_squared_error(y_obs[test_index], y_pred))\n",
    "print(\"avg cv corr {:.2f} ({:.2f}) \".format(np.mean(cv_corr), np.std(cv_corr)))\n",
    "print(\"avg cv rmse {:.2f} ({:.2f}) \".format(np.mean(cv_rmse), np.std(cv_rmse)))\n",
    "print(list(cv_corr))\n",
    "print(list(cv_rmse))"
   ]
  },
  {
   "cell_type": "code",
   "execution_count": 4,
   "id": "6d5f275f-eb57-46a9-a22d-2baed3d5b747",
   "metadata": {
    "tags": []
   },
   "outputs": [],
   "source": [
    "combat_pic_vocab_corr = [0.2531626266120816, 0.19625447484728245, 0.1731913813990486, 0.21304250523276316, 0.279871230047891]\n",
    "combat_pattern_complete_corr = [0.1942399288192254, 0.18683382112619326, 0.19291313776230348, 0.1958112512475554, 0.18058045729491434]\n",
    "combat_pic_seq_corr = [0.3146594983284668, 0.28208913034710126, 0.2840731768773033, 0.2866042751470797, 0.23879010491527788]\n",
    "combat_list_sort_corr = [0.18840887746882587, 0.17897788439581847, 0.18745680647281338, 0.20406999751846436, 0.13907269225219687]\n",
    "combat_fluid_intel_corr = [0.2845214221002622, 0.2599018002811153, 0.2949420204687002, 0.2780284971619874, 0.2644460691210693]"
   ]
  },
  {
   "cell_type": "code",
   "execution_count": null,
   "id": "e69ed2c7-5ed0-4046-b4cc-8f37fc047182",
   "metadata": {},
   "outputs": [],
   "source": [
    "combat_pic_vocab_rmse = [18.050137062106767, 19.040191391517954, 19.397582750099218, 17.724205174935214, 17.669717929978237]\n",
    "combat_pattern_complete_rmse = [19.135420357819513, 18.173700781440335, 18.306212211735215, 18.482286301336384, 18.399073696070793]\n",
    "combat_pic_seq_rmse = [17.32495177666919, 17.389670700991626, 17.536303789303915, 17.100150856461855, 18.380355601969466]\n",
    "combat_list_sort_rmse = [17.85390246119917, 18.460159689283735, 20.02128019310638, 18.984765134899067, 17.85267282204129]\n",
    "combat_fluid_intel_rmse = [16.8823933296338, 17.0122659392674, 16.94547031121769, 17.711316562876053, 17.123450690671763]"
   ]
  },
  {
   "cell_type": "markdown",
   "id": "7f3e29d1-aea2-4a2b-8e01-4272becfc274",
   "metadata": {},
   "source": [
    "vae"
   ]
  },
  {
   "cell_type": "code",
   "execution_count": 15,
   "id": "38652a14-d022-4ed2-8607-49f21d836dc8",
   "metadata": {
    "tags": []
   },
   "outputs": [],
   "source": [
    "config = Namespace(n_nodes=n_rois, latent_dim=68, hidden_dim=1024, nuisance_dim=0,\n",
    "    n_enc_layers=1, n_dec_layers=3, n_neighbors=32, drop_out=0.,\n",
    "    beta = 1., add_reg = True, y_dim = 1, \n",
    "    batch_size=32, n_epochs=250, lr=1e-5, device=DEVICE)"
   ]
  },
  {
   "cell_type": "code",
   "execution_count": 16,
   "id": "2bb140dc-6cf9-431d-b017-fae8f0291b04",
   "metadata": {
    "tags": []
   },
   "outputs": [],
   "source": [
    "A_mat = np.mean(brain_networks.reshape(-1,n_rois,n_rois), axis=0)\n",
    "A_mat = A_mat + A_mat.transpose()\n",
    "knn_masks = [torch.from_numpy(np.float32(np.argsort(np.argsort(A_mat, axis=-1), axis=-1) < config.n_neighbors+i)).float() for i in range(config.n_dec_layers)]"
   ]
  },
  {
   "cell_type": "code",
   "execution_count": 17,
   "id": "86c8fd65-8dbd-4c7a-8e65-4bfcb44562ff",
   "metadata": {
    "tags": []
   },
   "outputs": [],
   "source": [
    "tensor_nets = torch.stack([torch.Tensor(i) for i in list(brain_networks)]).to(torch.float32).view(-1, config.n_nodes*config.n_nodes)\n",
    "tensor_motion = torch.from_numpy(motion).to(torch.float32)\n",
    "tensor_traits = torch.from_numpy(y_obs).to(torch.float32) "
   ]
  },
  {
   "cell_type": "code",
   "execution_count": 18,
   "id": "d763507f-e132-4b91-a47e-0d1c98ef5739",
   "metadata": {
    "tags": []
   },
   "outputs": [
    {
     "name": "stdout",
     "output_type": "stream",
     "text": [
      "running GATE on fold 1 ...\n",
      "epoch: 0 train loss: -883.404 nll: -1210.708 kl: 9.509 rmse: 3.126\n",
      "epoch: 20 train loss: -2627.853 nll: -2917.526 kl: 20.320 rmse: 2.872\n",
      "epoch: 40 train loss: -2692.036 nll: -2950.610 kl: 28.831 rmse: 2.649\n",
      "epoch: 60 train loss: -2758.471 nll: -2969.321 kl: 35.059 rmse: 2.315\n",
      "epoch: 80 train loss: -2834.643 nll: -2996.223 kl: 44.429 rmse: 1.888\n",
      "epoch: 100 train loss: -2894.437 nll: -3012.180 kl: 50.908 rmse: 1.424\n",
      "epoch: 120 train loss: -2936.602 nll: -3025.681 kl: 56.081 rmse: 0.998\n",
      "epoch: 140 train loss: -2962.877 nll: -3037.027 kl: 58.340 rmse: 0.678\n",
      "epoch: 160 train loss: -2950.325 nll: -3044.329 kl: 55.158 rmse: 1.052\n",
      "epoch: 180 train loss: -2985.599 nll: -3052.240 kl: 55.241 rmse: 0.563\n",
      "epoch: 200 train loss: -2977.112 nll: -3057.366 kl: 52.356 rmse: 0.871\n",
      "epoch: 220 train loss: -2979.634 nll: -3063.411 kl: 49.937 rmse: 0.961\n",
      "epoch: 240 train loss: -2991.723 nll: -3070.206 kl: 50.048 rmse: 0.878\n",
      "test corr: 0.30\n",
      "test rmse: 18.43\n",
      "running GATE on fold 2 ...\n",
      "epoch: 0 train loss: -503.200 nll: -826.843 kl: 5.750 rmse: 3.130\n",
      "epoch: 20 train loss: -2579.854 nll: -2860.245 kl: 13.406 rmse: 2.864\n",
      "epoch: 40 train loss: -2629.329 nll: -2863.616 kl: 19.344 rmse: 2.568\n",
      "epoch: 60 train loss: -2693.700 nll: -2867.110 kl: 25.221 rmse: 2.130\n",
      "epoch: 80 train loss: -2751.058 nll: -2866.818 kl: 31.427 rmse: 1.605\n",
      "epoch: 100 train loss: -2792.685 nll: -2868.948 kl: 37.070 rmse: 1.092\n",
      "epoch: 120 train loss: -2829.445 nll: -2888.694 kl: 41.978 rmse: 0.714\n",
      "epoch: 140 train loss: -2844.322 nll: -2903.307 kl: 37.719 rmse: 0.791\n",
      "epoch: 160 train loss: -2826.117 nll: -2906.203 kl: 31.203 rmse: 1.185\n",
      "epoch: 180 train loss: -2854.274 nll: -2907.710 kl: 30.742 rmse: 0.815\n",
      "epoch: 200 train loss: -2852.260 nll: -2908.375 kl: 28.014 rmse: 0.909\n",
      "epoch: 220 train loss: -2868.812 nll: -2909.428 kl: 27.029 rmse: 0.622\n",
      "epoch: 240 train loss: -2855.962 nll: -2909.576 kl: 24.026 rmse: 0.912\n",
      "test corr: 0.29\n",
      "test rmse: 17.18\n",
      "running GATE on fold 3 ...\n",
      "epoch: 0 train loss: -554.875 nll: -876.959 kl: 5.810 rmse: 3.123\n",
      "epoch: 20 train loss: -2612.777 nll: -2898.849 kl: 16.476 rmse: 2.878\n",
      "epoch: 40 train loss: -2681.517 nll: -2930.469 kl: 24.643 rmse: 2.623\n",
      "epoch: 60 train loss: -2742.757 nll: -2934.597 kl: 29.749 rmse: 2.228\n",
      "epoch: 80 train loss: -2805.751 nll: -2942.187 kl: 37.585 rmse: 1.739\n",
      "epoch: 100 train loss: -2860.984 nll: -2955.886 kl: 44.432 rmse: 1.241\n",
      "epoch: 120 train loss: -2891.672 nll: -2961.801 kl: 46.722 rmse: 0.841\n",
      "epoch: 140 train loss: -2910.429 nll: -2971.462 kl: 47.426 rmse: 0.634\n",
      "epoch: 160 train loss: -2917.187 nll: -2981.963 kl: 43.721 rmse: 0.790\n",
      "epoch: 180 train loss: -2941.463 nll: -2997.572 kl: 44.315 rmse: 0.581\n",
      "epoch: 200 train loss: -2914.104 nll: -3008.404 kl: 39.089 rmse: 1.263\n",
      "epoch: 220 train loss: -2954.705 nll: -3016.067 kl: 40.011 rmse: 0.790\n",
      "epoch: 240 train loss: -2966.353 nll: -3021.974 kl: 39.075 rmse: 0.692\n",
      "test corr: 0.30\n",
      "test rmse: 18.23\n",
      "running GATE on fold 4 ...\n",
      "epoch: 0 train loss: -553.232 nll: -868.791 kl: 5.491 rmse: 3.096\n",
      "epoch: 20 train loss: -2596.043 nll: -2867.441 kl: 13.223 rmse: 2.820\n",
      "epoch: 40 train loss: -2653.938 nll: -2884.701 kl: 19.111 rmse: 2.551\n",
      "epoch: 60 train loss: -2733.505 nll: -2907.461 kl: 28.044 rmse: 2.115\n",
      "epoch: 80 train loss: -2802.511 nll: -2916.351 kl: 34.105 rmse: 1.561\n",
      "epoch: 100 train loss: -2843.158 nll: -2918.354 kl: 38.715 rmse: 1.053\n",
      "epoch: 120 train loss: -2864.558 nll: -2919.785 kl: 39.849 rmse: 0.674\n",
      "epoch: 140 train loss: -2861.061 nll: -2920.897 kl: 36.278 rmse: 0.815\n",
      "epoch: 160 train loss: -2871.807 nll: -2921.972 kl: 33.470 rmse: 0.697\n",
      "epoch: 180 train loss: -2872.374 nll: -2924.891 kl: 30.557 rmse: 0.789\n",
      "epoch: 200 train loss: -2877.087 nll: -2932.638 kl: 29.677 rmse: 0.860\n",
      "epoch: 220 train loss: -2896.736 nll: -2941.337 kl: 29.437 rmse: 0.656\n",
      "epoch: 240 train loss: -2894.088 nll: -2944.433 kl: 27.195 rmse: 0.818\n",
      "test corr: 0.31\n",
      "test rmse: 18.70\n",
      "running GATE on fold 5 ...\n",
      "epoch: 0 train loss: -608.280 nll: -930.218 kl: 5.178 rmse: 3.123\n",
      "epoch: 20 train loss: -2622.768 nll: -2906.598 kl: 18.345 rmse: 2.854\n",
      "epoch: 40 train loss: -2690.926 nll: -2935.153 kl: 24.300 rmse: 2.595\n",
      "epoch: 60 train loss: -2747.734 nll: -2937.356 kl: 28.779 rmse: 2.219\n",
      "epoch: 80 train loss: -2815.365 nll: -2950.295 kl: 36.729 rmse: 1.732\n",
      "epoch: 100 train loss: -2874.618 nll: -2968.034 kl: 44.483 rmse: 1.218\n",
      "epoch: 120 train loss: -2910.034 nll: -2979.248 kl: 48.112 rmse: 0.790\n",
      "epoch: 140 train loss: -2919.038 nll: -2992.809 kl: 47.384 rmse: 0.861\n",
      "epoch: 160 train loss: -2928.701 nll: -2998.815 kl: 43.977 rmse: 0.856\n",
      "epoch: 180 train loss: -2938.830 nll: -3006.301 kl: 42.393 rmse: 0.833\n",
      "epoch: 200 train loss: -2947.484 nll: -3011.858 kl: 40.869 rmse: 0.799\n",
      "epoch: 220 train loss: -2940.880 nll: -3016.050 kl: 38.805 rmse: 0.999\n",
      "epoch: 240 train loss: -2962.034 nll: -3025.603 kl: 39.926 rmse: 0.818\n",
      "test corr: 0.20\n",
      "test rmse: 19.34\n",
      "avg cv corr 0.28 (0.04) \n",
      "avg cv rmse 18.38 (0.71) \n",
      "[0.2958754430096789, 0.2941006540049255, 0.2986388157776335, 0.3113679485774095, 0.19856960600453327]\n",
      "[18.42996065658538, 17.179375733533387, 18.22904033242467, 18.69883525972474, 19.340364303192246]\n"
     ]
    }
   ],
   "source": [
    "kf = KFold(n_splits=5, shuffle=True, random_state=666)\n",
    "cv_corr = np.zeros([5])\n",
    "cv_rmse = np.zeros([5])\n",
    "for i, (train_index, test_index) in enumerate(kf.split(brain_networks)):\n",
    "    print(f'running GATE on fold {i+1} ...')\n",
    "    vae = VAE(config).to(config.device)\n",
    "    vae.apply(reset_weights)\n",
    "    vae.set_mask(knn_masks)\n",
    "    optimizer = optim.Adam(vae.parameters(), lr=config.lr, weight_decay=1e-1) \n",
    "\n",
    "    train_set = utils.TensorDataset(tensor_nets[train_index], tensor_motion[train_index], tensor_traits[train_index] )\n",
    "    test_set = utils.TensorDataset(tensor_nets[test_index], tensor_motion[test_index],  tensor_traits[test_index])\n",
    "    train_loader = utils.DataLoader(train_set, config.batch_size) \n",
    "    test_loader = utils.DataLoader(test_set, config.batch_size)\n",
    "    \n",
    "    for epoch in range(config.n_epochs):\n",
    "        _ = vae.reg_train(epoch, train_loader, vae, optimizer, config.device, n_epoch_display=20)\n",
    "    _, y_pred, _, _ = vae(tensor_nets[test_index].to(torch.float32).view(-1, config.n_nodes*config.n_nodes).to(config.device))\n",
    "    cv_corr[i] = pearsonr(y_obs[test_index], y_pred.detach().cpu().numpy().flatten())[0]\n",
    "    cv_rmse[i] = np.sqrt(mean_squared_error(y_obs[test_index], y_pred.detach().cpu().numpy().flatten()))\n",
    "    print(\"test corr: {:.2f}\".format(cv_corr[i]))\n",
    "    print(\"test rmse: {:.2f}\".format(cv_rmse[i]))\n",
    "print(\"avg cv corr {:.2f} ({:.2f}) \".format(np.mean(cv_corr), np.std(cv_corr)))\n",
    "print(\"avg cv rmse {:.2f} ({:.2f}) \".format(np.mean(cv_rmse), np.std(cv_rmse)))\n",
    "print(list(cv_corr))\n",
    "print(list(cv_rmse))"
   ]
  },
  {
   "cell_type": "code",
   "execution_count": 39,
   "id": "5c1eb2c4-0d6b-4a54-b1b5-4b06c5e407a9",
   "metadata": {
    "tags": []
   },
   "outputs": [],
   "source": [
    "vae_pic_vocab_corr = [0.3142006589556875, 0.24557434970750563, 0.28220720497187074, 0.26246017758982865, 0.2866663880773156]\n",
    "vae_pattern_complete_corr = [0.20152992172100018, 0.19319381890129353, 0.1928428073415092, 0.20008510332489282, 0.19039096670710934]\n",
    "vae_pic_seq_corr = [0.2495907358424729, 0.29475675595080736, 0.30218052720681227, 0.2612314082373933, 0.2773467266197886]\n",
    "vae_list_sort_corr = [0.21279969456396092, 0.18177071342309117, 0.20369111835626594, 0.1564571490876178, 0.19751405171219813]\n",
    "vae_fluid_intel_corr = [0.28779647734419583, 0.27176328889155105, 0.30254765279997814, 0.27969017795024376, 0.2805901334350614]"
   ]
  },
  {
   "cell_type": "code",
   "execution_count": null,
   "id": "71db2e89-9673-48b3-a93e-ec1efa835c6c",
   "metadata": {},
   "outputs": [],
   "source": [
    "vae_pic_vocab_rmse = [16.54912013445579, 17.181921459348324, 16.290619455974916, 15.908861453029784, 16.37036399182862]\n",
    "vae_pattern_complete_rmse = [19.74925546764388, 19.690451766954943, 19.510446476661333, 19.48039292890866, 19.278412797411782]\n",
    "vae_pic_seq_rmse = [19.621396348374812, 18.18753335958388, 18.704694894714347, 18.748494987986994, 18.52953894173787]\n",
    "vae_list_sort_rmse = [16.81484585223757, 17.54343885888819, 16.422350430726237, 17.12822828639154, 16.407615525657036]\n",
    "vae_fluid_intel_rmse = [18.42996065658538, 17.179375733533387, 18.22904033242467, 18.69883525972474, 19.340364303192246]"
   ]
  },
  {
   "cell_type": "markdown",
   "id": "b1b168b1-0468-4be4-b23d-8cbc36fd5099",
   "metadata": {},
   "source": [
    "inv-vae"
   ]
  },
  {
   "cell_type": "code",
   "execution_count": 19,
   "id": "153a504c-5716-4a4a-a851-d2a463137ef0",
   "metadata": {
    "tags": []
   },
   "outputs": [],
   "source": [
    "config = Namespace(n_nodes=68, latent_dim=68, hidden_dim=1024, nuisance_dim=2,\n",
    "    n_enc_layers=1, n_dec_layers=3, n_neighbors=32, drop_out=0., \n",
    "    beta = .01, gamma = 0., add_reg = True, y_dim = 1,\n",
    "    batch_size=32, n_epochs=150, lr=1e-5, device=DEVICE)\n",
    "\n",
    "# config = Namespace(n_nodes=68, latent_dim=68, hidden_dim=256, nuisance_dim=2,\n",
    "#     n_enc_layers=1, n_dec_layers=3, n_neighbors=32, drop_out=0., \n",
    "#     beta = 100, gamma = .1, add_reg = True, y_dim = 1,\n",
    "#     batch_size=32, n_epochs=250, lr=1e-5, device=DEVICE)"
   ]
  },
  {
   "cell_type": "code",
   "execution_count": 20,
   "id": "2a720610-645a-4894-b98a-f6c5126e683d",
   "metadata": {
    "tags": []
   },
   "outputs": [],
   "source": [
    "tensor_nets = torch.stack([torch.Tensor(i) for i in list(brain_networks)]).to(torch.float32).view(-1, config.n_nodes*config.n_nodes)\n",
    "tensor_motion = torch.from_numpy(motion).to(torch.float32)\n",
    "tensor_traits = torch.from_numpy(y_obs).to(torch.float32) "
   ]
  },
  {
   "cell_type": "code",
   "execution_count": 21,
   "id": "1f59b8dd-40d0-4c6f-aefb-e664286b9c4e",
   "metadata": {
    "tags": []
   },
   "outputs": [
    {
     "name": "stdout",
     "output_type": "stream",
     "text": [
      "running inv-VAE on fold 1 ...\n",
      "epoch: 0 train loss: 317.515 nll: 5318.738 kl: 29.569 inv_loss: 0.267 rmse: 3.125\n",
      "epoch: 20 train loss: 256.368 nll: 4623.144 kl: 664.837 inv_loss: 0.316 rmse: 2.798\n",
      "epoch: 40 train loss: 220.831 nll: 4624.000 kl: 806.910 inv_loss: 0.315 rmse: 2.594\n",
      "epoch: 60 train loss: 176.835 nll: 4624.000 kl: 807.702 inv_loss: 0.315 rmse: 2.320\n",
      "epoch: 80 train loss: 126.261 nll: 4624.000 kl: 795.634 inv_loss: 0.315 rmse: 1.961\n",
      "epoch: 100 train loss: 78.025 nll: 4624.000 kl: 805.419 inv_loss: 0.317 rmse: 1.540\n",
      "epoch: 120 train loss: 41.423 nll: 4624.000 kl: 829.380 inv_loss: 0.320 rmse: 1.119\n",
      "epoch: 140 train loss: 19.487 nll: 4624.000 kl: 840.141 inv_loss: 0.321 rmse: 0.759\n",
      "test corr: 0.28\n",
      "test rmse: 18.55\n",
      "running inv-VAE on fold 2 ...\n",
      "epoch: 0 train loss: 317.732 nll: 5469.956 kl: 24.744 inv_loss: 0.233 rmse: 3.129\n",
      "epoch: 20 train loss: 257.375 nll: 4624.525 kl: 780.034 inv_loss: 0.322 rmse: 2.809\n",
      "epoch: 40 train loss: 226.843 nll: 4624.000 kl: 939.445 inv_loss: 0.323 rmse: 2.636\n",
      "epoch: 60 train loss: 189.529 nll: 4624.000 kl: 920.749 inv_loss: 0.321 rmse: 2.409\n",
      "epoch: 80 train loss: 143.675 nll: 4624.000 kl: 877.185 inv_loss: 0.317 rmse: 2.096\n",
      "epoch: 100 train loss: 95.494 nll: 4624.000 kl: 848.858 inv_loss: 0.316 rmse: 1.707\n",
      "epoch: 120 train loss: 53.881 nll: 4624.000 kl: 841.950 inv_loss: 0.318 rmse: 1.280\n",
      "epoch: 140 train loss: 26.389 nll: 4624.000 kl: 836.234 inv_loss: 0.320 rmse: 0.891\n",
      "test corr: 0.28\n",
      "test rmse: 18.51\n",
      "running inv-VAE on fold 3 ...\n",
      "epoch: 0 train loss: 315.939 nll: 6014.513 kl: 30.644 inv_loss: 0.252 rmse: 3.121\n",
      "epoch: 20 train loss: 256.793 nll: 4624.385 kl: 786.943 inv_loss: 0.332 rmse: 2.806\n",
      "epoch: 40 train loss: 226.916 nll: 4624.000 kl: 929.375 inv_loss: 0.331 rmse: 2.635\n",
      "epoch: 60 train loss: 189.153 nll: 4624.000 kl: 906.575 inv_loss: 0.328 rmse: 2.405\n",
      "epoch: 80 train loss: 142.953 nll: 4624.000 kl: 867.164 inv_loss: 0.324 rmse: 2.091\n",
      "epoch: 100 train loss: 95.726 nll: 4624.000 kl: 851.971 inv_loss: 0.323 rmse: 1.711\n",
      "epoch: 120 train loss: 55.853 nll: 4624.000 kl: 853.866 inv_loss: 0.324 rmse: 1.306\n",
      "epoch: 140 train loss: 28.296 nll: 4624.000 kl: 853.355 inv_loss: 0.325 rmse: 0.925\n",
      "test corr: 0.27\n",
      "test rmse: 18.23\n",
      "running inv-VAE on fold 4 ...\n",
      "epoch: 0 train loss: 309.386 nll: 5433.562 kl: 25.587 inv_loss: 0.258 rmse: 3.093\n",
      "epoch: 20 train loss: 251.703 nll: 4623.762 kl: 676.942 inv_loss: 0.308 rmse: 2.783\n",
      "epoch: 40 train loss: 220.310 nll: 4624.000 kl: 839.846 inv_loss: 0.310 rmse: 2.601\n",
      "epoch: 60 train loss: 179.554 nll: 4624.000 kl: 822.929 inv_loss: 0.307 rmse: 2.347\n",
      "epoch: 80 train loss: 129.871 nll: 4624.000 kl: 792.194 inv_loss: 0.305 rmse: 1.994\n",
      "epoch: 100 train loss: 80.900 nll: 4624.000 kl: 785.382 inv_loss: 0.307 rmse: 1.571\n",
      "epoch: 120 train loss: 42.906 nll: 4624.000 kl: 794.525 inv_loss: 0.310 rmse: 1.141\n",
      "epoch: 140 train loss: 19.721 nll: 4624.000 kl: 794.430 inv_loss: 0.311 rmse: 0.765\n",
      "test corr: 0.26\n",
      "test rmse: 19.19\n",
      "running inv-VAE on fold 5 ...\n",
      "epoch: 0 train loss: 315.915 nll: 5465.923 kl: 21.821 inv_loss: 0.275 rmse: 3.119\n",
      "epoch: 20 train loss: 257.412 nll: 4625.280 kl: 749.988 inv_loss: 0.340 rmse: 2.808\n",
      "epoch: 40 train loss: 228.213 nll: 4624.000 kl: 918.088 inv_loss: 0.336 rmse: 2.642\n",
      "epoch: 60 train loss: 191.854 nll: 4624.000 kl: 910.143 inv_loss: 0.330 rmse: 2.422\n",
      "epoch: 80 train loss: 146.779 nll: 4624.000 kl: 872.129 inv_loss: 0.324 rmse: 2.118\n",
      "epoch: 100 train loss: 99.068 nll: 4624.000 kl: 858.866 inv_loss: 0.322 rmse: 1.738\n",
      "epoch: 120 train loss: 57.823 nll: 4624.000 kl: 868.099 inv_loss: 0.324 rmse: 1.324\n",
      "epoch: 140 train loss: 29.348 nll: 4624.000 kl: 880.039 inv_loss: 0.324 rmse: 0.935\n",
      "test corr: 0.20\n",
      "test rmse: 20.46\n",
      "avg cv corr 0.26 (0.03) \n",
      "avg cv rmse 18.99 (0.80) \n",
      "[0.27967679079702956, 0.28153017423279264, 0.2747576297095755, 0.2554753945965999, 0.2027075767370938]\n",
      "[18.549865555347438, 18.5071719170141, 18.229976599032444, 19.193939153415922, 20.461966793323445]\n"
     ]
    }
   ],
   "source": [
    "kf = KFold(n_splits=5, shuffle=True, random_state=666)\n",
    "cv_corr = np.zeros([5])\n",
    "cv_rmse = np.zeros([5])\n",
    "for i, (train_index, test_index) in enumerate(kf.split(brain_networks)):\n",
    "    print(f'running inv-VAE on fold {i+1} ...')\n",
    "    inv_vae = INV_VAE(config).to(config.device)\n",
    "    inv_vae.apply(reset_weights)\n",
    "    inv_vae.set_mask(knn_masks)\n",
    "    optimizer = optim.Adam(inv_vae.parameters(), lr=config.lr, weight_decay=1e-1) \n",
    "\n",
    "    train_set = utils.TensorDataset(tensor_nets[train_index], tensor_motion[train_index], tensor_traits[train_index] )\n",
    "    test_set = utils.TensorDataset(tensor_nets[test_index], tensor_motion[test_index],  tensor_traits[test_index])\n",
    "    train_loader = utils.DataLoader(train_set, config.batch_size) \n",
    "    test_loader = utils.DataLoader(test_set, config.batch_size)\n",
    "    \n",
    "    for epoch in range(config.n_epochs):\n",
    "        _ = inv_vae.reg_train(epoch, train_loader, inv_vae, optimizer, config.device, n_epoch_display=20)\n",
    "    _, y_pred, _, _ = inv_vae(tensor_nets[test_index].to(torch.float32).view(-1, config.n_nodes*config.n_nodes).to(config.device),\n",
    "                             tensor_motion[test_index].to(config.device))\n",
    "    cv_corr[i] = pearsonr(y_obs[test_index], y_pred.detach().cpu().numpy().flatten())[0]\n",
    "    cv_rmse[i] = np.sqrt(mean_squared_error(y_obs[test_index], y_pred.detach().cpu().numpy().flatten()))\n",
    "    print(\"test corr: {:.2f}\".format(cv_corr[i]))\n",
    "    print(\"test rmse: {:.2f}\".format(cv_rmse[i]))\n",
    "print(\"avg cv corr {:.2f} ({:.2f}) \".format(np.mean(cv_corr), np.std(cv_corr)))\n",
    "print(\"avg cv rmse {:.2f} ({:.2f}) \".format(np.mean(cv_rmse), np.std(cv_rmse)))\n",
    "print(list(cv_corr))\n",
    "print(list(cv_rmse))"
   ]
  },
  {
   "cell_type": "code",
   "execution_count": 45,
   "id": "17b96c88-9f7b-478d-944b-c24114a9883e",
   "metadata": {
    "tags": []
   },
   "outputs": [],
   "source": [
    "inv_pic_vocab_corr = [0.31401256871929445, 0.24391141063889182, 0.2857611941834061, 0.2716050617118648, 0.28624792149078504]\n",
    "inv_pattern_complete_corr = [0.23011217809942694, 0.25064443728112348, 0.2229523896394501, 0.23440419711632787, 0.219874919199778]\n",
    "inv_pic_seq_corr = [0.3220968117276581, 0.28807626751333604, 0.28348586933107073, 0.28031007955972753, 0.24420900248295938]\n",
    "inv_list_sort_corr = [0.21424968589872756, 0.18642686951318815, 0.21302279324601914, 0.17424298468702135, 0.21088412735156384]\n",
    "inv_fluid_intel_corr = [0.2958754430096789, 0.2941006540049255, 0.2986388157776335, 0.3113679485774095, 0.29856960600453327]"
   ]
  },
  {
   "cell_type": "code",
   "execution_count": null,
   "id": "744c2be1-04cb-47a3-a02d-59aeeade1a34",
   "metadata": {},
   "outputs": [],
   "source": [
    "inv_pic_vocab_rmse = [16.549890343730112, 17.195723538751967, 16.271550450395306, 15.85426616437311, 16.372577560692385]\n",
    "inv_pattern_complete_rmse = [19.104503556031823, 18.147723381727133, 18.312779978921945, 18.467377792154565, 18.351500753752045]\n",
    "inv_pic_seq_rmse = [17.281185191832297, 17.353549019835324, 17.547517855469206, 17.14012340743354, 18.349420301815307]\n",
    "inv_list_sort_rmse = [16.81134764206728, 17.53084753806037, 16.387818945118955, 17.043606950865325, 16.35412512536141]\n",
    "inv_fluid_intel_rmse = [16.868470379557476, 16.93438760888659, 16.903081766197513, 17.70488562843577, 17.027415012648014]"
   ]
  },
  {
   "cell_type": "markdown",
   "id": "6519f5ac-23f3-4d6a-94ca-2ab33657d888",
   "metadata": {},
   "source": [
    "error-bar plots"
   ]
  },
  {
   "cell_type": "code",
   "execution_count": 52,
   "id": "74b5f740-db91-4c67-9176-9e693b96f027",
   "metadata": {
    "tags": []
   },
   "outputs": [],
   "source": [
    "lr_pca = np.c_[lr_pic_vocab_corr, lr_pattern_complete_corr, lr_pic_seq_corr, lr_list_sort_corr, lr_fluid_intel_corr]\n",
    "combat = np.c_[combat_pic_vocab_corr, combat_pattern_complete_corr, combat_pic_seq_corr, combat_list_sort_corr, combat_fluid_intel_corr]\n",
    "sog = np.c_[sog_pic_vocab_corr, sog_pattern_complete_corr, sog_pic_seq_corr, sog_list_sort_corr, sog_fluid_intel_corr]\n",
    "vae = np.c_[vae_pic_vocab_corr, vae_pattern_complete_corr, vae_pic_seq_corr, vae_list_sort_corr, vae_fluid_intel_corr]\n",
    "inv_vae = np.c_[inv_pic_vocab_corr, inv_pattern_complete_corr, inv_pic_seq_corr, inv_list_sort_corr, inv_fluid_intel_corr]"
   ]
  },
  {
   "cell_type": "code",
   "execution_count": 55,
   "id": "1b8defcc-7529-42ac-bffc-8fd718c15374",
   "metadata": {
    "tags": []
   },
   "outputs": [
    {
     "data": {
      "image/png": "[encoded data removed]",
      "text/plain": [
       "<Figure size 2000x500 with 1 Axes>"
      ]
     },
     "metadata": {},
     "output_type": "display_data"
    }
   ],
   "source": [
    "ticks = ['picture vocab', 'oral read', 'cryst comp ', 'fluid comp', 'total comp']\n",
    "\n",
    "fig = plt.figure(figsize=(20, 5))\n",
    "ax = fig.add_subplot(111)\n",
    "\n",
    "mins, maxs, means, stds = lr_pca.min(0), lr_pca.max(0), lr_pca.mean(0), lr_pca.std(0)\n",
    "plt.errorbar(np.arange(len(ticks))*2-.4, means, stds, \n",
    "                 fmt='.k', ecolor='gold', lw=12, label='LR-PCA')\n",
    "plt.errorbar(np.arange(len(ticks))*2-.4, means, [means - mins, maxs - means],\n",
    "                 fmt='.k', ecolor='lightgray', lw=3)\n",
    "\n",
    "mins, maxs, means, stds = combat.min(0), combat.max(0), combat.mean(0), combat.std(0)\n",
    "plt.errorbar(np.arange(len(ticks))*2-.2, means, stds, \n",
    "                 fmt='.k', ecolor='lime', lw=12, label='ComBat')\n",
    "plt.errorbar(np.arange(len(ticks))*2-.2, means, [means - mins, maxs - means],\n",
    "                 fmt='.k', ecolor='lightgray', lw=3)\n",
    "\n",
    "mins, maxs, means, stds = sog.min(0), sog.max(0), sog.mean(0), sog.std(0)\n",
    "plt.errorbar(np.arange(len(ticks))*2, means, stds, \n",
    "                 fmt='.k', ecolor='cyan', lw=12, label='SOG')\n",
    "plt.errorbar(np.arange(len(ticks))*2, means, [means - mins, maxs - means],\n",
    "                 fmt='.k', ecolor='lightgray', lw=3)\n",
    "\n",
    "mins, maxs, means, stds = vae.min(0), vae.max(0), vae.mean(0), vae.std(0)\n",
    "plt.errorbar(np.arange(len(ticks))*2+.2, means, stds, \n",
    "             fmt='.k', ecolor='blue', lw=12, label='GATE')\n",
    "plt.errorbar(np.arange(len(ticks))*2+.2, means, [means - mins, maxs - means],\n",
    "                 fmt='.k', ecolor='lightgray', lw=3)\n",
    "\n",
    "mins, maxs, means, stds = inv_vae.min(0), inv_vae.max(0), inv_vae.mean(0), inv_vae.std(0)\n",
    "plt.errorbar(np.arange(len(ticks))*2+.4, means, stds, \n",
    "             fmt='.k', ecolor='red', lw=12, label='inv-VAE')\n",
    "plt.errorbar(np.arange(len(ticks))*2+.4, means, [means - mins, maxs - means],\n",
    "                 fmt='.k', ecolor='lightgray', lw=3)\n",
    "\n",
    "\n",
    "# ax.legend(loc='upper center', bbox_to_anchor=(0.5, 1.45), ncol=5, fancybox=False, shadow=False, frameon=False)\n",
    "\n",
    "ax.set_xticks(np.arange(0, len(ticks) * 2, 2), ticks)\n",
    "ax.set_xlim(-0.75, len(ticks)*2-1.25)\n",
    "ax.set_ylabel('correlation');\n",
    "\n",
    "ax.tick_params(axis='both', length=10, width=3)\n",
    "for axis in ['top','bottom','left','right']:\n",
    "    ax.spines[axis].set_linewidth(2)\n",
    "    \n",
    "plt.tight_layout()\n",
    "# plt.savefig('../saved_figs/inv_vae_fig7_abcd.png', facecolor='white', dpi=400)"
   ]
  },
  {
   "cell_type": "code",
   "execution_count": null,
   "id": "fc5c25d7-5ea0-4b3f-b254-db0537e7a683",
   "metadata": {},
   "outputs": [],
   "source": []
  }
 ],
 "metadata": {
  "kernelspec": {
   "display_name": "Python 3 (ipykernel)",
   "language": "python",
   "name": "python3"
  },
  "language_info": {
   "codemirror_mode": {
    "name": "ipython",
    "version": 3
   },
   "file_extension": ".py",
   "mimetype": "text/x-python",
   "name": "python",
   "nbconvert_exporter": "python",
   "pygments_lexer": "ipython3",
   "version": "3.8.18"
  }
 },
 "nbformat": 4,
 "nbformat_minor": 5
}
