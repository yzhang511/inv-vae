{
 "cells": [
  {
   "cell_type": "code",
   "execution_count": 1,
   "id": "ee68bcea-4559-497a-b827-fecf537cdcbb",
   "metadata": {
    "tags": []
   },
   "outputs": [],
   "source": [
    "import numpy as np\n",
    "from pathlib import Path\n",
    "import pandas as pd\n",
    "from scipy.io import loadmat\n",
    "from scipy.stats import pearsonr\n",
    "import matplotlib\n",
    "import matplotlib.pyplot as plt \n",
    "import matplotlib.pylab as pylab\n",
    "%matplotlib inline\n",
    "\n",
    "import random\n",
    "seed = 666\n",
    "random.seed(seed)"
   ]
  },
  {
   "cell_type": "markdown",
   "id": "7e14f30b-08c4-48b4-beb9-4d933493a68c",
   "metadata": {},
   "source": [
    "check ABCD motion"
   ]
  },
  {
   "cell_type": "code",
   "execution_count": 2,
   "id": "937ed344-4d5f-4be1-9641-e30cd9739f9a",
   "metadata": {},
   "outputs": [],
   "source": [
    "data_dir = Path(\"/home/yizi/inv-vae/data/abcd\")\n",
    "abcd_motion = pd.read_csv(data_dir/\"abcd_motion/abcd_drsip101.txt\", sep=\"\\t\", low_memory=False)\n",
    "abcd_motion_desc = abcd_motion.iloc[0]\n",
    "abcd_motion = abcd_motion.iloc[1:]"
   ]
  },
  {
   "cell_type": "code",
   "execution_count": 3,
   "id": "af2afe02-3ca8-40f3-aca2-b687af566717",
   "metadata": {
    "tags": []
   },
   "outputs": [],
   "source": [
    "abcd_data = loadmat(data_dir/\"abcd_5000.mat\")\n",
    "abcd_sub_id = abcd_data[\"sub_withnet_id\"].squeeze()\n",
    "abcd_sub_id = np.array([abcd_sub_id[i].item()[:4] + \"_\" + abcd_sub_id[i].item()[4:] for i in range(len(abcd_sub_id))])\n",
    "abcd_network = abcd_data[\"count_network\"].transpose(2,0,1)\n",
    "abcd_trans = abcd_data[\"translation\"]\n",
    "abcd_rotat = abcd_data[\"rotation\"]\n",
    "abcd_cog = abcd_data[\"nih_cogn\"]\n",
    "abcd_cog_desc = abcd_data[\"nih_cogn_colname\"].squeeze()"
   ]
  },
  {
   "cell_type": "code",
   "execution_count": 4,
   "id": "277fe2a0-558a-40e7-99d1-a94cd1bfb40f",
   "metadata": {
    "tags": []
   },
   "outputs": [
    {
     "data": {
      "text/plain": [
       "array([array(['ehi_y_ss_scoreb'], dtype='<U15'),\n",
       "       array(['nihtbx_picvocab_uncorrected'], dtype='<U27'),\n",
       "       array(['nihtbx_picvocab_agecorrected'], dtype='<U28'),\n",
       "       array(['nihtbx_flanker_uncorrected'], dtype='<U26'),\n",
       "       array(['nihtbx_flanker_agecorrected'], dtype='<U27'),\n",
       "       array(['nihtbx_list_uncorrected'], dtype='<U23'),\n",
       "       array(['nihtbx_list_agecorrected'], dtype='<U24'),\n",
       "       array(['nihtbx_cardsort_uncorrected'], dtype='<U27'),\n",
       "       array(['nihtbx_cardsort_agecorrected'], dtype='<U28'),\n",
       "       array(['nihtbx_pattern_uncorrected'], dtype='<U26'),\n",
       "       array(['nihtbx_pattern_agecorrected'], dtype='<U27'),\n",
       "       array(['nihtbx_picture_uncorrected'], dtype='<U26'),\n",
       "       array(['nihtbx_picture_agecorrected'], dtype='<U27'),\n",
       "       array(['nihtbx_reading_uncorrected'], dtype='<U26'),\n",
       "       array(['nihtbx_reading_agecorrected'], dtype='<U27'),\n",
       "       array(['nihtbx_fluidcomp_uncorrected'], dtype='<U28'),\n",
       "       array(['nihtbx_fluidcomp_agecorrected'], dtype='<U29'),\n",
       "       array(['nihtbx_cryst_uncorrected'], dtype='<U24'),\n",
       "       array(['nihtbx_cryst_agecorrected'], dtype='<U25'),\n",
       "       array(['nihtbx_totalcomp_uncorrected'], dtype='<U28'),\n",
       "       array(['nihtbx_totalcomp_agecorrected'], dtype='<U29'),\n",
       "       array(['nihtbx_flanker_rawscore'], dtype='<U23'),\n",
       "       array(['nihtbx_flanker_cs'], dtype='<U17'),\n",
       "       array(['nihtbx_list_rawscore'], dtype='<U20'),\n",
       "       array(['nihtbx_cardsort_rawscore'], dtype='<U24'),\n",
       "       array(['nihtbx_cardsort_cs'], dtype='<U18'),\n",
       "       array(['nihtbx_pattern_rawscore'], dtype='<U23'),\n",
       "       array(['nihtbx_pattern_cs'], dtype='<U17'),\n",
       "       array(['nihtbx_picture_rawscore'], dtype='<U23'),\n",
       "       array(['nihtbx_picture_cs'], dtype='<U17')], dtype=object)"
      ]
     },
     "execution_count": 4,
     "metadata": {},
     "output_type": "execute_result"
    }
   ],
   "source": [
    "abcd_cog_desc"
   ]
  },
  {
   "cell_type": "code",
   "execution_count": 4,
   "id": "5229f66c-7da4-49c0-9000-065b2f21608c",
   "metadata": {
    "tags": []
   },
   "outputs": [],
   "source": [
    "abcd_common_id = np.intersect1d(abcd_sub_id, abcd_motion[\"subjectkey\"])"
   ]
  },
  {
   "cell_type": "code",
   "execution_count": 5,
   "id": "145810a1-7462-468f-beec-c9984f8b76eb",
   "metadata": {
    "tags": []
   },
   "outputs": [],
   "source": [
    "abcd_eddy_mean = np.array([\n",
    "    abcd_motion.loc[abcd_motion[\"subjectkey\"] == abcd_common_id[i]][\"dmri_rsi_meanmotion\"].to_numpy(dtype=np.double)[0] for i in range(len(abcd_common_id))\n",
    "])"
   ]
  },
  {
   "cell_type": "code",
   "execution_count": 6,
   "id": "7e297356-e443-48e3-b492-cd99dd886997",
   "metadata": {
    "tags": []
   },
   "outputs": [],
   "source": [
    "tmp_order = np.array([np.argwhere(abcd_sub_id == abcd_common_id[i]) for i in range(len(abcd_common_id))]).squeeze()"
   ]
  },
  {
   "cell_type": "code",
   "execution_count": 7,
   "id": "0458996f-84a6-4a19-91ec-6b006d9537f8",
   "metadata": {
    "tags": []
   },
   "outputs": [],
   "source": [
    "abcd_network = abcd_network[tmp_order]\n",
    "abcd_trans = abcd_trans[tmp_order]\n",
    "abcd_rotat = abcd_rotat[tmp_order]\n",
    "abcd_cog = abcd_cog[tmp_order]"
   ]
  },
  {
   "cell_type": "code",
   "execution_count": 8,
   "id": "d98f2a90-e836-4b0f-a89e-91ef991f0329",
   "metadata": {
    "tags": []
   },
   "outputs": [],
   "source": [
    "nan_mask = np.isnan(abcd_eddy_mean)"
   ]
  },
  {
   "cell_type": "code",
   "execution_count": 9,
   "id": "c76b1476-6f5b-4ca9-8402-3b301d48b2bd",
   "metadata": {
    "tags": []
   },
   "outputs": [],
   "source": [
    "abcd_eddy_mean = abcd_eddy_mean[~nan_mask]\n",
    "abcd_network = abcd_network[~nan_mask]\n",
    "abcd_trans = abcd_trans[~nan_mask]\n",
    "abcd_rotat = abcd_rotat[~nan_mask]\n",
    "abcd_cog = abcd_cog[~nan_mask]\n",
    "\n",
    "zero_mask = abcd_trans == 0 # 0 indicates missing frames\n",
    "abcd_trans[zero_mask] = np.nan\n",
    "abcd_rotat[zero_mask] = np.nan"
   ]
  },
  {
   "cell_type": "code",
   "execution_count": 30,
   "id": "3478d64e-f099-4b92-8699-5b4a4acf9aec",
   "metadata": {
    "tags": []
   },
   "outputs": [],
   "source": [
    "abcd_data_dict = {}\n",
    "abcd_data_dict.update({\"network\": abcd_network})\n",
    "abcd_data_dict.update({\"eddy_motion\": abcd_eddy_mean})\n",
    "abcd_data_dict.update({\"trans\": abcd_trans})\n",
    "abcd_data_dict.update({\"rotat\": abcd_rotat})\n",
    "abcd_data_dict.update({\"cog\": abcd_cog})\n",
    "# np.save(data_dir/\"abcd_data_dict.npy\", abcd_data_dict)"
   ]
  },
  {
   "cell_type": "code",
   "execution_count": 10,
   "id": "5dd96053-f3c1-46fe-beff-f5e37ed22a1e",
   "metadata": {
    "tags": []
   },
   "outputs": [
    {
     "name": "stdout",
     "output_type": "stream",
     "text": [
      "0.16633363044807803\n",
      "0.17422690564250362\n",
      "0.4649273831312972\n",
      "0.4454727070069074\n"
     ]
    }
   ],
   "source": [
    "print(pearsonr(abcd_eddy_mean, np.nanmean(abcd_trans, 1))[0])\n",
    "print(pearsonr(abcd_eddy_mean, np.nanmean(abcd_rotat, 1))[0])\n",
    "print(pearsonr(abcd_eddy_mean, np.nanmedian(abcd_trans, 1))[0])\n",
    "print(pearsonr(abcd_eddy_mean, np.nanmedian(abcd_rotat, 1))[0])"
   ]
  },
  {
   "cell_type": "code",
   "execution_count": 11,
   "id": "98170f1b-39de-4909-b7ca-ad24785eff9c",
   "metadata": {
    "tags": []
   },
   "outputs": [],
   "source": [
    "from sklearn.preprocessing import StandardScaler\n",
    "\n",
    "def normalize(x):\n",
    "    return StandardScaler().fit_transform(x[:,None])\n",
    "\n",
    "from inv_vae.utils.helpers import min_max_standardize"
   ]
  },
  {
   "cell_type": "code",
   "execution_count": 12,
   "id": "3be5b026-58f5-4587-918a-64ad0d7e0207",
   "metadata": {
    "tags": []
   },
   "outputs": [
    {
     "data": {
      "image/png": "[encoded data removed]",
      "text/plain": [
       "<Figure size 600x200 with 2 Axes>"
      ]
     },
     "metadata": {},
     "output_type": "display_data"
    }
   ],
   "source": [
    "fig, (ax1, ax2) = plt.subplots(1,2, figsize=(6,2))\n",
    "ax1.hist(min_max_standardize(abcd_eddy_mean), 50);\n",
    "ax1.hist(min_max_standardize(np.nanmean(abcd_trans, 1)), 50)\n",
    "ax2.hist(min_max_standardize(abcd_eddy_mean), 50);\n",
    "ax2.hist(min_max_standardize(np.nanmean(abcd_rotat, 1)), 50)\n",
    "plt.tight_layout()"
   ]
  },
  {
   "cell_type": "code",
   "execution_count": 13,
   "id": "b7c2cc2e-28a7-4468-9d8a-ecbf27e0bab2",
   "metadata": {
    "tags": []
   },
   "outputs": [
    {
     "data": {
      "image/png": "[encoded data removed]",
      "text/plain": [
       "<Figure size 600x300 with 2 Axes>"
      ]
     },
     "metadata": {},
     "output_type": "display_data"
    }
   ],
   "source": [
    "fig, (ax1, ax2) = plt.subplots(1,2, figsize=(6,3))\n",
    "ax1.scatter(min_max_standardize(abcd_eddy_mean), min_max_standardize(np.nanmean(abcd_trans, 1)), s=1)\n",
    "ax1.plot([0, 1], [0, 1], ls=\"--\", c=\"k\", alpha=.5)\n",
    "ax1.set_xlabel(\"eddy mean motion\")\n",
    "ax1.set_ylabel(\"mean translation\")\n",
    "ax1.set_title(\"ABCD corr = 0.166\")\n",
    "ax2.scatter(min_max_standardize(abcd_eddy_mean), min_max_standardize(np.nanmean(abcd_rotat, 1)), s=1)\n",
    "ax2.plot([0, 1], [0, 1], ls=\"--\", c=\"k\", alpha=.5)\n",
    "ax2.set_xlabel(\"eddy mean motion\")\n",
    "ax2.set_ylabel(\"mean rotation\")\n",
    "ax2.set_title(\"ABCD corr = 0.174\")\n",
    "plt.tight_layout()"
   ]
  },
  {
   "cell_type": "markdown",
   "id": "489fa384-cfb7-448b-a717-26498b655f2a",
   "metadata": {},
   "source": [
    "check HCP motion"
   ]
  },
  {
   "cell_type": "code",
   "execution_count": 14,
   "id": "6dff427d-921b-4d76-b95d-deac1cfe625b",
   "metadata": {
    "tags": []
   },
   "outputs": [],
   "source": [
    "data_dir = Path(\"/home/yizi/inv-vae/data/hcp\")\n",
    "hcp_data = loadmat(data_dir/\"HCP_subcortical_CMData_desikan.mat\")"
   ]
  },
  {
   "cell_type": "code",
   "execution_count": 15,
   "id": "c912ade8-7274-4823-9f39-270fe4818233",
   "metadata": {
    "tags": []
   },
   "outputs": [],
   "source": [
    "hcp_sub_id = hcp_data[\"all_id\"].squeeze()\n",
    "hcp_network = hcp_data[\"loaded_tensor_sub\"].transpose(3,2,0,1) # preprocess this matrix"
   ]
  },
  {
   "cell_type": "code",
   "execution_count": 16,
   "id": "dc54ea36-7ea8-4c04-8290-794d92bb5c79",
   "metadata": {
    "tags": []
   },
   "outputs": [],
   "source": [
    "hcp_trans = loadmat(data_dir/\"all_motion.mat\")[\"all_motion\"]\n",
    "hcp_rotat = loadmat(data_dir/\"all_rotation.mat\")[\"all_rotation\"]"
   ]
  },
  {
   "cell_type": "code",
   "execution_count": 17,
   "id": "f99f09b4-15fe-4f23-832d-43c442b9563c",
   "metadata": {
    "tags": []
   },
   "outputs": [],
   "source": [
    "hcp_cog = loadmat(data_dir/\"HCP_Covariates.mat\")[\"cog_measure\"].transpose()\n",
    "hcp_cog_id = loadmat(data_dir/\"HCP_Covariates.mat\")[\"allsubject_id\"]"
   ]
  },
  {
   "cell_type": "code",
   "execution_count": 18,
   "id": "9b6dbb8b-1ea7-4be2-907e-de6e53876167",
   "metadata": {
    "tags": []
   },
   "outputs": [],
   "source": [
    "hcp_common_id = np.intersect1d(hcp_sub_id, hcp_cog_id)"
   ]
  },
  {
   "cell_type": "code",
   "execution_count": 19,
   "id": "81cc0fe1-551c-4f0d-847f-ff5ae0774717",
   "metadata": {
    "tags": []
   },
   "outputs": [],
   "source": [
    "hcp_cog_order = np.array([np.argwhere(hcp_cog_id == hcp_common_id[i]) for i in range(len(hcp_common_id))]).squeeze()\n",
    "hcp_cog = hcp_cog[hcp_cog_order]\n",
    "hcp_sub_order = np.array([np.argwhere(hcp_sub_id == hcp_common_id[i]) for i in range(len(hcp_common_id))]).squeeze()\n",
    "hcp_network = hcp_network[hcp_sub_order]\n",
    "hcp_trans = hcp_trans[hcp_sub_order]\n",
    "hcp_rotat = hcp_rotat[hcp_sub_order]"
   ]
  },
  {
   "cell_type": "code",
   "execution_count": 20,
   "id": "fc3f1ff9-b35e-4faf-84ec-258bac221283",
   "metadata": {
    "tags": []
   },
   "outputs": [],
   "source": [
    "zero_mask = hcp_trans == 0 # 0 indicates missing frames\n",
    "hcp_trans[zero_mask] = np.nan\n",
    "hcp_rotat[zero_mask] = np.nan"
   ]
  },
  {
   "cell_type": "code",
   "execution_count": 21,
   "id": "38ad5457-edb5-4855-ad27-a16dafb3ac62",
   "metadata": {
    "tags": []
   },
   "outputs": [],
   "source": [
    "hcp_eddy_mean = []\n",
    "for sub_id in hcp_common_id:\n",
    "    eddy_path = data_dir/f\"hcp_motion/{sub_id}/T1w/Diffusion/eddylogs/eddy_unwarped_images.eddy_movement_rms\"\n",
    "    hcp_eddy_mean.append(\n",
    "        pd.read_csv(eddy_path, delim_whitespace=True).to_numpy().mean(0)[0]\n",
    "    )\n",
    "hcp_eddy_mean = np.array(hcp_eddy_mean)"
   ]
  },
  {
   "cell_type": "code",
   "execution_count": 22,
   "id": "9ffd3185-847f-4bc0-87be-1596f7e880b3",
   "metadata": {
    "tags": []
   },
   "outputs": [],
   "source": [
    "nan_mask = np.delete(np.arange(len(hcp_common_id)), [148, 179, 438, 823])\n",
    "hcp_eddy_mean = hcp_eddy_mean[nan_mask]\n",
    "hcp_trans = hcp_trans[nan_mask]\n",
    "hcp_rotat = hcp_rotat[nan_mask]\n",
    "hcp_network = hcp_network[nan_mask]\n",
    "hcp_cog = hcp_cog[nan_mask]"
   ]
  },
  {
   "cell_type": "code",
   "execution_count": 28,
   "id": "277ef82f-0473-463b-b610-a07ffe43a010",
   "metadata": {
    "tags": []
   },
   "outputs": [],
   "source": [
    "hcp_data_dict = {}\n",
    "hcp_data_dict.update({\"network\": hcp_network})\n",
    "hcp_data_dict.update({\"eddy_motion\": hcp_eddy_mean})\n",
    "hcp_data_dict.update({\"trans\": hcp_trans})\n",
    "hcp_data_dict.update({\"rotat\": hcp_rotat})\n",
    "hcp_data_dict.update({\"cog\": hcp_cog})\n",
    "# np.save(data_dir/\"hcp_data_dict.npy\", hcp_data_dict)"
   ]
  },
  {
   "cell_type": "code",
   "execution_count": 23,
   "id": "153f4c7b-2424-4db5-84a4-bde8aa678f1c",
   "metadata": {
    "tags": []
   },
   "outputs": [
    {
     "name": "stdout",
     "output_type": "stream",
     "text": [
      "0.17588835331355646\n",
      "0.17159950497066975\n",
      "0.15338530799210046\n",
      "0.1597247451166659\n"
     ]
    }
   ],
   "source": [
    "print(pearsonr(hcp_eddy_mean, np.nanmean(hcp_trans, 1))[0])\n",
    "print(pearsonr(hcp_eddy_mean, np.nanmean(hcp_rotat, 1))[0])\n",
    "print(pearsonr(hcp_eddy_mean, np.nanmedian(hcp_trans, 1))[0])\n",
    "print(pearsonr(hcp_eddy_mean, np.nanmedian(hcp_rotat, 1))[0])"
   ]
  },
  {
   "cell_type": "code",
   "execution_count": 24,
   "id": "d0108309-78a2-4405-ab36-6b34ea07be0a",
   "metadata": {
    "tags": []
   },
   "outputs": [
    {
     "data": {
      "image/png": "[encoded data removed]",
      "text/plain": [
       "<Figure size 600x200 with 2 Axes>"
      ]
     },
     "metadata": {},
     "output_type": "display_data"
    }
   ],
   "source": [
    "fig, (ax1, ax2) = plt.subplots(1,2, figsize=(6,2))\n",
    "ax1.hist(min_max_standardize(hcp_eddy_mean), 50);\n",
    "ax1.hist(min_max_standardize(np.nanmean(hcp_trans, 1)), 50)\n",
    "ax2.hist(min_max_standardize(hcp_eddy_mean), 50);\n",
    "ax2.hist(min_max_standardize(np.nanmean(hcp_rotat, 1)), 50)\n",
    "plt.tight_layout()"
   ]
  },
  {
   "cell_type": "code",
   "execution_count": 25,
   "id": "af9b8460-a6a4-4701-8db7-38cbd1f952c1",
   "metadata": {
    "tags": []
   },
   "outputs": [
    {
     "data": {
      "image/png": "[encoded data removed]",
      "text/plain": [
       "<Figure size 600x300 with 2 Axes>"
      ]
     },
     "metadata": {},
     "output_type": "display_data"
    }
   ],
   "source": [
    "fig, (ax1, ax2) = plt.subplots(1,2, figsize=(6,3))\n",
    "ax1.scatter(min_max_standardize(hcp_eddy_mean), min_max_standardize(np.nanmean(hcp_trans, 1)), s=1)\n",
    "ax1.plot([0, 1], [0, 1], ls=\"--\", c=\"k\", alpha=.5)\n",
    "ax1.set_xlabel(\"eddy mean motion\")\n",
    "ax1.set_ylabel(\"mean translation\")\n",
    "ax1.set_title(\"HCP corr = 0.176\")\n",
    "ax2.scatter(min_max_standardize(hcp_eddy_mean), min_max_standardize(np.nanmean(hcp_rotat, 1)), s=1)\n",
    "ax2.plot([0, 1], [0, 1], ls=\"--\", c=\"k\", alpha=.5)\n",
    "ax2.set_xlabel(\"eddy mean motion\")\n",
    "ax2.set_ylabel(\"mean rotation\")\n",
    "ax2.set_title(\"HCP corr = 0.172\")\n",
    "plt.tight_layout()"
   ]
  },
  {
   "cell_type": "code",
   "execution_count": null,
   "id": "82991df0-a663-499d-b7c0-046748e80c02",
   "metadata": {},
   "outputs": [],
   "source": []
  }
 ],
 "metadata": {
  "kernelspec": {
   "display_name": "Python 3 (ipykernel)",
   "language": "python",
   "name": "python3"
  },
  "language_info": {
   "codemirror_mode": {
    "name": "ipython",
    "version": 3
   },
   "file_extension": ".py",
   "mimetype": "text/x-python",
   "name": "python",
   "nbconvert_exporter": "python",
   "pygments_lexer": "ipython3",
   "version": "3.8.18"
  }
 },
 "nbformat": 4,
 "nbformat_minor": 5
}
